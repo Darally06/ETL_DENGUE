{
 "cells": [
  {
   "cell_type": "markdown",
   "id": "8174076f",
   "metadata": {},
   "source": [
    "# **ETL - COLOMBIA**"
   ]
  },
  {
   "cell_type": "code",
   "execution_count": 1,
   "id": "faaf42bd",
   "metadata": {},
   "outputs": [],
   "source": [
    "# [Configuración] Importación de librerías\n",
    "import pandas as pd\n",
    "import numpy as np\n",
    "import unicodedata\n",
    "import re\n",
    "import os"
   ]
  },
  {
   "cell_type": "code",
   "execution_count": 2,
   "id": "9f15bdf8",
   "metadata": {},
   "outputs": [
    {
     "name": "stdout",
     "output_type": "stream",
     "text": [
      "✅ 22 archivos cargados desde ../DATA/raw_colombia\n"
     ]
    }
   ],
   "source": [
    "# [Configuración] Lectura de los archivos CSV\n",
    "ruta = \"../DATA/raw_colombia\" \n",
    "archivos = [f for f in os.listdir(ruta) if f.endswith(\".csv\")]\n",
    "dataframes = {}\n",
    "for archivo in archivos:\n",
    "    path = os.path.join(ruta, archivo)\n",
    "    df = pd.read_csv(path, encoding='Latin_1', low_memory=False)\n",
    "    df.columns = df.columns.str.lower()\n",
    "    dataframes[archivo] = df\n",
    "\n",
    "print(f\"✅ {len(dataframes)} archivos cargados desde {ruta}\")"
   ]
  },
  {
   "cell_type": "code",
   "execution_count": 3,
   "id": "d89b5375",
   "metadata": {},
   "outputs": [],
   "source": [
    "# [Función] Limpiar nombres de columnas\n",
    "def limpiar_texto(texto):\n",
    "    if not isinstance(texto, str):\n",
    "        return texto\n",
    "    texto = texto.replace(\"ã±\", \"ñ\").replace(\"Ã±\", \"ñ\").replace(\"ï¿½\", \"ñ\")\n",
    "    texto = unicodedata.normalize(\"NFKC\", texto)\n",
    "    texto = re.sub(r'\\s+', '_', texto.strip().lower())\n",
    "    return texto\n",
    "\n",
    "# Limpiar nombres de columnas de todos los DataFrames\n",
    "for nombre, df in dataframes.items():\n",
    "    df.columns = [limpiar_texto(col) for col in df.columns]\n",
    "    dataframes[nombre] = df\n"
   ]
  },
  {
   "cell_type": "code",
   "execution_count": 4,
   "id": "fa40ee47",
   "metadata": {},
   "outputs": [
    {
     "name": "stdout",
     "output_type": "stream",
     "text": [
      "🗑️ En 'Datos_2013_210.csv' se eliminaron: ['ajuste', 'cbmte', 'cer_def', 'cod_ase', 'cod_dpto_n', 'cod_dpto_o', 'cod_dpto_r', 'cod_mun_n', 'cod_mun_o', 'cod_mun_r', 'cod_pais_o', 'cod_pais_r', 'cod_pre', 'cod_sub', 'confirmados', 'consecutive', 'consecutive_origen', 'departamento_notificacion', 'departamento_residencia', 'estado_final_de_caso', 'estrato', 'fec_aju', 'fec_arc_xl', 'fec_def', 'fm_fuerza', 'fm_grado', 'fm_unidad', 'fuente', 'gp_carcela', 'gp_desmovi', 'gp_desplaz', 'gp_discapa', 'gp_gestan', 'gp_indigen', 'gp_mad_com', 'gp_migrant', 'gp_otros', 'gp_pobicfb', 'gp_psiquia', 'gp_vic_vio', 'gru_pob', 'municipio', 'municipio_notificacion', 'municipio_residencia', 'nacionalidad', 'nom_est_f_caso', 'nom_grupo', 'nom_upgd', 'nombre_evento', 'nombre_nacionalidad', 'ocupacion', 'pais_ocurrencia', 'pais_residencia', 'sem_ges', 'va_sispro']\n",
      "🗑️ En 'Datos_2013_220.csv' se eliminaron: ['ajuste', 'cbmte', 'cen_pobla', 'cer_def', 'cod_ase', 'cod_dpto_n', 'cod_dpto_o', 'cod_dpto_r', 'cod_mun_n', 'cod_mun_o', 'cod_mun_r', 'cod_pais_o', 'cod_pre', 'cod_sub', 'confirmados', 'consecutive', 'departamento_notificacion', 'departamento_residencia', 'evento', 'fec_aju', 'fec_arc_xl', 'fec_def', 'fm_fuerza', 'fm_grado', 'fm_unidad', 'gp_carcela', 'gp_desmovi', 'gp_desplaz', 'gp_discapa', 'gp_gestan', 'gp_indigen', 'gp_mad_com', 'gp_migrant', 'gp_otros', 'gp_pobicfb', 'gp_psiquia', 'gp_vic_vio', 'gru_pob', 'localidad', 'municipio', 'municipio_notificacion', 'municipio_residencia', 'nombre_upgd', 'ocupacion', 'va_sispro']\n",
      "🗑️ En 'Datos_2014_210.csv' se eliminaron: ['ajuste', 'cbmte', 'cer_def', 'cod_ase', 'cod_dpto_n', 'cod_dpto_o', 'cod_dpto_r', 'cod_mun_n', 'cod_mun_o', 'cod_mun_r', 'cod_pais_o', 'cod_pais_r', 'cod_pre', 'cod_sub', 'confirmados', 'consecutive', 'consecutive_origen', 'departamento_notificacion', 'departamento_residencia', 'estado_final_de_caso', 'estrato', 'fec_aju', 'fec_arc_xl', 'fec_def', 'fm_fuerza', 'fm_grado', 'fm_unidad', 'fuente', 'gp_carcela', 'gp_desmovi', 'gp_desplaz', 'gp_discapa', 'gp_gestan', 'gp_indigen', 'gp_mad_com', 'gp_migrant', 'gp_otros', 'gp_pobicfb', 'gp_psiquia', 'gp_vic_vio', 'gru_pob', 'municipio', 'municipio_notificacion', 'municipio_residencia', 'nacionalidad', 'nom_est_f_caso', 'nom_grupo', 'nom_upgd', 'nombre_evento', 'nombre_nacionalidad', 'ocupacion', 'pais_ocurrencia', 'pais_residencia', 'sem_ges', 'va_sispro']\n",
      "🗑️ En 'Datos_2014_220.csv' se eliminaron: ['ajuste', 'cbmte', 'cen_pobla', 'cer_def', 'cod_ase', 'cod_dpto_n', 'cod_dpto_o', 'cod_dpto_r', 'cod_mun_n', 'cod_mun_o', 'cod_mun_r', 'cod_pais_o', 'cod_pre', 'cod_sub', 'confirmados', 'consecutive', 'departamento_notificacion', 'departamento_residencia', 'evento', 'fec_aju', 'fec_arc_xl', 'fec_def', 'fm_fuerza', 'fm_grado', 'fm_unidad', 'gp_carcela', 'gp_desmovi', 'gp_desplaz', 'gp_discapa', 'gp_gestan', 'gp_indigen', 'gp_mad_com', 'gp_migrant', 'gp_otros', 'gp_pobicfb', 'gp_psiquia', 'gp_vic_vio', 'gru_pob', 'localidad', 'municipio', 'municipio_notificacion', 'municipio_residencia', 'nombre_upgd', 'ocupacion', 'va_sispro']\n",
      "🗑️ En 'Datos_2015_210.csv' se eliminaron: ['ajuste', 'cbmte', 'cer_def', 'cod_ase', 'cod_dpto_n', 'cod_dpto_o', 'cod_dpto_r', 'cod_mun_n', 'cod_mun_o', 'cod_mun_r', 'cod_pais_o', 'cod_pais_r', 'cod_pre', 'cod_sub', 'confirmados', 'consecutive', 'consecutive_origen', 'departamento_notificacion', 'departamento_residencia', 'estado_final_de_caso', 'estrato', 'fec_aju', 'fec_arc_xl', 'fec_def', 'fm_fuerza', 'fm_grado', 'fm_unidad', 'fuente', 'gp_carcela', 'gp_desmovi', 'gp_desplaz', 'gp_discapa', 'gp_gestan', 'gp_indigen', 'gp_mad_com', 'gp_migrant', 'gp_otros', 'gp_pobicfb', 'gp_psiquia', 'gp_vic_vio', 'gru_pob', 'municipio', 'municipio_notificacion', 'municipio_residencia', 'nacionalidad', 'nom_est_f_caso', 'nom_grupo', 'nom_upgd', 'nombre_evento', 'nombre_nacionalidad', 'ocupacion', 'pais_ocurrencia', 'pais_residencia', 'sem_ges', 'va_sispro']\n",
      "🗑️ En 'Datos_2015_220.csv' se eliminaron: ['ajuste', 'cbmte', 'cen_pobla', 'cer_def', 'cod_ase', 'cod_dpto_n', 'cod_dpto_o', 'cod_dpto_r', 'cod_mun_n', 'cod_mun_o', 'cod_mun_r', 'cod_pais_o', 'cod_pre', 'cod_sub', 'confirmados', 'consecutive', 'departamento_notificacion', 'departamento_residencia', 'evento', 'fec_aju', 'fec_arc_xl', 'fec_def', 'fm_fuerza', 'fm_grado', 'fm_unidad', 'gp_carcela', 'gp_desmovi', 'gp_desplaz', 'gp_discapa', 'gp_gestan', 'gp_indigen', 'gp_mad_com', 'gp_migrant', 'gp_otros', 'gp_pobicfb', 'gp_psiquia', 'gp_vic_vio', 'gru_pob', 'localidad', 'municipio', 'municipio_notificacion', 'municipio_residencia', 'nombre_upgd', 'ocupacion', 'va_sispro']\n",
      "🗑️ En 'Datos_2016_210.csv' se eliminaron: ['ajuste', 'cbmte', 'cer_def', 'cod_ase', 'cod_dpto_n', 'cod_dpto_o', 'cod_dpto_r', 'cod_eve.1', 'cod_mun_n', 'cod_mun_o', 'cod_mun_r', 'cod_pais_o', 'cod_pais_r', 'cod_pre', 'cod_sub', 'confirmados', 'consecutive', 'consecutive_origen', 'departamento_notificacion', 'departamento_residencia', 'estado_final_de_caso', 'estrato', 'fec_aju', 'fec_arc_xl', 'fec_def', 'fm_fuerza', 'fm_grado', 'fm_unidad', 'fuente', 'gp_carcela', 'gp_desmovi', 'gp_desplaz', 'gp_discapa', 'gp_gestan', 'gp_indigen', 'gp_mad_com', 'gp_migrant', 'gp_otros', 'gp_pobicfb', 'gp_psiquia', 'gp_vic_vio', 'gru_pob', 'municipio', 'municipio_notificacion', 'municipio_residencia', 'nacionalidad', 'nom_est_f_caso', 'nom_grupo', 'nom_upgd', 'nombre_evento', 'nombre_nacionalidad', 'ocupacion', 'pais_ocurrencia', 'pais_residencia', 'sem_ges', 'va_sispro']\n",
      "🗑️ En 'Datos_2016_220.csv' se eliminaron: ['ajuste', 'cbmte', 'cen_pobla', 'cer_def', 'cod_ase', 'cod_dpto_n', 'cod_dpto_o', 'cod_dpto_r', 'cod_mun_n', 'cod_mun_o', 'cod_mun_r', 'cod_pais_o', 'cod_pre', 'cod_sub', 'confirmados', 'consecutive', 'departamento_notificacion', 'departamento_residencia', 'evento', 'fec_aju', 'fec_arc_xl', 'fec_def', 'fm_fuerza', 'fm_grado', 'fm_unidad', 'gp_carcela', 'gp_desmovi', 'gp_desplaz', 'gp_discapa', 'gp_gestan', 'gp_indigen', 'gp_mad_com', 'gp_migrant', 'gp_otros', 'gp_pobicfb', 'gp_psiquia', 'gp_vic_vio', 'gru_pob', 'localidad', 'municipio', 'municipio_notificacion', 'municipio_residencia', 'nombre_upgd', 'ocupacion', 'va_sispro']\n",
      "🗑️ En 'Datos_2017_210.csv' se eliminaron: ['ajuste', 'cbmte', 'cer_def', 'cod_ase', 'cod_dpto_n', 'cod_dpto_o', 'cod_dpto_r', 'cod_mun_n', 'cod_mun_o', 'cod_mun_r', 'cod_pais_o', 'cod_pais_r', 'cod_pre', 'cod_sub', 'confirmados', 'consecutive', 'consecutive_origen', 'departamento_notificacion', 'departamento_residencia', 'estado_final_de_caso', 'estrato', 'fec_aju', 'fec_arc_xl', 'fec_def', 'fm_fuerza', 'fm_grado', 'fm_unidad', 'fuente', 'gp_carcela', 'gp_desmovi', 'gp_desplaz', 'gp_discapa', 'gp_gestan', 'gp_indigen', 'gp_mad_com', 'gp_migrant', 'gp_otros', 'gp_pobicfb', 'gp_psiquia', 'gp_vic_vio', 'gru_pob', 'municipio', 'municipio_notificacion', 'municipio_residencia', 'nacionalidad', 'nom_est_f_caso', 'nom_grupo', 'nom_upgd', 'nombre_evento', 'nombre_nacionalidad', 'ocupacion', 'pais_ocurrencia', 'pais_residencia', 'partición', 'sem_ges', 'va_sispro']\n",
      "🗑️ En 'Datos_2017_220.csv' se eliminaron: ['ajuste', 'cbmte', 'cen_pobla', 'cer_def', 'cod_ase', 'cod_dpto_n', 'cod_dpto_o', 'cod_dpto_r', 'cod_mun_n', 'cod_mun_o', 'cod_mun_r', 'cod_pais_o', 'cod_pre', 'cod_sub', 'confirmados', 'consecutive', 'departamento_notificacion', 'departamento_residencia', 'evento', 'fec_aju', 'fec_arc_xl', 'fec_def', 'fm_fuerza', 'fm_grado', 'fm_unidad', 'gp_carcela', 'gp_desmovi', 'gp_desplaz', 'gp_discapa', 'gp_gestan', 'gp_indigen', 'gp_mad_com', 'gp_migrant', 'gp_otros', 'gp_pobicfb', 'gp_psiquia', 'gp_vic_vio', 'gru_pob', 'localidad', 'municipio', 'municipio_notificacion', 'municipio_residencia', 'nombre_upgd', 'ocupacion', 'va_sispro']\n",
      "🗑️ En 'Datos_2018_210.csv' se eliminaron: ['ajuste', 'cbmte', 'cer_def', 'cod_ase', 'cod_dpto_n', 'cod_dpto_o', 'cod_dpto_r', 'cod_mun_n', 'cod_mun_o', 'cod_mun_r', 'cod_pais_o', 'cod_pais_r', 'cod_pre', 'cod_sub', 'confirmados', 'consecutive', 'consecutive_origen', 'departamento_notificacion', 'departamento_residencia', 'estado_final_de_caso', 'estrato', 'fec_aju', 'fec_arc_xl', 'fec_def', 'fm_fuerza', 'fm_grado', 'fm_unidad', 'fuente', 'gp_carcela', 'gp_desmovi', 'gp_desplaz', 'gp_discapa', 'gp_gestan', 'gp_indigen', 'gp_mad_com', 'gp_migrant', 'gp_otros', 'gp_pobicfb', 'gp_psiquia', 'gp_vic_vio', 'gru_pob', 'municipio', 'municipio_notificacion', 'municipio_residencia', 'nacionalidad', 'nom_est_f_caso', 'nom_grupo', 'nom_upgd', 'nombre_evento', 'nombre_nacionalidad', 'ocupacion', 'pais_ocurrencia', 'pais_residencia', 'partición', 'sem_ges', 'va_sispro']\n",
      "🗑️ En 'Datos_2018_220.csv' se eliminaron: ['ajuste', 'bar_ver', 'cbmte', 'cen_pobla', 'cer_def', 'cod_ase', 'cod_dpto_n', 'cod_dpto_o', 'cod_dpto_r', 'cod_mun_n', 'cod_mun_o', 'cod_mun_r', 'cod_pais_o', 'cod_pre', 'cod_sub', 'confirmados', 'consecutive', 'departamento_residencia', 'estado_final_de_caso', 'evento', 'fec_aju', 'fec_arc_xl', 'fec_def', 'fm_fuerza', 'fm_grado', 'fm_unidad', 'gp_carcela', 'gp_desmovi', 'gp_desplaz', 'gp_discapa', 'gp_gestan', 'gp_indigen', 'gp_mad_com', 'gp_migrant', 'gp_otros', 'gp_pobicfb', 'gp_psiquia', 'gp_vic_vio', 'gru_pob', 'localidad', 'municipio', 'municipio_residencia', 'ocupacion', 'vereda', 'version', 'est_f_caso']\n",
      "🗑️ En 'Datos_2019_210.csv' se eliminaron: ['ajuste', 'cbmte', 'cer_def', 'cod_ase', 'cod_dpto_n', 'cod_dpto_o', 'cod_dpto_r', 'cod_mun_n', 'cod_mun_o', 'cod_mun_r', 'cod_pais_o', 'cod_pais_r', 'cod_pre', 'cod_sub', 'confirmados', 'consecutive', 'consecutive_origen', 'departamento_notificacion', 'departamento_residencia', 'estado_final_de_caso', 'estrato', 'fec_aju', 'fec_arc_xl', 'fec_def', 'fm_fuerza', 'fm_grado', 'fm_unidad', 'fuente', 'gp_carcela', 'gp_desmovi', 'gp_desplaz', 'gp_discapa', 'gp_gestan', 'gp_indigen', 'gp_mad_com', 'gp_migrant', 'gp_otros', 'gp_pobicfb', 'gp_psiquia', 'gp_vic_vio', 'gru_pob', 'municipio', 'municipio_notificacion', 'municipio_residencia', 'nacionalidad', 'nom_est_f_caso', 'nom_grupo', 'nom_upgd', 'nombre_evento', 'nombre_nacionalidad', 'ocupacion', 'pais_ocurrencia', 'pais_residencia', 'sem_ges', 'va_sispro']\n",
      "🗑️ En 'Datos_2019_220.csv' se eliminaron: ['ajuste', 'bar_ver', 'cbmte', 'cen_pobla', 'cer_def', 'cod_ase', 'cod_dpto_n', 'cod_dpto_o', 'cod_dpto_r', 'cod_mun_n', 'cod_mun_o', 'cod_mun_r', 'cod_pais_o', 'cod_pre', 'cod_sub', 'confirmados', 'consecutive', 'departamento_notificacion', 'departamento_residencia', 'estado_final_de_caso', 'estrato', 'fec_aju', 'fec_def', 'fm_fuerza', 'fm_grado', 'fm_unidad', 'fuente', 'gp_carcela', 'gp_desmovi', 'gp_desplaz', 'gp_discapa', 'gp_gestan', 'gp_indigen', 'gp_mad_com', 'gp_migrant', 'gp_otros', 'gp_pobicfb', 'gp_psiquia', 'gp_vic_vio', 'gru_pob', 'localidad', 'municipio', 'municipio_notificacion', 'municipio_residencia', 'nacionalidad', 'nom_est_f_caso', 'nom_grupo', 'nombre_evento', 'nombre_nacionalidad', 'ocupacion', 'sem_ges', 'vereda']\n",
      "🗑️ En 'Datos_2020_210.csv' se eliminaron: ['ajuste', 'cbmte', 'cer_def', 'cod_ase', 'cod_dpto_n', 'cod_dpto_o', 'cod_dpto_r', 'cod_mun_n', 'cod_mun_o', 'cod_mun_r', 'cod_pais_o', 'cod_pais_r', 'cod_pre', 'cod_sub', 'confirmados', 'consecutive', 'consecutive_origen', 'departamento_notificacion', 'departamento_residencia', 'estado_final_de_caso', 'estrato', 'fec_aju', 'fec_arc_xl', 'fec_def', 'fm_fuerza', 'fm_grado', 'fm_unidad', 'fuente', 'gp_carcela', 'gp_desmovi', 'gp_desplaz', 'gp_discapa', 'gp_gestan', 'gp_indigen', 'gp_mad_com', 'gp_migrant', 'gp_otros', 'gp_pobicfb', 'gp_psiquia', 'gp_vic_vio', 'gru_pob', 'municipio', 'municipio_notificacion', 'municipio_residencia', 'nacionalidad', 'nom_est_f_caso', 'nom_grupo', 'nom_upgd', 'nombre_evento', 'nombre_nacionalidad', 'ocupacion', 'pais_ocurrencia', 'pais_residencia', 'sem_ges', 'va_sispro']\n",
      "🗑️ En 'Datos_2020_220.csv' se eliminaron: ['ajuste', 'cbmte', 'cer_def', 'cod_ase', 'cod_dpto_n', 'cod_dpto_o', 'cod_dpto_r', 'cod_mun_n', 'cod_mun_o', 'cod_mun_r', 'cod_pais_o', 'cod_pais_r', 'cod_pre', 'cod_sub', 'confirmados', 'consecutive', 'consecutive_origen', 'departamento_notificacion', 'departamento_residencia', 'estado_final_de_caso', 'estrato', 'fec_aju', 'fec_arc_xl', 'fec_def', 'fm_fuerza', 'fm_grado', 'fm_unidad', 'fuente', 'gp_carcela', 'gp_desmovi', 'gp_desplaz', 'gp_discapa', 'gp_gestan', 'gp_indigen', 'gp_mad_com', 'gp_migrant', 'gp_otros', 'gp_pobicfb', 'gp_psiquia', 'gp_vic_vio', 'gru_pob', 'municipio', 'municipio_notificacion', 'municipio_residencia', 'nacionalidad', 'nom_est_f_caso', 'nom_grupo', 'nom_upgd', 'nombre_evento', 'nombre_nacionalidad', 'ocupacion', 'pais_ocurrencia', 'pais_residencia', 'partición', 'sem_ges', 'va_sispro']\n",
      "🗑️ En 'Datos_2021_210.csv' se eliminaron: ['ajuste', 'cbmte', 'cer_def', 'cod_ase', 'cod_dpto_n', 'cod_dpto_o', 'cod_dpto_r', 'cod_mun_n', 'cod_mun_o', 'cod_mun_r', 'cod_pais_o', 'cod_pais_r', 'cod_pre', 'cod_sub', 'confirmados', 'consecutive', 'consecutive_origen', 'departamento_notificacion', 'departamento_residencia', 'estado_final_de_caso', 'estrato', 'fec_aju', 'fec_arc_xl', 'fec_def', 'fm_fuerza', 'fm_grado', 'fm_unidad', 'fuente', 'gp_carcela', 'gp_desmovi', 'gp_desplaz', 'gp_discapa', 'gp_gestan', 'gp_indigen', 'gp_mad_com', 'gp_migrant', 'gp_otros', 'gp_pobicfb', 'gp_psiquia', 'gp_vic_vio', 'gru_pob', 'municipio', 'municipio_notificacion', 'municipio_residencia', 'nacionalidad', 'nom_est_f_caso', 'nom_grupo', 'nom_upgd', 'nombre_evento', 'nombre_nacionalidad', 'ocupacion', 'pais_ocurrencia', 'pais_residencia', 'partición', 'sem_ges', 'va_sispro']\n",
      "🗑️ En 'Datos_2021_220.csv' se eliminaron: ['ajuste', 'bar_ver', 'cbmte', 'cen_pobla', 'cer_def', 'cod_ase', 'cod_dpto_n', 'cod_dpto_o', 'cod_dpto_r', 'cod_mun_n', 'cod_mun_o', 'cod_mun_r', 'cod_pais_o', 'cod_pais_r', 'cod_pre', 'cod_sub', 'confirmados', 'consecutive', 'consecutive_origen', 'departamento_notificacion', 'departamento_residencia', 'estado_final_de_caso', 'estrato', 'fec_aju', 'fec_arc_xl', 'fec_def', 'fm_fuerza', 'fm_grado', 'fm_unidad', 'fuente', 'gp_carcela', 'gp_desmovi', 'gp_desplaz', 'gp_discapa', 'gp_gestan', 'gp_indigen', 'gp_mad_com', 'gp_migrant', 'gp_otros', 'gp_pobicfb', 'gp_psiquia', 'gp_vic_vio', 'gru_pob', 'localidad', 'municipio', 'municipio_notificacion', 'municipio_residencia', 'nacionalidad', 'nom_est_f_caso', 'nom_grupo', 'nombre_evento', 'nombre_nacionalidad', 'ocupacion', 'pais_ocurrencia', 'pais_residencia', 'sem_ges', 'va_sispro', 'vereda', 'version']\n",
      "🗑️ En 'Datos_2022_210.csv' se eliminaron: ['ajuste', 'cbmte', 'cer_def', 'cod_ase', 'cod_dpto_n', 'cod_dpto_o', 'cod_dpto_r', 'cod_mun_n', 'cod_mun_o', 'cod_mun_r', 'cod_pais_o', 'cod_pais_r', 'cod_pre', 'cod_sub', 'confirmados', 'consecutive', 'consecutive_origen', 'departamento_notificacion', 'departamento_residencia', 'estado_final_de_caso', 'estrato', 'fec_aju', 'fec_arc_xl', 'fec_def', 'fm_fuerza', 'fm_grado', 'fm_unidad', 'fuente', 'gp_carcela', 'gp_desmovi', 'gp_desplaz', 'gp_discapa', 'gp_gestan', 'gp_indigen', 'gp_mad_com', 'gp_migrant', 'gp_otros', 'gp_pobicfb', 'gp_psiquia', 'gp_vic_vio', 'gru_pob', 'municipio', 'municipio_notificacion', 'municipio_residencia', 'nacionalidad', 'nom_est_f_caso', 'nom_grupo', 'nom_upgd', 'nombre_evento', 'nombre_nacionalidad', 'ocupacion', 'pais_ocurrencia', 'pais_residencia', 'sem_ges', 'va_sispro']\n",
      "🗑️ En 'Datos_2022_220.csv' se eliminaron: ['ajuste', 'bar_ver', 'cbmte', 'cen_pobla', 'cer_def', 'cod_ase', 'cod_dpto_n', 'cod_dpto_o', 'cod_dpto_r', 'cod_mun_n', 'cod_mun_o', 'cod_mun_r', 'cod_pais_o', 'cod_pais_r', 'cod_pre', 'cod_sub', 'confirmados', 'consecutive', 'consecutive_origen', 'departamento_notificacion', 'departamento_residencia', 'estado_final_de_caso', 'estrato', 'fec_aju', 'fec_arc_xl', 'fec_def', 'fm_fuerza', 'fm_grado', 'fm_unidad', 'fuente', 'gp_carcela', 'gp_desmovi', 'gp_desplaz', 'gp_discapa', 'gp_gestan', 'gp_indigen', 'gp_mad_com', 'gp_migrant', 'gp_otros', 'gp_pobicfb', 'gp_psiquia', 'gp_vic_vio', 'gru_pob', 'localidad', 'municipio', 'municipio_notificacion', 'municipio_residencia', 'nacionalidad', 'nom_est_f_caso', 'nom_grupo', 'nom_upgd', 'nombre_evento', 'nombre_nacionalidad', 'ocupacion', 'pais_ocurrencia', 'pais_residencia', 'sem_ges', 'va_sispro', 'vereda']\n",
      "🗑️ En 'Datos_2023_210.csv' se eliminaron: ['ajuste', 'cbmte', 'cer_def', 'cod_ase', 'cod_dpto_n', 'cod_dpto_o', 'cod_dpto_r', 'cod_mun_n', 'cod_mun_o', 'cod_mun_r', 'cod_pais_o', 'cod_pais_r', 'cod_pre', 'cod_sub', 'confirmados', 'consecutive', 'consecutive_origen', 'departamento_notificacion', 'departamento_residencia', 'estado_final_de_caso', 'estrato', 'fec_aju', 'fec_arc_xl', 'fec_def', 'fm_fuerza', 'fm_grado', 'fm_unidad', 'fuente', 'gp_carcela', 'gp_desmovi', 'gp_desplaz', 'gp_discapa', 'gp_gestan', 'gp_indigen', 'gp_mad_com', 'gp_migrant', 'gp_otros', 'gp_pobicfb', 'gp_psiquia', 'gp_vic_vio', 'gru_pob', 'municipio', 'municipio_notificacion', 'municipio_residencia', 'nacionalidad', 'nom_est_f_caso', 'nom_grupo', 'nom_upgd', 'nombre_evento', 'nombre_nacionalidad', 'ocupacion', 'pais_ocurrencia', 'pais_residencia', 'sem_ges', 'va_sispro']\n",
      "🗑️ En 'Datos_2023_220.csv' se eliminaron: ['ajuste', 'cbmte', 'cer_def', 'cod_ase', 'cod_dpto_n', 'cod_dpto_o', 'cod_dpto_r', 'cod_mun_n', 'cod_mun_o', 'cod_mun_r', 'cod_pais_o', 'cod_pais_r', 'cod_pre', 'cod_sub', 'confirmados', 'consecutive_12', 'consecutive_origen', 'departamento_notificacion', 'departamento_residencia', 'estado_final_de_caso', 'estrato', 'fec_aju', 'fec_arc_xl', 'fec_def', 'fm_fuerza', 'fm_grado', 'fm_unidad', 'fuente', 'gp_carcela', 'gp_desmovi', 'gp_desplaz', 'gp_discapa', 'gp_gestan', 'gp_indigen', 'gp_mad_com', 'gp_migrant', 'gp_otros', 'gp_pobicfb', 'gp_psiquia', 'gp_vic_vio', 'gru_pob', 'municipio', 'municipio_notificacion', 'municipio_residencia', 'nacionalidad', 'nom_est_f_caso', 'nom_grupo', 'nom_upgd', 'nombre_evento', 'nombre_nacionalidad', 'ocupacion', 'pais_ocurrencia', 'pais_residencia', 'sem_ges', 'va_sispro']\n"
     ]
    }
   ],
   "source": [
    "# Descartar variables poco informativas\n",
    "delete = [\n",
    "    'ajuste', 'bar_ver', 'cbmte', 'cen_pobla', 'cer_def', 'cod_ase', 'cod_dpto_n', 'cod_dpto_o',\n",
    "    'cod_dpto_r', 'cod_eve.1', 'cod_mun_n', 'cod_mun_o', 'cod_mun_r', 'cod_pais_o', 'cod_pais_r',\n",
    "    'cod_pre', 'cod_sub', 'confirmados', 'consecutive', 'consecutive_12',\n",
    "    'consecutive_origen', 'departamento_notificacion', 'departamento_residencia',\n",
    "    'estado_final_de_caso', 'estrato', 'evento', 'fec_aju', 'fec_arc_xl', 'fec_def',\n",
    "    'fm_fuerza', 'fm_grado', 'fm_unidad', 'fuente', 'gp_carcela', 'gp_desmovi',\n",
    "    'gp_desplaz', 'gp_discapa', 'gp_gestan', 'gp_indigen', 'gp_mad_com', 'gp_migrant',\n",
    "    'gp_otros', 'gp_pobicfb', 'gp_psiquia', 'gp_vic_vio', 'gru_pob', 'localidad',\n",
    "    'municipio', 'municipio_notificacion', 'municipio_residencia', 'nacionalidad',\n",
    "    'nom_est_f_caso', 'nom_grupo', 'nom_upgd', 'nombre_evento', 'nombre_nacionalidad',\n",
    "    'nombre_upgd', 'ocupacion', 'pais_ocurrencia', 'pais_residencia', 'partición',\n",
    "    'sem_ges', 'va_sispro', 'vereda', 'version', 'est_f_caso'\n",
    "]\n",
    "for nombre, data in dataframes.items():\n",
    "    cols_a_borrar = [col for col in delete if col in data.columns]\n",
    "    if cols_a_borrar:\n",
    "        dataframes[nombre] = data.drop(columns=cols_a_borrar)\n",
    "        print(f\"🗑️ En '{nombre}' se eliminaron: {cols_a_borrar}\")\n",
    "    else:\n",
    "        print(f\"✅ En '{nombre}' no había columnas para eliminar.\")"
   ]
  },
  {
   "cell_type": "markdown",
   "id": "d9f10c1f",
   "metadata": {},
   "source": [
    "## Unificación"
   ]
  },
  {
   "cell_type": "code",
   "execution_count": 5,
   "id": "7f64bba4",
   "metadata": {},
   "outputs": [
    {
     "name": "stdout",
     "output_type": "stream",
     "text": [
      "<class 'pandas.core.frame.DataFrame'>\n",
      "RangeIndex: 948142 entries, 0 to 948141\n",
      "Data columns (total 18 columns):\n",
      " #   Column                 Non-Null Count   Dtype \n",
      "---  ------                 --------------   ----- \n",
      " 0   area                   948142 non-null  int64 \n",
      " 1   año                    948142 non-null  int64 \n",
      " 2   cod_eve                948142 non-null  int64 \n",
      " 3   departamento           948142 non-null  object\n",
      " 4   desenlace              948142 non-null  int64 \n",
      " 5   edad                   948142 non-null  int64 \n",
      " 6   fecha_consulta         948049 non-null  object\n",
      " 7   fecha_hospitalizacion  400963 non-null  object\n",
      " 8   fecha_inicio_sintomas  948089 non-null  object\n",
      " 9   fecha_nacimiento       918020 non-null  object\n",
      " 10  fecha_notificacion     948142 non-null  object\n",
      " 11  hospitalizacion        948142 non-null  int64 \n",
      " 12  pertenencia_etnica     948142 non-null  int64 \n",
      " 13  regimen_salud          948142 non-null  object\n",
      " 14  semana                 948142 non-null  int64 \n",
      " 15  sexo                   948142 non-null  object\n",
      " 16  tipo_caso              948142 non-null  int64 \n",
      " 17  uni_med                948142 non-null  int64 \n",
      "dtypes: int64(10), object(8)\n",
      "memory usage: 130.2+ MB\n"
     ]
    }
   ],
   "source": [
    "# Concatenar archivos en un solo DataFrame\n",
    "data = pd.concat(dataframes.values(), ignore_index=True)\n",
    "data = data[sorted(data.columns)]\n",
    "data.info()"
   ]
  },
  {
   "cell_type": "code",
   "execution_count": 6,
   "id": "f0f300aa",
   "metadata": {},
   "outputs": [
    {
     "name": "stdout",
     "output_type": "stream",
     "text": [
      "Número de filas duplicadas exactas en columnas de interés: 351\n"
     ]
    }
   ],
   "source": [
    "# Eliminar registros duplicados exactos\n",
    "count_duplicados = data.duplicated().sum()\n",
    "print(f\"Número de filas duplicadas exactas en columnas de interés: {count_duplicados}\")\n",
    "data = data.drop_duplicates(keep=\"first\").copy()"
   ]
  },
  {
   "cell_type": "markdown",
   "id": "62aaa92d",
   "metadata": {},
   "source": [
    "__________"
   ]
  },
  {
   "cell_type": "markdown",
   "id": "1b4b516e",
   "metadata": {},
   "source": [
    "## Agregación"
   ]
  },
  {
   "cell_type": "code",
   "execution_count": 7,
   "id": "022b0a85",
   "metadata": {},
   "outputs": [
    {
     "data": {
      "text/plain": [
       "array(['Clasico', 'Grave'], dtype=object)"
      ]
     },
     "execution_count": 7,
     "metadata": {},
     "output_type": "execute_result"
    }
   ],
   "source": [
    "# [Variable] Evento\n",
    "    # evento = Clasifico if code_eve = 210 \n",
    "    # evento = Grave if code_eve = 220\n",
    "\n",
    "data['evento'] = np.where(data['cod_eve'] == 210, 'Clasico', \n",
    "                       np.where(data['cod_eve'] == 220, 'Grave', 'Otros'))\n",
    "data['evento'].unique()"
   ]
  },
  {
   "cell_type": "code",
   "execution_count": 8,
   "id": "7497f7ce",
   "metadata": {},
   "outputs": [
    {
     "data": {
      "text/plain": [
       "count    947791.000000\n",
       "mean         22.887485\n",
       "std          19.105988\n",
       "min          -1.000000\n",
       "25%           9.000000\n",
       "50%          17.000000\n",
       "75%          33.000000\n",
       "max         131.000000\n",
       "Name: edad_años, dtype: float64"
      ]
     },
     "execution_count": 8,
     "metadata": {},
     "output_type": "execute_result"
    }
   ],
   "source": [
    "# [Variable] Edad en años\n",
    "data[\"edad_años\"] = np.where(data[\"uni_med\"] == 1, data[\"edad\"],   # ya está en años\n",
    "                    np.where(data[\"uni_med\"] == 2, data[\"edad\"] / 12,  # meses → años\n",
    "                    np.where(data[\"uni_med\"] == 3, data[\"edad\"] / 365, # días → años\n",
    "                    np.where(data[\"uni_med\"] == 4, data[\"edad\"] / (365*24), # horas\n",
    "                    np.where(data[\"uni_med\"] == 5, data[\"edad\"] / (365*24*60), # minutos\n",
    "                    np.where(data[\"uni_med\"] == 0, np.nan, \n",
    "                     np.nan))))))  # por si hay otros valores\n",
    "data[\"edad_años\"] = data[\"edad_años\"].round().fillna(-1).astype(int)\n",
    "data['edad_años'].describe()"
   ]
  },
  {
   "cell_type": "code",
   "execution_count": 9,
   "id": "a1b5f6b1",
   "metadata": {},
   "outputs": [
    {
     "data": {
      "text/plain": [
       "array(['Adulto mayor', 'Adulto', 'Adolescencia', 'Ancianidad', 'Infancia',\n",
       "       'Menor de 1 año', 'Primera infancia', 'Desconocido'], dtype=object)"
      ]
     },
     "execution_count": 9,
     "metadata": {},
     "output_type": "execute_result"
    }
   ],
   "source": [
    "# [Variable] Ciclo vital a partir de edad en años\n",
    "def ciclo_vital(edad):\n",
    "    if edad < 0:\n",
    "        return \"Desconocido\"\n",
    "    elif edad < 1:\n",
    "        return \"Menor de 1 año\"\n",
    "    elif edad < 5:\n",
    "        return \"Primera infancia\"\n",
    "    elif edad < 10:\n",
    "        return \"Infancia\"\n",
    "    elif edad < 20:\n",
    "        return \"Adolescencia\"\n",
    "    elif edad < 60:\n",
    "        return \"Adulto\"\n",
    "    elif edad < 85:\n",
    "        return \"Adulto mayor\"\n",
    "    else:\n",
    "        return \"Ancianidad\"\n",
    "    \n",
    "data[\"ciclo_vital\"] = data[\"edad_años\"].apply(ciclo_vital)\n",
    "data[\"ciclo_vital\"].unique()"
   ]
  },
  {
   "cell_type": "code",
   "execution_count": 10,
   "id": "2cc14ba8",
   "metadata": {},
   "outputs": [],
   "source": [
    "# [Mapeo] Variables categóricas\n",
    "mapeo = {\n",
    "    'area' : {1: 'Cabecera municipal' , 2:'Centro Poblado', 3:'Rural disperso'}, \n",
    "    'hospitalizacion': {1: 'Si', 2: 'No'},\n",
    "    'desenlace': {1: 'Vivo', 2: 'Fallecido'},\n",
    "    'pertenencia_etnica': {1: 'Indigena', 2: 'Rom', 3: 'Raizal', 4: 'Palenquero', 5: 'Negro', 6:'Otro'},\n",
    "    'regimen_salud': {'p': 'Excepción', 'e': 'Especial', 'c': 'Contributivo', 's': 'Subsidiado', 'n': 'No asegurado', 'i': 'Indeterminado'},\n",
    "    'sexo': {'m': 'Masculino', 'f': 'Femenino'},\n",
    "    'tipo_caso': {2: 'Probable', 3: 'Conf. por laboratorio', 5: 'Conf. por nexo'}\n",
    "}\n",
    "data = data.replace(mapeo)"
   ]
  },
  {
   "cell_type": "code",
   "execution_count": 11,
   "id": "87955f0b",
   "metadata": {},
   "outputs": [],
   "source": [
    "# [Mapeo] Grupos étnicos\n",
    "mapeo_etnico = {\n",
    "    'Indigena': 'Indígena',\n",
    "    'Negro': 'Afrocolombiano',\n",
    "    'Raizal': 'Afrocolombiano',\n",
    "    'Palenquero': 'Afrocolombiano',\n",
    "    'Rom': 'Rom',\n",
    "    'Otro': 'Otro'\n",
    "}\n",
    "data['grupo_etnico'] = data['pertenencia_etnica'].map(mapeo_etnico)"
   ]
  },
  {
   "cell_type": "code",
   "execution_count": 12,
   "id": "914777a8",
   "metadata": {},
   "outputs": [
    {
     "data": {
      "text/plain": [
       "array(['ANTIOQUIA', 'ATLÁNTICO', 'SANTANDER', 'QUINDIO', 'ARAUCA',\n",
       "       'CESAR', 'NORTE DE SANTANDER', 'CUNDINAMARCA', 'TOLIMA',\n",
       "       'VALLE DEL CAUCA', 'META', 'CASANARE', 'HUILA', 'LA GUAJIRA',\n",
       "       'GUAVIARE', 'CHOCÓ', 'MAGDALENA', 'CAUCA', 'SUCRE', 'BOYACÁ',\n",
       "       'BOGOTÁ, D.C.', 'BOLÍVAR', 'CAQUETÁ', 'PUTUMAYO', 'CALDAS',\n",
       "       'CÓRDOBA', 'AMAZONAS', 'NARIÑO', 'RISARALDA', 'VICHADA',\n",
       "       'NO IDENTIFICADO',\n",
       "       'ARCHIPIÉLAGO DE SAN ANDRÉS, PROVIDENCIA Y SANTA CATALINA',\n",
       "       'GUAINÍA', 'VAUPÉS'], dtype=object)"
      ]
     },
     "execution_count": 12,
     "metadata": {},
     "output_type": "execute_result"
    }
   ],
   "source": [
    "# [Variable] Departamento\n",
    "\n",
    "data['departamento'] = data[\"departamento\"].str.upper().str.strip()\n",
    "data['departamento'] = data['departamento'].str.replace('_', ' ', regex=False)\n",
    "\n",
    "# Normalizar EXTERIOR y PROCEDENCIA DESCONOCIDA\n",
    "data['departamento'] = data['departamento'].replace({\n",
    "    'EXTERIOR': 'NO IDENTIFICADO',\n",
    "    'PROCEDENCIA DESCONOCIDA': 'NO IDENTIFICADO',\n",
    "})\n",
    "\n",
    "correcciones_departamento = {\n",
    "    'ATLANTICO': 'ATLÁNTICO',\n",
    "    'BOGOTA': 'BOGOTÁ, D.C.',\n",
    "    'BOLIVAR': 'BOLÍVAR',\n",
    "    'BOYACA': 'BOYACÁ',\n",
    "    'CAQUETA': 'CAQUETÁ',\n",
    "    'CORDOBA': 'CÓRDOBA',\n",
    "    'CHOCO': 'CHOCÓ',\n",
    "    'GUAJIRA': 'LA GUAJIRA',\n",
    "    'GUAINIA': 'GUAINÍA',\n",
    "    'VAUPES': 'VAUPÉS',\n",
    "    'NORTE SANTANDER': 'NORTE DE SANTANDER',\n",
    "    'VALLE': 'VALLE DEL CAUCA',\n",
    "    'SAN ANDRES': 'ARCHIPIÉLAGO DE SAN ANDRÉS, PROVIDENCIA Y SANTA CATALINA',\n",
    "    'NARIÏ¿½O': 'NARIÑO', 'NARIÃ\\x91O': 'NARIÑO',\n",
    "}\n",
    "data['departamento'] = data['departamento'].replace(correcciones_departamento)\n",
    "data['departamento'].unique()"
   ]
  },
  {
   "cell_type": "code",
   "execution_count": 13,
   "id": "a62eb9c2",
   "metadata": {},
   "outputs": [],
   "source": [
    "# [Variable] Periodo epidemiológico (4 semanas)\n",
    "def asignar_periodo(semana):\n",
    "    \"\"\"\n",
    "    Calcula el número de periodo según la semana epidemiológica.\n",
    "    Cada periodo abarca 4 semanas. \n",
    "    La semana 53 se incluye en el último periodo.\n",
    "    \"\"\"\n",
    "    if pd.isna(semana):\n",
    "        return np.nan\n",
    "    semana = int(semana)\n",
    "    periodo = int(np.ceil(semana / 4))\n",
    "    if semana == 53:  # Semana extra del año\n",
    "        periodo = int(np.ceil(52 / 4))  # igual al último periodo\n",
    "    return periodo\n",
    "\n",
    "# Aplicar al dataframe\n",
    "data[\"periodo\"] = data[\"semana\"].apply(asignar_periodo)"
   ]
  },
  {
   "cell_type": "code",
   "execution_count": 14,
   "id": "2f80fd61",
   "metadata": {},
   "outputs": [],
   "source": [
    "# Descartar variables originales ya transformadas\n",
    "data = data.drop(columns=['edad', 'uni_med', 'pertenencia_etnica', 'cod_eve'])"
   ]
  },
  {
   "cell_type": "code",
   "execution_count": 15,
   "id": "c1d24d07",
   "metadata": {},
   "outputs": [],
   "source": [
    "# [Data] Estructuración por temática\n",
    "\n",
    "    # Variables demográficas\n",
    "demograficas = [\n",
    "    \"sexo\",                    # M/F\n",
    "    \"edad_años\",               # Edad numérica\n",
    "    \"ciclo_vital\",             # Etapa de vida\n",
    "    \"grupo_etnico\",            # Grupo étnico declarado\n",
    "    \"pertenencia_etnica\",      # Clasificación étnica\n",
    "    \"regimen_salud\"            # Régimen (contributivo, subsidiado, etc.)\n",
    "]\n",
    "\n",
    "    # Variables del evento epidemiológico\n",
    "evento = [\n",
    "    \"evento\",                  # Clásico, grave\n",
    "    \"tipo_caso\",               # Confirmado, probable, descartado\n",
    "    \"hospitalizacion\",         # Sí/No\n",
    "    \"desenlace\"                # Recuperado, fallecido, etc.\n",
    "]\n",
    "\n",
    "    # Variables de temporalidad\n",
    "temporalidad = [\n",
    "    \"año\",                     # Año del evento\n",
    "    \"semana\",                  # Semana epidemiológica\n",
    "    \"periodo\",                 # Periodo (cada 4 semanas)\n",
    "    \"fecha_inicio_sintomas\",   # Inicio de síntomas\n",
    "    \"fecha_consulta\",          # Fecha de consulta\n",
    "    \"fecha_hospitalizacion\",   # Fecha de hospitalización\n",
    "    \"fecha_notificacion\",      # Fecha de notificación\n",
    "    \"fecha_nacimiento\"         # Fecha de nacimiento\n",
    "]\n",
    "\n",
    "    # Variables espaciales\n",
    "espacial = [\n",
    "    \"departamento\",            # Departamento de ocurrencia\n",
    "    \"area\"                     # Urbana o rural\n",
    "]\n",
    "\n",
    "orden_columnas = demograficas + evento + temporalidad + espacial\n",
    "cols_existentes = [col for col in orden_columnas if col in data.columns]\n",
    "data = data[cols_existentes + [col for col in data.columns if col not in cols_existentes]]"
   ]
  },
  {
   "cell_type": "code",
   "execution_count": 16,
   "id": "3550971c",
   "metadata": {},
   "outputs": [
    {
     "name": "stdout",
     "output_type": "stream",
     "text": [
      "<class 'pandas.core.frame.DataFrame'>\n",
      "Index: 947791 entries, 0 to 948141\n",
      "Data columns (total 19 columns):\n",
      " #   Column                 Non-Null Count   Dtype \n",
      "---  ------                 --------------   ----- \n",
      " 0   sexo                   947791 non-null  object\n",
      " 1   edad_años              947791 non-null  int64 \n",
      " 2   ciclo_vital            947791 non-null  object\n",
      " 3   grupo_etnico           947791 non-null  object\n",
      " 4   regimen_salud          947791 non-null  object\n",
      " 5   evento                 947791 non-null  object\n",
      " 6   tipo_caso              947791 non-null  object\n",
      " 7   hospitalizacion        947791 non-null  object\n",
      " 8   desenlace              947791 non-null  object\n",
      " 9   año                    947791 non-null  int64 \n",
      " 10  semana                 947791 non-null  int64 \n",
      " 11  periodo                947791 non-null  int64 \n",
      " 12  fecha_inicio_sintomas  947738 non-null  object\n",
      " 13  fecha_consulta         947698 non-null  object\n",
      " 14  fecha_hospitalizacion  400805 non-null  object\n",
      " 15  fecha_notificacion     947791 non-null  object\n",
      " 16  fecha_nacimiento       917703 non-null  object\n",
      " 17  departamento           947791 non-null  object\n",
      " 18  area                   947791 non-null  object\n",
      "dtypes: int64(4), object(15)\n",
      "memory usage: 144.6+ MB\n"
     ]
    }
   ],
   "source": [
    "# DataFrame final\n",
    "data.info()"
   ]
  },
  {
   "cell_type": "code",
   "execution_count": 17,
   "id": "b11cbef5",
   "metadata": {},
   "outputs": [
    {
     "data": {
      "text/html": [
       "<div>\n",
       "<style scoped>\n",
       "    .dataframe tbody tr th:only-of-type {\n",
       "        vertical-align: middle;\n",
       "    }\n",
       "\n",
       "    .dataframe tbody tr th {\n",
       "        vertical-align: top;\n",
       "    }\n",
       "\n",
       "    .dataframe thead th {\n",
       "        text-align: right;\n",
       "    }\n",
       "</style>\n",
       "<table border=\"1\" class=\"dataframe\">\n",
       "  <thead>\n",
       "    <tr style=\"text-align: right;\">\n",
       "      <th></th>\n",
       "      <th>sexo</th>\n",
       "      <th>edad_años</th>\n",
       "      <th>ciclo_vital</th>\n",
       "      <th>grupo_etnico</th>\n",
       "      <th>regimen_salud</th>\n",
       "      <th>evento</th>\n",
       "      <th>tipo_caso</th>\n",
       "      <th>hospitalizacion</th>\n",
       "      <th>desenlace</th>\n",
       "      <th>año</th>\n",
       "      <th>semana</th>\n",
       "      <th>periodo</th>\n",
       "      <th>fecha_inicio_sintomas</th>\n",
       "      <th>fecha_consulta</th>\n",
       "      <th>fecha_hospitalizacion</th>\n",
       "      <th>fecha_notificacion</th>\n",
       "      <th>fecha_nacimiento</th>\n",
       "      <th>departamento</th>\n",
       "      <th>area</th>\n",
       "    </tr>\n",
       "  </thead>\n",
       "  <tbody>\n",
       "    <tr>\n",
       "      <th>0</th>\n",
       "      <td>M</td>\n",
       "      <td>70</td>\n",
       "      <td>Adulto mayor</td>\n",
       "      <td>Otro</td>\n",
       "      <td>S</td>\n",
       "      <td>Clasico</td>\n",
       "      <td>Probable</td>\n",
       "      <td>Si</td>\n",
       "      <td>Vivo</td>\n",
       "      <td>2013</td>\n",
       "      <td>52</td>\n",
       "      <td>13</td>\n",
       "      <td>2013-04-05</td>\n",
       "      <td>2013-04-05</td>\n",
       "      <td>2013-04-06</td>\n",
       "      <td>2013-12-28</td>\n",
       "      <td>1942-11-17</td>\n",
       "      <td>ANTIOQUIA</td>\n",
       "      <td>Cabecera municipal</td>\n",
       "    </tr>\n",
       "    <tr>\n",
       "      <th>1</th>\n",
       "      <td>M</td>\n",
       "      <td>62</td>\n",
       "      <td>Adulto mayor</td>\n",
       "      <td>Otro</td>\n",
       "      <td>S</td>\n",
       "      <td>Clasico</td>\n",
       "      <td>Probable</td>\n",
       "      <td>No</td>\n",
       "      <td>Vivo</td>\n",
       "      <td>2013</td>\n",
       "      <td>46</td>\n",
       "      <td>12</td>\n",
       "      <td>2013-02-07</td>\n",
       "      <td>2013-02-10</td>\n",
       "      <td>NaN</td>\n",
       "      <td>2013-11-18</td>\n",
       "      <td>1950-02-12</td>\n",
       "      <td>ANTIOQUIA</td>\n",
       "      <td>Cabecera municipal</td>\n",
       "    </tr>\n",
       "    <tr>\n",
       "      <th>2</th>\n",
       "      <td>M</td>\n",
       "      <td>78</td>\n",
       "      <td>Adulto mayor</td>\n",
       "      <td>Otro</td>\n",
       "      <td>S</td>\n",
       "      <td>Clasico</td>\n",
       "      <td>Probable</td>\n",
       "      <td>No</td>\n",
       "      <td>Vivo</td>\n",
       "      <td>2013</td>\n",
       "      <td>9</td>\n",
       "      <td>3</td>\n",
       "      <td>2013-12-22</td>\n",
       "      <td>2013-12-25</td>\n",
       "      <td>NaN</td>\n",
       "      <td>2013-03-19</td>\n",
       "      <td>1935-04-12</td>\n",
       "      <td>ATLÁNTICO</td>\n",
       "      <td>Cabecera municipal</td>\n",
       "    </tr>\n",
       "    <tr>\n",
       "      <th>3</th>\n",
       "      <td>M</td>\n",
       "      <td>56</td>\n",
       "      <td>Adulto</td>\n",
       "      <td>Otro</td>\n",
       "      <td>S</td>\n",
       "      <td>Clasico</td>\n",
       "      <td>Conf. por laboratorio</td>\n",
       "      <td>Si</td>\n",
       "      <td>Vivo</td>\n",
       "      <td>2013</td>\n",
       "      <td>47</td>\n",
       "      <td>12</td>\n",
       "      <td>2013-07-31</td>\n",
       "      <td>2013-08-07</td>\n",
       "      <td>2013-08-07</td>\n",
       "      <td>2013-11-25</td>\n",
       "      <td>1957-03-29</td>\n",
       "      <td>ANTIOQUIA</td>\n",
       "      <td>Rural disperso</td>\n",
       "    </tr>\n",
       "    <tr>\n",
       "      <th>4</th>\n",
       "      <td>M</td>\n",
       "      <td>51</td>\n",
       "      <td>Adulto</td>\n",
       "      <td>Otro</td>\n",
       "      <td>C</td>\n",
       "      <td>Clasico</td>\n",
       "      <td>Probable</td>\n",
       "      <td>No</td>\n",
       "      <td>Vivo</td>\n",
       "      <td>2013</td>\n",
       "      <td>37</td>\n",
       "      <td>10</td>\n",
       "      <td>2013-05-07</td>\n",
       "      <td>2013-05-11</td>\n",
       "      <td>NaN</td>\n",
       "      <td>2013-09-12</td>\n",
       "      <td>1961-10-29</td>\n",
       "      <td>ANTIOQUIA</td>\n",
       "      <td>Cabecera municipal</td>\n",
       "    </tr>\n",
       "  </tbody>\n",
       "</table>\n",
       "</div>"
      ],
      "text/plain": [
       "  sexo  edad_años   ciclo_vital grupo_etnico regimen_salud   evento  \\\n",
       "0    M         70  Adulto mayor         Otro             S  Clasico   \n",
       "1    M         62  Adulto mayor         Otro             S  Clasico   \n",
       "2    M         78  Adulto mayor         Otro             S  Clasico   \n",
       "3    M         56        Adulto         Otro             S  Clasico   \n",
       "4    M         51        Adulto         Otro             C  Clasico   \n",
       "\n",
       "               tipo_caso hospitalizacion desenlace   año  semana  periodo  \\\n",
       "0               Probable              Si      Vivo  2013      52       13   \n",
       "1               Probable              No      Vivo  2013      46       12   \n",
       "2               Probable              No      Vivo  2013       9        3   \n",
       "3  Conf. por laboratorio              Si      Vivo  2013      47       12   \n",
       "4               Probable              No      Vivo  2013      37       10   \n",
       "\n",
       "  fecha_inicio_sintomas fecha_consulta fecha_hospitalizacion  \\\n",
       "0            2013-04-05     2013-04-05            2013-04-06   \n",
       "1            2013-02-07     2013-02-10                   NaN   \n",
       "2            2013-12-22     2013-12-25                   NaN   \n",
       "3            2013-07-31     2013-08-07            2013-08-07   \n",
       "4            2013-05-07     2013-05-11                   NaN   \n",
       "\n",
       "  fecha_notificacion fecha_nacimiento departamento                area  \n",
       "0         2013-12-28       1942-11-17    ANTIOQUIA  Cabecera municipal  \n",
       "1         2013-11-18       1950-02-12    ANTIOQUIA  Cabecera municipal  \n",
       "2         2013-03-19       1935-04-12    ATLÁNTICO  Cabecera municipal  \n",
       "3         2013-11-25       1957-03-29    ANTIOQUIA      Rural disperso  \n",
       "4         2013-09-12       1961-10-29    ANTIOQUIA  Cabecera municipal  "
      ]
     },
     "execution_count": 17,
     "metadata": {},
     "output_type": "execute_result"
    }
   ],
   "source": [
    "data.head()"
   ]
  },
  {
   "cell_type": "code",
   "execution_count": 18,
   "id": "4ea42dd4",
   "metadata": {},
   "outputs": [],
   "source": [
    "data.to_csv(r\"C:\\Users\\Hp\\DENGUE\\DATA\\Data_Colombia.csv\", index=False, encoding='utf-8')"
   ]
  }
 ],
 "metadata": {
  "language_info": {
   "name": "python"
  }
 },
 "nbformat": 4,
 "nbformat_minor": 5
}
