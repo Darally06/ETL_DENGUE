{
 "cells": [
  {
   "cell_type": "markdown",
   "id": "c1936d93",
   "metadata": {},
   "source": [
    "# **ETL - ATLANTICO**"
   ]
  },
  {
   "cell_type": "code",
   "execution_count": 267,
   "id": "f8c7b737",
   "metadata": {},
   "outputs": [],
   "source": [
    "# [Configuración] Importación de librerías\n",
    "import pandas as pd\n",
    "import numpy as np\n",
    "import unicodedata\n",
    "import re\n",
    "import os"
   ]
  },
  {
   "cell_type": "code",
   "execution_count": 268,
   "id": "e3b2fbde",
   "metadata": {},
   "outputs": [
    {
     "name": "stdout",
     "output_type": "stream",
     "text": [
      "✅ 7 archivos cargados desde ../DATA/raw_atlantico\n"
     ]
    }
   ],
   "source": [
    "# [Configuración] Lectura de los archivos CSV\n",
    "ruta = \"../DATA/raw_atlantico\" \n",
    "archivos = [f for f in os.listdir(ruta) if f.endswith(\".csv\")]\n",
    "dataframes = {}\n",
    "for archivo in archivos:\n",
    "    path = os.path.join(ruta, archivo)\n",
    "    df = pd.read_csv(path, encoding='Latin_1', low_memory=False)\n",
    "    df.columns = df.columns.str.lower()\n",
    "    dataframes[archivo] = df\n",
    "\n",
    "print(f\"✅ {len(dataframes)} archivos cargados desde {ruta}\")"
   ]
  },
  {
   "cell_type": "code",
   "execution_count": 269,
   "id": "d19ff9c6",
   "metadata": {},
   "outputs": [],
   "source": [
    "# Listado de renombramientos iniciales\n",
    "changes = {\n",
    "    'area_': 'area',\n",
    "    'bar_ver_': 'barrio',\n",
    "    'con_fin_': 'muerte',\n",
    "    'dir_res_': 'direccion',\n",
    "    'edad_': 'edad',\n",
    "    'fec_con_': 'fecha_consulta',\n",
    "    'fec_hos_': 'fecha_hospitalizacion', \n",
    "    'fec_not': 'fecha_notificacion',\n",
    "    'fecha_nto_': 'fecha_nacimiento',\n",
    "    'ini_sin_': 'fecha_inicio_sintomas',\n",
    "    'localidad_': 'localidad', \n",
    "    'ndep_proce': 'departamento',\n",
    "    'nmun_proce': 'municipio',\n",
    "    'nom_eve': 'nombre_evento',\n",
    "    'pac_hos_': 'hospitalizado',\n",
    "    'per_etn_': 'pertencia_etnica',\n",
    "    'sexo_': 'sexo',\n",
    "    'tip_cas_': 'tipo_de_caso', \n",
    "    'tip_ss_': 'regimen_salud'\n",
    "}"
   ]
  },
  {
   "cell_type": "code",
   "execution_count": 270,
   "id": "9b6ec87d",
   "metadata": {},
   "outputs": [],
   "source": [
    "# [Función] Limpiar nombres de columnas\n",
    "def limpiar_texto(texto):\n",
    "    if not isinstance(texto, str):\n",
    "        return texto\n",
    "    texto = texto.replace(\"ã±\", \"ñ\").replace(\"Ã±\", \"ñ\").replace(\"ï¿½\", \"ñ\")\n",
    "    texto = unicodedata.normalize(\"NFKC\", texto)\n",
    "    texto = re.sub(r'\\s+', '_', texto.strip().lower())\n",
    "    return texto\n",
    "\n",
    "# Limpiar nombres de columnas de todos los DataFrames\n",
    "for nombre, df in dataframes.items():\n",
    "    df.columns = [limpiar_texto(col) for col in df.columns]\n",
    "    dataframes[nombre] = df"
   ]
  },
  {
   "cell_type": "code",
   "execution_count": 271,
   "id": "fc6c43ab",
   "metadata": {},
   "outputs": [
    {
     "name": "stdout",
     "output_type": "stream",
     "text": [
      "✅ Columnas comunes a todos los archivos:\n",
      "['ajuste_', 'area', 'año', 'barrio', 'cbmte_', 'cen_pobla_', 'cer_def_', 'cod_ase_', 'cod_pais_o', 'cod_pre', 'cod_sub', 'departamento', 'desenlace', 'direccion', 'edad', 'fec_aju_', 'fec_arc_xl', 'fec_def_', 'fecha_consulta', 'fecha_hospitalizacion', 'fecha_inicio_sintomas', 'fecha_nacimiento', 'fecha_notificacion', 'fm_fuerza', 'fm_grado', 'fm_unidad', 'gp_carcela', 'gp_desmovi', 'gp_desplaz', 'gp_discapa', 'gp_gestan', 'gp_indigen', 'gp_mad_com', 'gp_migrant', 'gp_otros', 'gp_pobicbf', 'gp_psiquia', 'gp_vic_vio', 'hospitalizacion', 'localidad', 'municipio', 'ndep_notif', 'ndep_resi', 'nit_upgd', 'nmun_notif', 'nmun_resi', 'nom_dil_f_', 'nom_upgd', 'nombre_evento', 'num_ide_', 'ocupacion_', 'pertencia_etnica', 'pri_ape_', 'pri_nom_', 'regimen_salud', 'seg_ape_', 'seg_nom_', 'semana', 'sexo', 'tel_dil_f_', 'telefono_', 'tip_ide_', 'tipo_de_caso', 'uni_med_', 'vereda_']\n",
      "\n",
      "❌ Columnas exclusivas por archivo:\n",
      "📄 raw_dengue_2017.csv: ['cod_dpto_o', 'cod_dpto_r', 'cod_eve', 'cod_mun_o', 'cod_mun_r', 'eve_historico']\n",
      "📄 raw_dengue_2018.csv: ['cod_dpto_o', 'cod_dpto_r', 'cod_eve', 'cod_mun_o', 'cod_mun_r', 'eve_historico']\n",
      "📄 raw_dengue_2019.csv: ['cod_dpto_o', 'cod_dpto_r', 'cod_eve', 'cod_mun_o', 'cod_mun_r', 'eve_historico']\n",
      "📄 raw_dengue_2020.csv: ['cod_dpto_o', 'cod_dpto_r', 'cod_eve', 'cod_mun_o', 'cod_mun_r', 'eve_historico']\n",
      "📄 raw_dengue_2021.csv: ['cod_dpto_o', 'cod_dpto_r', 'cod_eve', 'cod_mun_o', 'cod_mun_r', 'eve_historico']\n",
      "📄 raw_dengue_2022.csv: ['cod_dpto_o', 'cod_dpto_r', 'cod_eve', 'cod_mun_o', 'cod_mun_r', 'eve_historico']\n",
      "📄 raw_dengue_2024.csv: ['cod_pais_r', 'nombre_nacionalidad', 'sem_ges', 'version']\n"
     ]
    }
   ],
   "source": [
    "columnas_por_archivo = {\n",
    "    nombre: set(df.columns)\n",
    "    for nombre, df in dataframes.items()\n",
    "}\n",
    "# Columnas comunes a todos los archivos\n",
    "comunes = set.intersection(*columnas_por_archivo.values())\n",
    "\n",
    "# Columnas únicas por archivo\n",
    "exclusivas = {\n",
    "    nombre: columnas - comunes\n",
    "    for nombre, columnas in columnas_por_archivo.items()\n",
    "}\n",
    "print(\"✅ Columnas comunes a todos los archivos:\")\n",
    "print(sorted(comunes))\n",
    "\n",
    "print(\"\\n❌ Columnas exclusivas por archivo:\")\n",
    "for nombre, cols in exclusivas.items():\n",
    "    print(f\"📄 {nombre}: {sorted(cols)}\")"
   ]
  },
  {
   "cell_type": "code",
   "execution_count": 272,
   "id": "0133a9c8",
   "metadata": {},
   "outputs": [
    {
     "name": "stdout",
     "output_type": "stream",
     "text": [
      "🗑️ En 'raw_dengue_2017.csv' se eliminaron: ['ajuste_', 'cbmte_', 'cen_pobla_', 'cer_def_', 'cod_ase_', 'cod_dpto_r', 'cod_eve', 'cod_mun_r', 'cod_pais_o', 'cod_pre', 'cod_sub', 'eve_historico', 'fec_aju_', 'fec_arc_xl', 'fec_def_', 'fm_fuerza', 'fm_grado', 'fm_unidad', 'gp_carcela', 'gp_desmovi', 'gp_desplaz', 'gp_discapa', 'gp_gestan', 'gp_indigen', 'gp_pobicbf', 'gp_mad_com', 'gp_migrant', 'gp_otros', 'gp_psiquia', 'gp_vic_vio', 'localidad', 'ndep_notif', 'ndep_resi', 'nit_upgd', 'nmun_notif', 'nmun_resi', 'nom_dil_f_', 'nom_upgd', 'vereda_', 'tel_dil_f_', 'telefono_', 'tip_ide_', 'num_ide_', 'ocupacion_', 'pri_ape_', 'pri_nom_', 'seg_ape_', 'seg_nom_', 'tip_ide_']\n",
      "🗑️ En 'raw_dengue_2018.csv' se eliminaron: ['ajuste_', 'cbmte_', 'cen_pobla_', 'cer_def_', 'cod_ase_', 'cod_dpto_r', 'cod_eve', 'cod_mun_r', 'cod_pais_o', 'cod_pre', 'cod_sub', 'eve_historico', 'fec_aju_', 'fec_arc_xl', 'fec_def_', 'fm_fuerza', 'fm_grado', 'fm_unidad', 'gp_carcela', 'gp_desmovi', 'gp_desplaz', 'gp_discapa', 'gp_gestan', 'gp_indigen', 'gp_pobicbf', 'gp_mad_com', 'gp_migrant', 'gp_otros', 'gp_psiquia', 'gp_vic_vio', 'localidad', 'ndep_notif', 'ndep_resi', 'nit_upgd', 'nmun_notif', 'nmun_resi', 'nom_dil_f_', 'nom_upgd', 'vereda_', 'tel_dil_f_', 'telefono_', 'tip_ide_', 'num_ide_', 'ocupacion_', 'pri_ape_', 'pri_nom_', 'seg_ape_', 'seg_nom_', 'tip_ide_']\n",
      "🗑️ En 'raw_dengue_2019.csv' se eliminaron: ['ajuste_', 'cbmte_', 'cen_pobla_', 'cer_def_', 'cod_ase_', 'cod_dpto_r', 'cod_eve', 'cod_mun_r', 'cod_pais_o', 'cod_pre', 'cod_sub', 'eve_historico', 'fec_aju_', 'fec_arc_xl', 'fec_def_', 'fm_fuerza', 'fm_grado', 'fm_unidad', 'gp_carcela', 'gp_desmovi', 'gp_desplaz', 'gp_discapa', 'gp_gestan', 'gp_indigen', 'gp_pobicbf', 'gp_mad_com', 'gp_migrant', 'gp_otros', 'gp_psiquia', 'gp_vic_vio', 'localidad', 'ndep_notif', 'ndep_resi', 'nit_upgd', 'nmun_notif', 'nmun_resi', 'nom_dil_f_', 'nom_upgd', 'vereda_', 'tel_dil_f_', 'telefono_', 'tip_ide_', 'num_ide_', 'ocupacion_', 'pri_ape_', 'pri_nom_', 'seg_ape_', 'seg_nom_', 'tip_ide_']\n",
      "🗑️ En 'raw_dengue_2020.csv' se eliminaron: ['ajuste_', 'cbmte_', 'cen_pobla_', 'cer_def_', 'cod_ase_', 'cod_dpto_r', 'cod_eve', 'cod_mun_r', 'cod_pais_o', 'cod_pre', 'cod_sub', 'eve_historico', 'fec_aju_', 'fec_arc_xl', 'fec_def_', 'fm_fuerza', 'fm_grado', 'fm_unidad', 'gp_carcela', 'gp_desmovi', 'gp_desplaz', 'gp_discapa', 'gp_gestan', 'gp_indigen', 'gp_pobicbf', 'gp_mad_com', 'gp_migrant', 'gp_otros', 'gp_psiquia', 'gp_vic_vio', 'localidad', 'ndep_notif', 'ndep_resi', 'nit_upgd', 'nmun_notif', 'nmun_resi', 'nom_dil_f_', 'nom_upgd', 'vereda_', 'tel_dil_f_', 'telefono_', 'tip_ide_', 'num_ide_', 'ocupacion_', 'pri_ape_', 'pri_nom_', 'seg_ape_', 'seg_nom_', 'tip_ide_']\n",
      "🗑️ En 'raw_dengue_2021.csv' se eliminaron: ['ajuste_', 'cbmte_', 'cen_pobla_', 'cer_def_', 'cod_ase_', 'cod_dpto_r', 'cod_eve', 'cod_mun_r', 'cod_pais_o', 'cod_pre', 'cod_sub', 'eve_historico', 'fec_aju_', 'fec_arc_xl', 'fec_def_', 'fm_fuerza', 'fm_grado', 'fm_unidad', 'gp_carcela', 'gp_desmovi', 'gp_desplaz', 'gp_discapa', 'gp_gestan', 'gp_indigen', 'gp_pobicbf', 'gp_mad_com', 'gp_migrant', 'gp_otros', 'gp_psiquia', 'gp_vic_vio', 'localidad', 'ndep_notif', 'ndep_resi', 'nit_upgd', 'nmun_notif', 'nmun_resi', 'nom_dil_f_', 'nom_upgd', 'vereda_', 'tel_dil_f_', 'telefono_', 'tip_ide_', 'num_ide_', 'ocupacion_', 'pri_ape_', 'pri_nom_', 'seg_ape_', 'seg_nom_', 'tip_ide_']\n",
      "🗑️ En 'raw_dengue_2022.csv' se eliminaron: ['ajuste_', 'cbmte_', 'cen_pobla_', 'cer_def_', 'cod_ase_', 'cod_dpto_r', 'cod_eve', 'cod_mun_r', 'cod_pais_o', 'cod_pre', 'cod_sub', 'eve_historico', 'fec_aju_', 'fec_arc_xl', 'fec_def_', 'fm_fuerza', 'fm_grado', 'fm_unidad', 'gp_carcela', 'gp_desmovi', 'gp_desplaz', 'gp_discapa', 'gp_gestan', 'gp_indigen', 'gp_pobicbf', 'gp_mad_com', 'gp_migrant', 'gp_otros', 'gp_psiquia', 'gp_vic_vio', 'localidad', 'ndep_notif', 'ndep_resi', 'nit_upgd', 'nmun_notif', 'nmun_resi', 'nom_dil_f_', 'nom_upgd', 'vereda_', 'tel_dil_f_', 'telefono_', 'tip_ide_', 'num_ide_', 'ocupacion_', 'pri_ape_', 'pri_nom_', 'seg_ape_', 'seg_nom_', 'tip_ide_']\n",
      "🗑️ En 'raw_dengue_2024.csv' se eliminaron: ['ajuste_', 'cbmte_', 'cen_pobla_', 'cer_def_', 'cod_ase_', 'cod_pais_o', 'cod_pais_r', 'cod_pre', 'cod_sub', 'fec_aju_', 'fec_arc_xl', 'fec_def_', 'fm_fuerza', 'fm_grado', 'fm_unidad', 'gp_carcela', 'gp_desmovi', 'gp_desplaz', 'gp_discapa', 'gp_gestan', 'gp_indigen', 'gp_pobicbf', 'gp_mad_com', 'gp_migrant', 'gp_otros', 'gp_psiquia', 'gp_vic_vio', 'localidad', 'ndep_notif', 'ndep_resi', 'nit_upgd', 'nmun_notif', 'nmun_resi', 'nom_dil_f_', 'nom_upgd', 'nombre_nacionalidad', 'sem_ges', 'vereda_', 'version', 'tel_dil_f_', 'telefono_', 'tip_ide_', 'num_ide_', 'ocupacion_', 'pri_ape_', 'pri_nom_', 'seg_ape_', 'seg_nom_', 'tip_ide_']\n"
     ]
    }
   ],
   "source": [
    "# Descartar variables poco informativas\n",
    "delete = [\n",
    "    'ajuste_', 'bar_ver_', 'cbmte_', 'cen_pobla_', 'cer_def_', 'cod_ase_', 'cod_dpto_n_',\n",
    "    'cod_dpto_r', 'cod_eve.1', 'cod_mun_n',  'cod_eve','cod_mun_r', 'cod_pais_o', 'cod_pais_r',\n",
    "    'cod_pre', 'cod_sub', 'confirmados', 'consecutive', 'consecutive_12', 'dir_res_',\n",
    "    'consecutive_origen', 'departamento_notificacion', 'departamento_residencia',\n",
    "    'estado_final_de_caso', 'estrato', 'eve_historico',  'fec_aju_', 'fec_arc_xl', 'fec_def_',\n",
    "    'fm_fuerza', 'fm_grado', 'fm_unidad', 'fuente', 'gp_carcela', 'gp_desmovi',\n",
    "    'gp_desplaz', 'gp_discapa', 'gp_gestan', 'gp_indigen', 'gp_pobicbf', 'gp_mad_com', 'gp_migrant',\n",
    "    'gp_otros', 'gp_pobicfb', 'gp_psiquia', 'gp_vic_vio', 'gru_pob', 'localidad', 'municipio_notificacion', 'municipio_residencia', 'nacionalidad',\n",
    "    'ndep_notif', 'ndep_resi', 'nit_upgd', 'nmun_notif', 'nmun_resi', 'nom_dil_f_',\n",
    "    'nom_est_f_caso', 'nom_grupo', 'nom_upgd', 'nombre_nacionalidad',\n",
    "    'nombre_upgd', 'ocupacion', 'pais_ocurrencia', 'pais_residencia', 'partición',\n",
    "    'sem_ges', 'va_sispro', 'vereda_', 'version', 'est_f_caso',\n",
    "    'tel_dil_f_', 'telefono_', 'tip_ide_', \n",
    "    'num_ide_', 'ocupacion_', 'pri_ape_', 'pri_nom_', 'seg_ape_', 'seg_nom_', 'tip_ide_'\n",
    "]\n",
    "for nombre, data in dataframes.items():\n",
    "    cols_a_borrar = [col for col in delete if col in data.columns]\n",
    "    if cols_a_borrar:\n",
    "        dataframes[nombre] = data.drop(columns=cols_a_borrar)\n",
    "        print(f\"🗑️ En '{nombre}' se eliminaron: {cols_a_borrar}\")\n",
    "    else:\n",
    "        print(f\"✅ En '{nombre}' no había columnas para eliminar.\")"
   ]
  },
  {
   "cell_type": "markdown",
   "id": "94020340",
   "metadata": {},
   "source": [
    "## Unificación"
   ]
  },
  {
   "cell_type": "code",
   "execution_count": 273,
   "id": "df348b97",
   "metadata": {},
   "outputs": [
    {
     "name": "stdout",
     "output_type": "stream",
     "text": [
      "<class 'pandas.core.frame.DataFrame'>\n",
      "RangeIndex: 36714 entries, 0 to 36713\n",
      "Data columns (total 23 columns):\n",
      " #   Column                 Non-Null Count  Dtype  \n",
      "---  ------                 --------------  -----  \n",
      " 0   area                   36714 non-null  int64  \n",
      " 1   año                    36714 non-null  int64  \n",
      " 2   barrio                 36417 non-null  object \n",
      " 3   cod_dpto_o             30032 non-null  float64\n",
      " 4   cod_mun_o              30032 non-null  float64\n",
      " 5   departamento           36714 non-null  object \n",
      " 6   desenlace              36714 non-null  int64  \n",
      " 7   direccion              36713 non-null  object \n",
      " 8   edad                   36714 non-null  int64  \n",
      " 9   fecha_consulta         36714 non-null  object \n",
      " 10  fecha_hospitalizacion  36714 non-null  object \n",
      " 11  fecha_inicio_sintomas  36714 non-null  object \n",
      " 12  fecha_nacimiento       36714 non-null  object \n",
      " 13  fecha_notificacion     36714 non-null  object \n",
      " 14  hospitalizacion        36714 non-null  int64  \n",
      " 15  municipio              36714 non-null  object \n",
      " 16  nombre_evento          36714 non-null  object \n",
      " 17  pertencia_etnica       36714 non-null  int64  \n",
      " 18  regimen_salud          36714 non-null  object \n",
      " 19  semana                 36714 non-null  int64  \n",
      " 20  sexo                   36714 non-null  object \n",
      " 21  tipo_de_caso           36714 non-null  int64  \n",
      " 22  uni_med_               36714 non-null  int64  \n",
      "dtypes: float64(2), int64(9), object(12)\n",
      "memory usage: 6.4+ MB\n"
     ]
    }
   ],
   "source": [
    "# Concatenar archivos en un solo DataFrame\n",
    "data = pd.concat(dataframes.values(), ignore_index=True)\n",
    "data = data[sorted(data.columns)]\n",
    "data.info()"
   ]
  },
  {
   "cell_type": "markdown",
   "id": "d78bb2ee",
   "metadata": {},
   "source": [
    "_________"
   ]
  },
  {
   "cell_type": "markdown",
   "id": "228e3a53",
   "metadata": {},
   "source": [
    "## Agregación"
   ]
  },
  {
   "cell_type": "code",
   "execution_count": 274,
   "id": "8b880c21",
   "metadata": {},
   "outputs": [
    {
     "data": {
      "text/plain": [
       "array(['Clasico', 'Grave'], dtype=object)"
      ]
     },
     "execution_count": 274,
     "metadata": {},
     "output_type": "execute_result"
    }
   ],
   "source": [
    "# [Variable] Evento\n",
    "data.loc[:, 'nombre_evento'] = data['nombre_evento'].str.strip()\n",
    "data = data[data['nombre_evento'] != 'MORTALIDAD POR DENGUE']\n",
    "data['evento'] = np.where(data['nombre_evento'] == 'DENGUE', 'Clasico', \n",
    "                       np.where(data['nombre_evento'] == 'DENGUE GRAVE', 'Grave', 'Otros'))\n",
    "data['evento'].unique()"
   ]
  },
  {
   "cell_type": "code",
   "execution_count": 275,
   "id": "b4eb0642",
   "metadata": {},
   "outputs": [
    {
     "data": {
      "text/plain": [
       "count    36707.000000\n",
       "mean        16.703953\n",
       "std         13.748010\n",
       "min          0.000000\n",
       "25%          8.000000\n",
       "50%         13.000000\n",
       "75%         20.000000\n",
       "max        101.000000\n",
       "Name: edad_años, dtype: float64"
      ]
     },
     "execution_count": 275,
     "metadata": {},
     "output_type": "execute_result"
    }
   ],
   "source": [
    "# [Variable] Edad en años\n",
    "data[\"edad_años\"] = np.where(data[\"uni_med_\"] == 1, data[\"edad\"],   # ya está en años\n",
    "                    np.where(data[\"uni_med_\"] == 2, data[\"edad\"] / 12,  # meses → años\n",
    "                    np.where(data[\"uni_med_\"] == 3, data[\"edad\"] / 365, # días → años\n",
    "                    np.where(data[\"uni_med_\"] == 4, data[\"edad\"] / (365*24), # horas\n",
    "                    np.where(data[\"uni_med_\"] == 5, data[\"edad\"] / (365*24*60), # minutos\n",
    "                    np.where(data[\"uni_med_\"] == 0, np.nan, \n",
    "                     np.nan))))))  # por si hay otros valores\n",
    "data[\"edad_años\"] = data[\"edad_años\"].round().fillna(-1).astype(int)\n",
    "data['edad_años'].describe()"
   ]
  },
  {
   "cell_type": "code",
   "execution_count": 276,
   "id": "cd85c563",
   "metadata": {},
   "outputs": [
    {
     "data": {
      "text/plain": [
       "array(['Ancianidad', 'Adolescencia', 'Adulto mayor', 'Infancia', 'Adulto',\n",
       "       'Primera infancia', 'Menor de 1 año'], dtype=object)"
      ]
     },
     "execution_count": 276,
     "metadata": {},
     "output_type": "execute_result"
    }
   ],
   "source": [
    "# [Variable] Ciclo vital a partir de edad en años\n",
    "def ciclo_vital(edad):\n",
    "    if edad < 0:\n",
    "        return \"Desconocido\"\n",
    "    elif edad < 1:\n",
    "        return \"Menor de 1 año\"\n",
    "    elif edad < 5:\n",
    "        return \"Primera infancia\"\n",
    "    elif edad < 10:\n",
    "        return \"Infancia\"\n",
    "    elif edad < 20:\n",
    "        return \"Adolescencia\"\n",
    "    elif edad < 60:\n",
    "        return \"Adulto\"\n",
    "    elif edad < 85:\n",
    "        return \"Adulto mayor\"\n",
    "    else:\n",
    "        return \"Ancianidad\"\n",
    "    \n",
    "data[\"ciclo_vital\"] = data[\"edad_años\"].apply(ciclo_vital)\n",
    "data[\"ciclo_vital\"].unique()"
   ]
  },
  {
   "cell_type": "code",
   "execution_count": 277,
   "id": "8a7ec2bd",
   "metadata": {},
   "outputs": [],
   "source": [
    "# [Mapeo] Variables categóricas\n",
    "mapeo = {\n",
    "    'area' : {1: 'Cabecera municipal' , 2:'Centro Poblado', 3:'Rural disperso'}, \n",
    "    'hospitalizacion': {1: 'Si', 2: 'No'},\n",
    "    'desenlace': {1: 'Vivo', 2: 'Fallecido'},\n",
    "    'pertencia_etnica': {1: 'Indigena', 2: 'Rom', 3: 'Raizal', 4: 'Palenquero', 5: 'Negro', 6:'Otro'},\n",
    "    'regimen_salud': {'P': 'Excepción', 'E': 'Especial', 'C': 'Contributivo', 'S': 'Subsidiado', 'N': 'No asegurado', 'I': 'Indeterminado'},\n",
    "    'sexo': {'M': 'Masculino', 'F': 'Femenino'},\n",
    "    'tipo_de_caso': {2: 'Probable', 3: 'Conf. por laboratorio', 5: 'Conf. por nexo'}\n",
    "}\n",
    "data = data.replace(mapeo)"
   ]
  },
  {
   "cell_type": "code",
   "execution_count": 278,
   "id": "e244ffe7",
   "metadata": {},
   "outputs": [
    {
     "data": {
      "text/plain": [
       "0        Otro\n",
       "1        Otro\n",
       "2        Otro\n",
       "3        Otro\n",
       "4        Otro\n",
       "         ... \n",
       "36709    Otro\n",
       "36710    Otro\n",
       "36711    Otro\n",
       "36712    Otro\n",
       "36713    Otro\n",
       "Name: pertencia_etnica, Length: 36707, dtype: object"
      ]
     },
     "execution_count": 278,
     "metadata": {},
     "output_type": "execute_result"
    }
   ],
   "source": [
    "data['pertencia_etnica']"
   ]
  },
  {
   "cell_type": "code",
   "execution_count": 279,
   "id": "3e8bb675",
   "metadata": {},
   "outputs": [],
   "source": [
    "# [Mapeo] Grupos étnicos\n",
    "mapeo_etnico = {\n",
    "    'Indigena': 'Indígena',\n",
    "    'Negro': 'Afrocolombiano',\n",
    "    'Raizal': 'Afrocolombiano',\n",
    "    'Palenquero': 'Afrocolombiano',\n",
    "    'Rom': 'Rom',\n",
    "    'Otro': 'Otro'\n",
    "}\n",
    "data['grupo_etnico'] = data['pertencia_etnica'].map(mapeo_etnico)"
   ]
  },
  {
   "cell_type": "code",
   "execution_count": 280,
   "id": "b20b5580",
   "metadata": {},
   "outputs": [
    {
     "data": {
      "text/plain": [
       "array(['ATLÁNTICO'], dtype=object)"
      ]
     },
     "execution_count": 280,
     "metadata": {},
     "output_type": "execute_result"
    }
   ],
   "source": [
    "# [Variable] Departamento\n",
    "data['departamento'] = data[\"departamento\"].str.upper().str.strip()\n",
    "data['departamento'] = data['departamento'].str.replace('_', ' ', regex=False)\n",
    "\n",
    "data['departamento'] = data['departamento'].replace({'ATLANTICO': 'ATLÁNTICO', '8': 'ATLÁNTICO'})\n",
    "data = data[data['departamento'] == \"ATLÁNTICO\"]\n",
    "data['departamento'].unique()"
   ]
  },
  {
   "cell_type": "code",
   "execution_count": 281,
   "id": "e221bf8c",
   "metadata": {},
   "outputs": [
    {
     "data": {
      "text/plain": [
       "array(['BARRANQUILLA', 'SOLEDAD', 'REPELÓN', 'JUAN DE ACOSTA', 'GALAPA',\n",
       "       'USIACURÍ', 'BARANOA', 'POLONUEVO', 'SABANALARGA', 'SABANAGRANDE',\n",
       "       'MALAMBO', 'LURUACO', 'CAMPO DE LA CRUZ', 'SANTO TOMÁS',\n",
       "       'DESCONOCIDO', 'TUBARÁ', 'PONEDERA', 'PUERTO COLOMBIA', 'MANATÍ',\n",
       "       'CANDELARIA', 'PALMAR DE VARELA', 'SUAN', 'PIOJÓ', 'SANTA LUCÍA',\n",
       "       'SANTA LUCIA', '0', '7'], dtype=object)"
      ]
     },
     "execution_count": 281,
     "metadata": {},
     "output_type": "execute_result"
    }
   ],
   "source": [
    "# [Variable] Departamento\n",
    "data['municipio'] = data[\"municipio\"].str.upper().str.strip()\n",
    "data['municipio'] = data['municipio'].str.replace('_', ' ', regex=False)\n",
    "\n",
    "correcciones_mun= {\n",
    "    '1': 'BARRANQUILLA',\n",
    "    '758': 'SOLEDAD',\n",
    "    '606': 'REPELÓN',\n",
    "    '372': 'JUAN DE ACOSTA',\n",
    "    '849': 'USIACURÍ', 'USIACURI': 'USIACURÍ', '8499': 'USIACURÍ',\n",
    "    '296': 'GALAPA',\n",
    "    '606': 'REPELÓN', 'REPELON': 'REPELÓN', \n",
    "    '78': 'BARANOA', \n",
    "    '558': 'POLONUEVO', 'POLO NUEVO': 'POLONUEVO',\n",
    "    '638': 'SABANALARGA',\n",
    "    '433': 'MALAMBO',\n",
    "    '421': 'LURUACO',\n",
    "    '634': 'SABANAGRANDE',\n",
    "    '685': 'SANTO TOMÁS', 'SANTO TOMAS': 'SANTO TOMÁS', \n",
    "    '832': 'TUBARÁ', 'TUBARA': 'TUBARÁ',\n",
    "    '137': 'CAMPO DE LA CRUZ',\n",
    "    '* ATLANTICO. MUNICIPIO DESCONO': 'DESCONOCIDO',\n",
    "    '560': 'PONEDERA',\n",
    "    '573': 'PUERTO COLOMBIA', \n",
    "    '436': 'MANATÍ', 'MANATI': 'MANATÍ',\n",
    "    '141': 'CANDELARIA', \n",
    "    '560': 'PONEDERA', '560PO': 'PONEDERA',\n",
    "    '520': 'PALMAR DE VARELA',\n",
    "    '770': 'SUAN',\n",
    "    '549': 'PIOJÓ', 'PIOJO': 'PIOJÓ',\n",
    "    '675': 'SANTA LUCIA', 'SANTA LUCIA': 'SANTA LUCÍA',\n",
    "\n",
    "}\n",
    "\n",
    "data['municipio'] = data['municipio'].replace(correcciones_mun)\n",
    "data['municipio'].unique()"
   ]
  },
  {
   "cell_type": "code",
   "execution_count": 282,
   "id": "bf0c68bc",
   "metadata": {},
   "outputs": [],
   "source": [
    "# [Variable] Periodo epidemiológico (4 semanas)\n",
    "def asignar_periodo(semana):\n",
    "    \"\"\"\n",
    "    Calcula el número de periodo según la semana epidemiológica.\n",
    "    Cada periodo abarca 4 semanas. \n",
    "    La semana 53 se incluye en el último periodo.\n",
    "    \"\"\"\n",
    "    if pd.isna(semana):\n",
    "        return np.nan\n",
    "    semana = int(semana)\n",
    "    periodo = int(np.ceil(semana / 4))\n",
    "    if semana == 53:  # Semana extra del año\n",
    "        periodo = int(np.ceil(52 / 4))  # igual al último periodo\n",
    "    return periodo\n",
    "\n",
    "# Aplicar al dataframe\n",
    "data[\"periodo\"] = data[\"semana\"].apply(asignar_periodo)"
   ]
  },
  {
   "cell_type": "code",
   "execution_count": 283,
   "id": "d3703059",
   "metadata": {},
   "outputs": [],
   "source": [
    "# Descartar variables originales ya transformadas\n",
    "data = data.drop(columns=['edad', 'uni_med_', 'pertencia_etnica', 'nombre_evento', 'departamento',\n",
    "                          'cod_dpto_o', 'cod_mun_o'])"
   ]
  },
  {
   "cell_type": "code",
   "execution_count": 284,
   "id": "0be6985b",
   "metadata": {},
   "outputs": [],
   "source": [
    "# [Data] Estructuración por temática\n",
    "\n",
    "    # Variables demográficas\n",
    "demograficas = [\n",
    "    \"sexo\",                    # M/F\n",
    "    \"edad_años\",               # Edad numérica\n",
    "    \"ciclo_vital\",             # Etapa de vida\n",
    "    \"grupo_etnico\",            # Grupo étnico declarado\n",
    "    \"regimen_salud\"            # Régimen (contributivo, subsidiado, etc.)\n",
    "]\n",
    "\n",
    "    # Variables del evento epidemiológico\n",
    "evento = [\n",
    "    \"evento\",                  # Clásico, grave\n",
    "    \"tipo_de_caso\",               # Confirmado, probable, descartado\n",
    "    \"hospitalizacion\",         # Sí/No\n",
    "    \"desenlace\"                # Recuperado, fallecido, etc.\n",
    "]\n",
    "\n",
    "    # Variables de temporalidad\n",
    "temporalidad = [\n",
    "    \"año\",                     # Año del evento\n",
    "    \"semana\",                  # Semana epidemiológica\n",
    "    \"periodo\",                 # Periodo (cada 4 semanas)\n",
    "    \"fecha_inicio_sintomas\",   # Inicio de síntomas\n",
    "    \"fecha_consulta\",          # Fecha de consulta\n",
    "    \"fecha_hospitalizacion\",   # Fecha de hospitalización\n",
    "    \"fecha_notificacion\",      # Fecha de notificación\n",
    "    \"fecha_nacimiento\"         # Fecha de nacimiento\n",
    "]\n",
    "\n",
    "    # Variables espaciales\n",
    "espacial = [\n",
    "    \"municipio\"                # Municipio de ocurrencia\n",
    "    \"area\",                    # Urbana o rural\n",
    "    \"localidad\",                # Localidad (si aplica)\n",
    "    \"direccion\"                # Dirección (si aplica)\n",
    "    \"barrio\"                    # Barrio (si aplica)\n",
    "\n",
    "]\n",
    "\n",
    "orden_columnas = demograficas + evento + temporalidad + espacial\n",
    "cols_existentes = [col for col in orden_columnas if col in data.columns]\n",
    "data = data[cols_existentes + [col for col in data.columns if col not in cols_existentes]]"
   ]
  },
  {
   "cell_type": "code",
   "execution_count": 285,
   "id": "38bb8bdb",
   "metadata": {},
   "outputs": [
    {
     "name": "stdout",
     "output_type": "stream",
     "text": [
      "Número de filas duplicadas exactas en columnas de interés: 2\n"
     ]
    }
   ],
   "source": [
    "# Eliminar registros duplicados exactos\n",
    "count_duplicados = data.duplicated().sum()\n",
    "print(f\"Número de filas duplicadas exactas en columnas de interés: {count_duplicados}\")\n",
    "data = data.drop_duplicates(keep=\"first\").copy()"
   ]
  },
  {
   "cell_type": "code",
   "execution_count": 286,
   "id": "7be07f81",
   "metadata": {},
   "outputs": [
    {
     "name": "stdout",
     "output_type": "stream",
     "text": [
      "<class 'pandas.core.frame.DataFrame'>\n",
      "Index: 35843 entries, 0 to 36713\n",
      "Data columns (total 21 columns):\n",
      " #   Column                 Non-Null Count  Dtype \n",
      "---  ------                 --------------  ----- \n",
      " 0   sexo                   35843 non-null  object\n",
      " 1   edad_años              35843 non-null  int64 \n",
      " 2   ciclo_vital            35843 non-null  object\n",
      " 3   grupo_etnico           35843 non-null  object\n",
      " 4   regimen_salud          35843 non-null  object\n",
      " 5   evento                 35843 non-null  object\n",
      " 6   tipo_de_caso           35843 non-null  object\n",
      " 7   hospitalizacion        35843 non-null  object\n",
      " 8   desenlace              35843 non-null  object\n",
      " 9   año                    35843 non-null  int64 \n",
      " 10  semana                 35843 non-null  int64 \n",
      " 11  periodo                35843 non-null  int64 \n",
      " 12  fecha_inicio_sintomas  35843 non-null  object\n",
      " 13  fecha_consulta         35843 non-null  object\n",
      " 14  fecha_hospitalizacion  35843 non-null  object\n",
      " 15  fecha_notificacion     35843 non-null  object\n",
      " 16  fecha_nacimiento       35843 non-null  object\n",
      " 17  area                   35843 non-null  object\n",
      " 18  barrio                 35582 non-null  object\n",
      " 19  direccion              35842 non-null  object\n",
      " 20  municipio              35843 non-null  object\n",
      "dtypes: int64(4), object(17)\n",
      "memory usage: 6.0+ MB\n"
     ]
    }
   ],
   "source": [
    "# DataFrame final\n",
    "data.info()"
   ]
  },
  {
   "cell_type": "code",
   "execution_count": 287,
   "id": "c150571f",
   "metadata": {},
   "outputs": [
    {
     "data": {
      "text/html": [
       "<div>\n",
       "<style scoped>\n",
       "    .dataframe tbody tr th:only-of-type {\n",
       "        vertical-align: middle;\n",
       "    }\n",
       "\n",
       "    .dataframe tbody tr th {\n",
       "        vertical-align: top;\n",
       "    }\n",
       "\n",
       "    .dataframe thead th {\n",
       "        text-align: right;\n",
       "    }\n",
       "</style>\n",
       "<table border=\"1\" class=\"dataframe\">\n",
       "  <thead>\n",
       "    <tr style=\"text-align: right;\">\n",
       "      <th></th>\n",
       "      <th>sexo</th>\n",
       "      <th>edad_años</th>\n",
       "      <th>ciclo_vital</th>\n",
       "      <th>grupo_etnico</th>\n",
       "      <th>regimen_salud</th>\n",
       "      <th>evento</th>\n",
       "      <th>tipo_de_caso</th>\n",
       "      <th>hospitalizacion</th>\n",
       "      <th>desenlace</th>\n",
       "      <th>año</th>\n",
       "      <th>...</th>\n",
       "      <th>periodo</th>\n",
       "      <th>fecha_inicio_sintomas</th>\n",
       "      <th>fecha_consulta</th>\n",
       "      <th>fecha_hospitalizacion</th>\n",
       "      <th>fecha_notificacion</th>\n",
       "      <th>fecha_nacimiento</th>\n",
       "      <th>area</th>\n",
       "      <th>barrio</th>\n",
       "      <th>direccion</th>\n",
       "      <th>municipio</th>\n",
       "    </tr>\n",
       "  </thead>\n",
       "  <tbody>\n",
       "    <tr>\n",
       "      <th>0</th>\n",
       "      <td>Femenino</td>\n",
       "      <td>93</td>\n",
       "      <td>Ancianidad</td>\n",
       "      <td>Otro</td>\n",
       "      <td>Contributivo</td>\n",
       "      <td>Clasico</td>\n",
       "      <td>Conf. por laboratorio</td>\n",
       "      <td>Si</td>\n",
       "      <td>Vivo</td>\n",
       "      <td>2017</td>\n",
       "      <td>...</td>\n",
       "      <td>11</td>\n",
       "      <td>03/11/2017</td>\n",
       "      <td>04/11/2017</td>\n",
       "      <td>05/11/2017</td>\n",
       "      <td>05/11/2017</td>\n",
       "      <td>-   -</td>\n",
       "      <td>Cabecera municipal</td>\n",
       "      <td>LOS PINOS</td>\n",
       "      <td>CRA 26 N 5327</td>\n",
       "      <td>BARRANQUILLA</td>\n",
       "    </tr>\n",
       "    <tr>\n",
       "      <th>1</th>\n",
       "      <td>Femenino</td>\n",
       "      <td>16</td>\n",
       "      <td>Adolescencia</td>\n",
       "      <td>Otro</td>\n",
       "      <td>Subsidiado</td>\n",
       "      <td>Clasico</td>\n",
       "      <td>Probable</td>\n",
       "      <td>Si</td>\n",
       "      <td>Vivo</td>\n",
       "      <td>2017</td>\n",
       "      <td>...</td>\n",
       "      <td>13</td>\n",
       "      <td>18/12/2017</td>\n",
       "      <td>21/12/2017</td>\n",
       "      <td>21/12/2017</td>\n",
       "      <td>21/12/2017</td>\n",
       "      <td>-   -</td>\n",
       "      <td>Cabecera municipal</td>\n",
       "      <td>LAS NIEVES</td>\n",
       "      <td>CALLE 15 NUM 29137</td>\n",
       "      <td>BARRANQUILLA</td>\n",
       "    </tr>\n",
       "    <tr>\n",
       "      <th>2</th>\n",
       "      <td>Masculino</td>\n",
       "      <td>14</td>\n",
       "      <td>Adolescencia</td>\n",
       "      <td>Otro</td>\n",
       "      <td>Subsidiado</td>\n",
       "      <td>Clasico</td>\n",
       "      <td>Probable</td>\n",
       "      <td>Si</td>\n",
       "      <td>Vivo</td>\n",
       "      <td>2017</td>\n",
       "      <td>...</td>\n",
       "      <td>8</td>\n",
       "      <td>18/07/2017</td>\n",
       "      <td>21/07/2017</td>\n",
       "      <td>21/07/2017</td>\n",
       "      <td>21/07/2017</td>\n",
       "      <td>-   -</td>\n",
       "      <td>Cabecera municipal</td>\n",
       "      <td>LAS NIEVES</td>\n",
       "      <td>CARRERA 24A NUM 2224</td>\n",
       "      <td>BARRANQUILLA</td>\n",
       "    </tr>\n",
       "    <tr>\n",
       "      <th>3</th>\n",
       "      <td>Femenino</td>\n",
       "      <td>83</td>\n",
       "      <td>Adulto mayor</td>\n",
       "      <td>Otro</td>\n",
       "      <td>Contributivo</td>\n",
       "      <td>Clasico</td>\n",
       "      <td>Conf. por laboratorio</td>\n",
       "      <td>No</td>\n",
       "      <td>Vivo</td>\n",
       "      <td>2017</td>\n",
       "      <td>...</td>\n",
       "      <td>12</td>\n",
       "      <td>09/11/2017</td>\n",
       "      <td>14/11/2017</td>\n",
       "      <td>-   -</td>\n",
       "      <td>14/11/2017</td>\n",
       "      <td>-   -</td>\n",
       "      <td>Cabecera municipal</td>\n",
       "      <td>PARAISO</td>\n",
       "      <td>CALLE 77 # 5785</td>\n",
       "      <td>BARRANQUILLA</td>\n",
       "    </tr>\n",
       "    <tr>\n",
       "      <th>4</th>\n",
       "      <td>Femenino</td>\n",
       "      <td>60</td>\n",
       "      <td>Adulto mayor</td>\n",
       "      <td>Otro</td>\n",
       "      <td>Contributivo</td>\n",
       "      <td>Clasico</td>\n",
       "      <td>Probable</td>\n",
       "      <td>No</td>\n",
       "      <td>Vivo</td>\n",
       "      <td>2017</td>\n",
       "      <td>...</td>\n",
       "      <td>13</td>\n",
       "      <td>27/12/2017</td>\n",
       "      <td>02/01/2018</td>\n",
       "      <td>-   -</td>\n",
       "      <td>02/01/2018</td>\n",
       "      <td>-   -</td>\n",
       "      <td>Cabecera municipal</td>\n",
       "      <td>VILLA SANTOS</td>\n",
       "      <td>KR 49C N° 102 104 CASA 6</td>\n",
       "      <td>BARRANQUILLA</td>\n",
       "    </tr>\n",
       "  </tbody>\n",
       "</table>\n",
       "<p>5 rows × 21 columns</p>\n",
       "</div>"
      ],
      "text/plain": [
       "        sexo  edad_años   ciclo_vital grupo_etnico regimen_salud   evento  \\\n",
       "0   Femenino         93    Ancianidad         Otro  Contributivo  Clasico   \n",
       "1   Femenino         16  Adolescencia         Otro    Subsidiado  Clasico   \n",
       "2  Masculino         14  Adolescencia         Otro    Subsidiado  Clasico   \n",
       "3   Femenino         83  Adulto mayor         Otro  Contributivo  Clasico   \n",
       "4   Femenino         60  Adulto mayor         Otro  Contributivo  Clasico   \n",
       "\n",
       "            tipo_de_caso hospitalizacion desenlace   año  ...  periodo  \\\n",
       "0  Conf. por laboratorio              Si      Vivo  2017  ...       11   \n",
       "1               Probable              Si      Vivo  2017  ...       13   \n",
       "2               Probable              Si      Vivo  2017  ...        8   \n",
       "3  Conf. por laboratorio              No      Vivo  2017  ...       12   \n",
       "4               Probable              No      Vivo  2017  ...       13   \n",
       "\n",
       "   fecha_inicio_sintomas fecha_consulta fecha_hospitalizacion  \\\n",
       "0             03/11/2017     04/11/2017            05/11/2017   \n",
       "1             18/12/2017     21/12/2017            21/12/2017   \n",
       "2             18/07/2017     21/07/2017            21/07/2017   \n",
       "3             09/11/2017     14/11/2017                 -   -   \n",
       "4             27/12/2017     02/01/2018                 -   -   \n",
       "\n",
       "  fecha_notificacion fecha_nacimiento                area  \\\n",
       "0         05/11/2017            -   -  Cabecera municipal   \n",
       "1         21/12/2017            -   -  Cabecera municipal   \n",
       "2         21/07/2017            -   -  Cabecera municipal   \n",
       "3         14/11/2017            -   -  Cabecera municipal   \n",
       "4         02/01/2018            -   -  Cabecera municipal   \n",
       "\n",
       "                           barrio                 direccion     municipio  \n",
       "0  LOS PINOS                                  CRA 26 N 5327  BARRANQUILLA  \n",
       "1  LAS NIEVES                            CALLE 15 NUM 29137  BARRANQUILLA  \n",
       "2  LAS NIEVES                          CARRERA 24A NUM 2224  BARRANQUILLA  \n",
       "3  PARAISO                                  CALLE 77 # 5785  BARRANQUILLA  \n",
       "4  VILLA SANTOS                    KR 49C N° 102 104 CASA 6  BARRANQUILLA  \n",
       "\n",
       "[5 rows x 21 columns]"
      ]
     },
     "execution_count": 287,
     "metadata": {},
     "output_type": "execute_result"
    }
   ],
   "source": [
    "data.head()"
   ]
  },
  {
   "cell_type": "code",
   "execution_count": 288,
   "id": "e310f71c",
   "metadata": {},
   "outputs": [
    {
     "name": "stdout",
     "output_type": "stream",
     "text": [
      "<class 'pandas.core.frame.DataFrame'>\n",
      "Index: 17267 entries, 0 to 36698\n",
      "Data columns (total 21 columns):\n",
      " #   Column                 Non-Null Count  Dtype \n",
      "---  ------                 --------------  ----- \n",
      " 0   sexo                   17267 non-null  object\n",
      " 1   edad_años              17267 non-null  int64 \n",
      " 2   ciclo_vital            17267 non-null  object\n",
      " 3   grupo_etnico           17267 non-null  object\n",
      " 4   regimen_salud          17267 non-null  object\n",
      " 5   evento                 17267 non-null  object\n",
      " 6   tipo_de_caso           17267 non-null  object\n",
      " 7   hospitalizacion        17267 non-null  object\n",
      " 8   desenlace              17267 non-null  object\n",
      " 9   año                    17267 non-null  int64 \n",
      " 10  semana                 17267 non-null  int64 \n",
      " 11  periodo                17267 non-null  int64 \n",
      " 12  fecha_inicio_sintomas  17267 non-null  object\n",
      " 13  fecha_consulta         17267 non-null  object\n",
      " 14  fecha_hospitalizacion  17267 non-null  object\n",
      " 15  fecha_notificacion     17267 non-null  object\n",
      " 16  fecha_nacimiento       17267 non-null  object\n",
      " 17  area                   17267 non-null  object\n",
      " 18  barrio                 17250 non-null  object\n",
      " 19  direccion              17267 non-null  object\n",
      " 20  municipio              17267 non-null  object\n",
      "dtypes: int64(4), object(17)\n",
      "memory usage: 2.9+ MB\n"
     ]
    }
   ],
   "source": [
    "df_quilla = data[data['municipio'] == \"BARRANQUILLA\"]\n",
    "df_quilla.info()"
   ]
  },
  {
   "cell_type": "code",
   "execution_count": 289,
   "id": "19cf52a2",
   "metadata": {},
   "outputs": [],
   "source": [
    "df_quilla.to_csv(r\"C:\\Users\\Hp\\DENGUE\\DATA\\Data_Barranquilla.csv\", index=False, encoding='utf-8')"
   ]
  },
  {
   "cell_type": "code",
   "execution_count": 290,
   "id": "32e1f881",
   "metadata": {},
   "outputs": [
    {
     "name": "stdout",
     "output_type": "stream",
     "text": [
      "<class 'pandas.core.frame.DataFrame'>\n",
      "Index: 18576 entries, 7 to 36713\n",
      "Data columns (total 21 columns):\n",
      " #   Column                 Non-Null Count  Dtype \n",
      "---  ------                 --------------  ----- \n",
      " 0   sexo                   18576 non-null  object\n",
      " 1   edad_años              18576 non-null  int64 \n",
      " 2   ciclo_vital            18576 non-null  object\n",
      " 3   grupo_etnico           18576 non-null  object\n",
      " 4   regimen_salud          18576 non-null  object\n",
      " 5   evento                 18576 non-null  object\n",
      " 6   tipo_de_caso           18576 non-null  object\n",
      " 7   hospitalizacion        18576 non-null  object\n",
      " 8   desenlace              18576 non-null  object\n",
      " 9   año                    18576 non-null  int64 \n",
      " 10  semana                 18576 non-null  int64 \n",
      " 11  periodo                18576 non-null  int64 \n",
      " 12  fecha_inicio_sintomas  18576 non-null  object\n",
      " 13  fecha_consulta         18576 non-null  object\n",
      " 14  fecha_hospitalizacion  18576 non-null  object\n",
      " 15  fecha_notificacion     18576 non-null  object\n",
      " 16  fecha_nacimiento       18576 non-null  object\n",
      " 17  area                   18576 non-null  object\n",
      " 18  barrio                 18332 non-null  object\n",
      " 19  direccion              18575 non-null  object\n",
      " 20  municipio              18576 non-null  object\n",
      "dtypes: int64(4), object(17)\n",
      "memory usage: 3.1+ MB\n"
     ]
    }
   ],
   "source": [
    "df_atl = data[data['municipio'] != \"BARRANQUILLA\"]\n",
    "df_atl.info()"
   ]
  },
  {
   "cell_type": "code",
   "execution_count": 291,
   "id": "e49cd3fb",
   "metadata": {},
   "outputs": [],
   "source": [
    "df_atl.to_csv(r\"C:\\Users\\Hp\\DENGUE\\DATA\\Data_Atlantico.csv\", index=False, encoding='utf-8')"
   ]
  }
 ],
 "metadata": {
  "kernelspec": {
   "display_name": "dengue",
   "language": "python",
   "name": "python3"
  },
  "language_info": {
   "codemirror_mode": {
    "name": "ipython",
    "version": 3
   },
   "file_extension": ".py",
   "mimetype": "text/x-python",
   "name": "python",
   "nbconvert_exporter": "python",
   "pygments_lexer": "ipython3",
   "version": "3.12.11"
  }
 },
 "nbformat": 4,
 "nbformat_minor": 5
}
