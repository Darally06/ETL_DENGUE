{
 "cells": [
  {
   "cell_type": "code",
   "execution_count": 1,
   "id": "a7e12258",
   "metadata": {},
   "outputs": [],
   "source": [
    "import pandas as pd\n",
    "import os\n",
    "import numpy as np"
   ]
  },
  {
   "cell_type": "markdown",
   "id": "2e14ec75",
   "metadata": {},
   "source": [
    "* Cargar archivos"
   ]
  },
  {
   "cell_type": "code",
   "execution_count": 2,
   "id": "0c8cf7a0",
   "metadata": {},
   "outputs": [],
   "source": [
    "# CARGAR ARCHIVOS PARA MANEJO\n",
    "def leer_archivos(ruta): \n",
    "    archivos = [f for f in os.listdir(ruta) if f.endswith(\".csv\")]\n",
    "\n",
    "    dataframes = {}\n",
    "    errores = {}\n",
    "\n",
    "    for archivo in archivos:\n",
    "        path = os.path.join(ruta, archivo)\n",
    "        try:\n",
    "            df = pd.read_csv(path, encoding='latin_1', low_memory=False)\n",
    "            df.columns = df.columns.str.lower()\n",
    "            dataframes[archivo] = df\n",
    "\n",
    "        except Exception as e:\n",
    "            errores[archivo] = str(e)\n",
    "\n",
    "    # Mostrar archivos con errores\n",
    "    if errores:\n",
    "        print(\"\\n⚠️ Archivos con errores al cargar:\")\n",
    "        for archivo, error in errores.items():\n",
    "            print(f\"   ❌ {archivo}: {error}\")\n",
    "    else:\n",
    "        print(\"\\n✅ Todos los archivos se cargaron correctamente.\")\n",
    "    i = 1\n",
    "    for archivo in archivos:\n",
    "        if archivo in dataframes:\n",
    "            print(f\"{i}  📄 {archivo}: {dataframes[archivo].shape[0]} filas, {dataframes[archivo].shape[1]} columnas\") \n",
    "            i += 1\n",
    "    \n",
    "    return dataframes, archivos"
   ]
  },
  {
   "cell_type": "code",
   "execution_count": 3,
   "id": "7a4b6f5c",
   "metadata": {},
   "outputs": [],
   "source": [
    "def comparar_columnas(dataframes):\n",
    "\n",
    "    columnas_info = {}\n",
    "    resultados = {}\n",
    "\n",
    "    # Extraer columnas y tipos\n",
    "    for nombre, df in dataframes.items():\n",
    "        columnas_info[nombre] = {\n",
    "            \"columnas\": list(df.columns),\n",
    "            \"tipos\": df.dtypes.to_dict()\n",
    "        }\n",
    "\n",
    "    # Usar el primer archivo como referencia\n",
    "    referencia = list(dataframes.keys())[2]\n",
    "    cols_ref = set(columnas_info[referencia][\"columnas\"])\n",
    "\n",
    "    for nombre, info in columnas_info.items():\n",
    "        if nombre == referencia:\n",
    "            continue\n",
    "\n",
    "        cols_actual = set(info[\"columnas\"])\n",
    "        comunes = cols_ref.intersection(cols_actual)\n",
    "        distintas = cols_ref.symmetric_difference(cols_actual)\n",
    "\n",
    "        print(f\"\\n📂 Comparando {referencia} vs {nombre}:\")\n",
    "        print(f\"    ✔️ Columnas comunes ({len(comunes)}): {sorted(comunes)}\")\n",
    "        print(f\"    ❌ Columnas distintas ({len(distintas)}): {sorted(distintas)}\")\n",
    "\n",
    "        if len(distintas) == 0:\n",
    "            print(\"     ✅ Las columnas son idénticas\")\n",
    "        else:\n",
    "            print(f\"    🔴 Existen {len(distintas)} variables diferentes\")\n"
   ]
  },
  {
   "cell_type": "code",
   "execution_count": 5,
   "id": "ddfe0561",
   "metadata": {},
   "outputs": [
    {
     "name": "stdout",
     "output_type": "stream",
     "text": [
      "\n",
      "✅ Todos los archivos se cargaron correctamente.\n",
      "1  📄 clean_dengue_2017.csv: 1214 filas, 31 columnas\n",
      "2  📄 clean_dengue_2018.csv: 3403 filas, 31 columnas\n",
      "3  📄 clean_dengue_2019.csv: 4145 filas, 31 columnas\n",
      "4  📄 clean_dengue_2020.csv: 2722 filas, 31 columnas\n",
      "5  📄 clean_dengue_2021.csv: 7947 filas, 31 columnas\n",
      "6  📄 clean_dengue_2022.csv: 10601 filas, 31 columnas\n",
      "7  📄 clean_dengue_2023.csv: 2466 filas, 29 columnas\n"
     ]
    }
   ],
   "source": [
    "ruta = r\"C:\\Users\\Hp\\DENGUE\\Data\\raw_data\\clean_atlantico\"\n",
    "dataframes, archivos = leer_archivos(ruta)\n"
   ]
  },
  {
   "cell_type": "code",
   "execution_count": 6,
   "metadata": {},
   "outputs": [
    {
     "name": "stdout",
     "output_type": "stream",
     "text": [
      "\n",
      "📂 Comparando clean_dengue_2019.csv vs clean_dengue_2017.csv:\n",
      "    ✔️ Columnas comunes (31): ['area', 'año', 'barrio', 'cod_dpto_o', 'cod_mun_o', 'departamento', 'direccion', 'edad', 'fecha_consulta', 'fecha_hospitalizacion', 'fecha_inicio_sintomas', 'fecha_nacimiento', 'fecha_notificacion', 'hospitalizado', 'localidad', 'muerte', 'municipio', 'nombre_evento', 'num_ide_', 'ocupacion_', 'pertencia_etnica', 'pri_ape_', 'pri_nom_', 'regimen_salud', 'seg_ape_', 'seg_nom_', 'semana', 'sexo', 'tip_ide_', 'tipo_de_caso', 'uni_med_']\n",
      "    ❌ Columnas distintas (0): []\n",
      "     ✅ Las columnas son idénticas\n",
      "\n",
      "📂 Comparando clean_dengue_2019.csv vs clean_dengue_2018.csv:\n",
      "    ✔️ Columnas comunes (31): ['area', 'año', 'barrio', 'cod_dpto_o', 'cod_mun_o', 'departamento', 'direccion', 'edad', 'fecha_consulta', 'fecha_hospitalizacion', 'fecha_inicio_sintomas', 'fecha_nacimiento', 'fecha_notificacion', 'hospitalizado', 'localidad', 'muerte', 'municipio', 'nombre_evento', 'num_ide_', 'ocupacion_', 'pertencia_etnica', 'pri_ape_', 'pri_nom_', 'regimen_salud', 'seg_ape_', 'seg_nom_', 'semana', 'sexo', 'tip_ide_', 'tipo_de_caso', 'uni_med_']\n",
      "    ❌ Columnas distintas (0): []\n",
      "     ✅ Las columnas son idénticas\n",
      "\n",
      "📂 Comparando clean_dengue_2019.csv vs clean_dengue_2020.csv:\n",
      "    ✔️ Columnas comunes (31): ['area', 'año', 'barrio', 'cod_dpto_o', 'cod_mun_o', 'departamento', 'direccion', 'edad', 'fecha_consulta', 'fecha_hospitalizacion', 'fecha_inicio_sintomas', 'fecha_nacimiento', 'fecha_notificacion', 'hospitalizado', 'localidad', 'muerte', 'municipio', 'nombre_evento', 'num_ide_', 'ocupacion_', 'pertencia_etnica', 'pri_ape_', 'pri_nom_', 'regimen_salud', 'seg_ape_', 'seg_nom_', 'semana', 'sexo', 'tip_ide_', 'tipo_de_caso', 'uni_med_']\n",
      "    ❌ Columnas distintas (0): []\n",
      "     ✅ Las columnas son idénticas\n",
      "\n",
      "📂 Comparando clean_dengue_2019.csv vs clean_dengue_2021.csv:\n",
      "    ✔️ Columnas comunes (31): ['area', 'año', 'barrio', 'cod_dpto_o', 'cod_mun_o', 'departamento', 'direccion', 'edad', 'fecha_consulta', 'fecha_hospitalizacion', 'fecha_inicio_sintomas', 'fecha_nacimiento', 'fecha_notificacion', 'hospitalizado', 'localidad', 'muerte', 'municipio', 'nombre_evento', 'num_ide_', 'ocupacion_', 'pertencia_etnica', 'pri_ape_', 'pri_nom_', 'regimen_salud', 'seg_ape_', 'seg_nom_', 'semana', 'sexo', 'tip_ide_', 'tipo_de_caso', 'uni_med_']\n",
      "    ❌ Columnas distintas (0): []\n",
      "     ✅ Las columnas son idénticas\n",
      "\n",
      "📂 Comparando clean_dengue_2019.csv vs clean_dengue_2022.csv:\n",
      "    ✔️ Columnas comunes (31): ['area', 'año', 'barrio', 'cod_dpto_o', 'cod_mun_o', 'departamento', 'direccion', 'edad', 'fecha_consulta', 'fecha_hospitalizacion', 'fecha_inicio_sintomas', 'fecha_nacimiento', 'fecha_notificacion', 'hospitalizado', 'localidad', 'muerte', 'municipio', 'nombre_evento', 'num_ide_', 'ocupacion_', 'pertencia_etnica', 'pri_ape_', 'pri_nom_', 'regimen_salud', 'seg_ape_', 'seg_nom_', 'semana', 'sexo', 'tip_ide_', 'tipo_de_caso', 'uni_med_']\n",
      "    ❌ Columnas distintas (0): []\n",
      "     ✅ Las columnas son idénticas\n",
      "\n",
      "📂 Comparando clean_dengue_2019.csv vs clean_dengue_2023.csv:\n",
      "    ✔️ Columnas comunes (29): ['area', 'año', 'barrio', 'departamento', 'direccion', 'edad', 'fecha_consulta', 'fecha_hospitalizacion', 'fecha_inicio_sintomas', 'fecha_nacimiento', 'fecha_notificacion', 'hospitalizado', 'localidad', 'muerte', 'municipio', 'nombre_evento', 'num_ide_', 'ocupacion_', 'pertencia_etnica', 'pri_ape_', 'pri_nom_', 'regimen_salud', 'seg_ape_', 'seg_nom_', 'semana', 'sexo', 'tip_ide_', 'tipo_de_caso', 'uni_med_']\n",
      "    ❌ Columnas distintas (2): ['cod_dpto_o', 'cod_mun_o']\n",
      "    🔴 Existen 2 variables diferentes\n"
     ]
    }
   ],
   "source": [
    "comparar_columnas(dataframes)"
   ]
  },
  {
   "cell_type": "code",
   "execution_count": 18,
   "id": "2fe85573",
   "metadata": {},
   "outputs": [
    {
     "name": "stdout",
     "output_type": "stream",
     "text": [
      "\n",
      "✅ Todos los archivos se cargaron correctamente.\n",
      "1  📄 clean_dengue_2017.csv: 1214 filas, 31 columnas\n",
      "2  📄 clean_dengue_2018.csv: 3403 filas, 31 columnas\n",
      "3  📄 clean_dengue_2019.csv: 4145 filas, 31 columnas\n",
      "4  📄 clean_dengue_2020.csv: 2722 filas, 31 columnas\n",
      "5  📄 clean_dengue_2021.csv: 7947 filas, 31 columnas\n",
      "6  📄 clean_dengue_2022.csv: 10601 filas, 31 columnas\n",
      "7  📄 clean_dengue_2023.csv: 2466 filas, 29 columnas\n"
     ]
    }
   ],
   "source": [
    "dataframes, archivos = leer_archivos(ruta)\n",
    "\n",
    "# Unir todos en un solo DataFrame\n",
    "df_final = pd.concat(dataframes.values(), ignore_index=True)"
   ]
  },
  {
   "cell_type": "code",
   "execution_count": 19,
   "id": "8b0ea1d4",
   "metadata": {},
   "outputs": [
    {
     "name": "stdout",
     "output_type": "stream",
     "text": [
      "<class 'pandas.core.frame.DataFrame'>\n",
      "RangeIndex: 32498 entries, 0 to 32497\n",
      "Data columns (total 31 columns):\n",
      " #   Column                 Non-Null Count  Dtype  \n",
      "---  ------                 --------------  -----  \n",
      " 0   area                   32498 non-null  int64  \n",
      " 1   año                    32498 non-null  int64  \n",
      " 2   barrio                 32374 non-null  object \n",
      " 3   cod_dpto_o             30032 non-null  float64\n",
      " 4   cod_mun_o              30032 non-null  float64\n",
      " 5   departamento           32498 non-null  object \n",
      " 6   direccion              32498 non-null  object \n",
      " 7   edad                   32498 non-null  int64  \n",
      " 8   fecha_consulta         32498 non-null  object \n",
      " 9   fecha_hospitalizacion  32498 non-null  object \n",
      " 10  fecha_inicio_sintomas  32498 non-null  object \n",
      " 11  fecha_nacimiento       32498 non-null  object \n",
      " 12  fecha_notificacion     32498 non-null  object \n",
      " 13  hospitalizado          32498 non-null  int64  \n",
      " 14  localidad              31045 non-null  object \n",
      " 15  muerte                 32498 non-null  int64  \n",
      " 16  municipio              32498 non-null  object \n",
      " 17  nombre_evento          32498 non-null  object \n",
      " 18  num_ide_               32498 non-null  object \n",
      " 19  ocupacion_             32484 non-null  float64\n",
      " 20  pertencia_etnica       32498 non-null  int64  \n",
      " 21  pri_ape_               32498 non-null  object \n",
      " 22  pri_nom_               32498 non-null  object \n",
      " 23  regimen_salud          32498 non-null  object \n",
      " 24  seg_ape_               32239 non-null  object \n",
      " 25  seg_nom_               25505 non-null  object \n",
      " 26  semana                 32498 non-null  int64  \n",
      " 27  sexo                   32498 non-null  object \n",
      " 28  tip_ide_               32498 non-null  object \n",
      " 29  tipo_de_caso           32498 non-null  int64  \n",
      " 30  uni_med_               32498 non-null  int64  \n",
      "dtypes: float64(3), int64(9), object(19)\n",
      "memory usage: 7.7+ MB\n"
     ]
    }
   ],
   "source": [
    "df_final = df_final[sorted(df_final.columns)]\n",
    "df_final.info()"
   ]
  },
  {
   "cell_type": "code",
   "execution_count": 20,
   "id": "df5cebd6",
   "metadata": {},
   "outputs": [
    {
     "name": "stdout",
     "output_type": "stream",
     "text": [
      "Número de filas duplicadas exactas en columnas de interés: 0\n"
     ]
    }
   ],
   "source": [
    "count_duplicados = df_final.duplicated().sum()\n",
    "print(f\"Número de filas duplicadas exactas en columnas de interés: {count_duplicados}\")"
   ]
  },
  {
   "cell_type": "code",
   "execution_count": 21,
   "id": "40fbfefe",
   "metadata": {},
   "outputs": [
    {
     "data": {
      "text/plain": [
       "array(['DENGUE', 'DENGUE GRAVE'], dtype=object)"
      ]
     },
     "execution_count": 21,
     "metadata": {},
     "output_type": "execute_result"
    }
   ],
   "source": [
    "df_final['nombre_evento'] = df_final['nombre_evento'].str.strip()\n",
    "df_final['nombre_evento'].unique()"
   ]
  },
  {
   "cell_type": "code",
   "execution_count": 22,
   "id": "dcb9b2fe",
   "metadata": {},
   "outputs": [
    {
     "data": {
      "text/plain": [
       "array(['Clasico', 'Grave'], dtype=object)"
      ]
     },
     "execution_count": 22,
     "metadata": {},
     "output_type": "execute_result"
    }
   ],
   "source": [
    "# Crear evento a partir del codigo \n",
    "# evento = Clasifico if code_eve = 210 \n",
    "# evento = Grave if code_eve = 220\n",
    "df_final['evento'] = np.where(df_final['nombre_evento'] == 'DENGUE', 'Clasico', \n",
    "                       np.where(df_final['nombre_evento'] == 'DENGUE GRAVE', 'Grave', 'Otros'))\n",
    "df_final['evento'].unique()"
   ]
  },
  {
   "cell_type": "code",
   "execution_count": 23,
   "id": "a542e378",
   "metadata": {},
   "outputs": [
    {
     "data": {
      "text/plain": [
       "Index(['area', 'año', 'barrio', 'cod_dpto_o', 'cod_mun_o', 'departamento',\n",
       "       'direccion', 'edad', 'fecha_consulta', 'fecha_hospitalizacion',\n",
       "       'fecha_inicio_sintomas', 'fecha_nacimiento', 'fecha_notificacion',\n",
       "       'hospitalizado', 'localidad', 'muerte', 'municipio', 'nombre_evento',\n",
       "       'num_ide_', 'ocupacion_', 'pertencia_etnica', 'pri_ape_', 'pri_nom_',\n",
       "       'regimen_salud', 'seg_ape_', 'seg_nom_', 'semana', 'sexo', 'tip_ide_',\n",
       "       'tipo_de_caso', 'uni_med_', 'evento'],\n",
       "      dtype='object')"
      ]
     },
     "execution_count": 23,
     "metadata": {},
     "output_type": "execute_result"
    }
   ],
   "source": [
    "df_final.columns"
   ]
  },
  {
   "cell_type": "code",
   "execution_count": 24,
   "id": "d0fbbe3c",
   "metadata": {},
   "outputs": [],
   "source": [
    "delete =['num_ide_', 'ocupacion_', 'pri_ape_', 'pri_nom_',\n",
    "        'seg_ape_', 'seg_nom_', 'tip_ide_']"
   ]
  },
  {
   "cell_type": "code",
   "execution_count": 25,
   "id": "7f2857e0",
   "metadata": {},
   "outputs": [
    {
     "name": "stdout",
     "output_type": "stream",
     "text": [
      "<class 'pandas.core.frame.DataFrame'>\n",
      "RangeIndex: 32498 entries, 0 to 32497\n",
      "Data columns (total 25 columns):\n",
      " #   Column                 Non-Null Count  Dtype  \n",
      "---  ------                 --------------  -----  \n",
      " 0   area                   32498 non-null  int64  \n",
      " 1   año                    32498 non-null  int64  \n",
      " 2   barrio                 32374 non-null  object \n",
      " 3   cod_dpto_o             30032 non-null  float64\n",
      " 4   cod_mun_o              30032 non-null  float64\n",
      " 5   departamento           32498 non-null  object \n",
      " 6   direccion              32498 non-null  object \n",
      " 7   edad                   32498 non-null  int64  \n",
      " 8   fecha_consulta         32498 non-null  object \n",
      " 9   fecha_hospitalizacion  32498 non-null  object \n",
      " 10  fecha_inicio_sintomas  32498 non-null  object \n",
      " 11  fecha_nacimiento       32498 non-null  object \n",
      " 12  fecha_notificacion     32498 non-null  object \n",
      " 13  hospitalizado          32498 non-null  int64  \n",
      " 14  localidad              31045 non-null  object \n",
      " 15  muerte                 32498 non-null  int64  \n",
      " 16  municipio              32498 non-null  object \n",
      " 17  nombre_evento          32498 non-null  object \n",
      " 18  pertencia_etnica       32498 non-null  int64  \n",
      " 19  regimen_salud          32498 non-null  object \n",
      " 20  semana                 32498 non-null  int64  \n",
      " 21  sexo                   32498 non-null  object \n",
      " 22  tipo_de_caso           32498 non-null  int64  \n",
      " 23  uni_med_               32498 non-null  int64  \n",
      " 24  evento                 32498 non-null  object \n",
      "dtypes: float64(2), int64(9), object(14)\n",
      "memory usage: 6.2+ MB\n"
     ]
    }
   ],
   "source": [
    "df_final = df_final.drop(columns=delete, errors=\"ignore\")\n",
    "df_final.info()"
   ]
  },
  {
   "cell_type": "code",
   "execution_count": 26,
   "id": "74dcb75e",
   "metadata": {},
   "outputs": [
    {
     "data": {
      "text/plain": [
       "Index(['area', 'año', 'barrio', 'cod_dpto_o', 'cod_mun_o', 'departamento',\n",
       "       'direccion', 'edad', 'fecha_consulta', 'fecha_hospitalizacion',\n",
       "       'fecha_inicio_sintomas', 'fecha_nacimiento', 'fecha_notificacion',\n",
       "       'hospitalizado', 'localidad', 'muerte', 'municipio', 'nombre_evento',\n",
       "       'pertencia_etnica', 'regimen_salud', 'semana', 'sexo', 'tipo_de_caso',\n",
       "       'uni_med_', 'evento'],\n",
       "      dtype='object')"
      ]
     },
     "execution_count": 26,
     "metadata": {},
     "output_type": "execute_result"
    }
   ],
   "source": [
    "df_final.columns"
   ]
  },
  {
   "cell_type": "code",
   "execution_count": 27,
   "id": "d18d3807",
   "metadata": {},
   "outputs": [
    {
     "data": {
      "text/plain": [
       "departamento\n",
       "ATLANTICO            31800\n",
       "MAGDALENA              255\n",
       "GUAJIRA                129\n",
       "BOLIVAR                 82\n",
       "47                      62\n",
       "CESAR                   25\n",
       "DEPTO DESCONOCIDO       23\n",
       "SUCRE                   19\n",
       "44                      17\n",
       "CORDOBA                 11\n",
       "13                      10\n",
       "CUNDINAMARCA             8\n",
       "ANTIOQUIA                7\n",
       "20                       6\n",
       "VALLE                    5\n",
       "SANTANDER                5\n",
       "SAN ANDRES               5\n",
       "AMAZONAS                 3\n",
       "70                       3\n",
       "5                        3\n",
       "NORTE SANTANDER          3\n",
       "BOYACA                   2\n",
       "TOLIMA                   2\n",
       "CALDAS                   2\n",
       "GUAVIARE                 2\n",
       "CASANARE                 1\n",
       "NARIÑO                   1\n",
       "CAQUETA                  1\n",
       "CHOCO                    1\n",
       "54                       1\n",
       "CQ                       1\n",
       "23                       1\n",
       "52                       1\n",
       "68                       1\n",
       "Name: count, dtype: int64"
      ]
     },
     "execution_count": 27,
     "metadata": {},
     "output_type": "execute_result"
    }
   ],
   "source": [
    "df_final['departamento'].value_counts()"
   ]
  },
  {
   "cell_type": "code",
   "execution_count": 28,
   "id": "f937254e",
   "metadata": {},
   "outputs": [
    {
     "name": "stdout",
     "output_type": "stream",
     "text": [
      "(31800, 25)\n"
     ]
    }
   ],
   "source": [
    "# Filtrar solo los registros donde el departamento es ATLANTICO\n",
    "df_final = df_final[df_final['departamento'] == \"ATLANTICO\"]\n",
    "\n",
    "print(df_final.shape)  # para ver cuántos registros quedaron\n"
   ]
  },
  {
   "cell_type": "code",
   "execution_count": 29,
   "id": "e9055e53",
   "metadata": {},
   "outputs": [
    {
     "data": {
      "text/plain": [
       "array(['BARRANQUILLA', 'SOLEDAD', 'REPELON', 'JUAN DE ACOSTA', 'GALAPA',\n",
       "       'USIACURI', 'BARANOA', 'POLO NUEVO', 'SABANALARGA', 'SABANAGRANDE',\n",
       "       'MALAMBO', 'LURUACO', 'CAMPO DE LA CRUZ', 'SANTO TOMAS',\n",
       "       '* ATLANTICO. MUNICIPIO DESCONO', 'TUBARA', 'PONEDERA',\n",
       "       'PUERTO COLOMBIA', 'MANATI', 'CANDELARIA', 'PALMAR DE VARELA',\n",
       "       'SUAN', 'PIOJO', 'SANTA LUCIA'], dtype=object)"
      ]
     },
     "execution_count": 29,
     "metadata": {},
     "output_type": "execute_result"
    }
   ],
   "source": [
    "df_final['municipio'].unique()"
   ]
  },
  {
   "cell_type": "code",
   "execution_count": 30,
   "id": "7b15c75d",
   "metadata": {},
   "outputs": [
    {
     "name": "stdout",
     "output_type": "stream",
     "text": [
      "(16743, 25)\n"
     ]
    }
   ],
   "source": [
    "# Filtrar solo los registros donde el departamento es ATLANTICO\n",
    "df_final = df_final[df_final['municipio'] == \"BARRANQUILLA\"]\n",
    "\n",
    "print(df_final.shape)  # para ver cuántos registros quedaron\n"
   ]
  },
  {
   "cell_type": "code",
   "execution_count": 31,
   "id": "460089c6",
   "metadata": {},
   "outputs": [
    {
     "name": "stdout",
     "output_type": "stream",
     "text": [
      "<class 'pandas.core.frame.DataFrame'>\n",
      "Index: 16743 entries, 0 to 32485\n",
      "Data columns (total 25 columns):\n",
      " #   Column                 Non-Null Count  Dtype  \n",
      "---  ------                 --------------  -----  \n",
      " 0   area                   16743 non-null  int64  \n",
      " 1   año                    16743 non-null  int64  \n",
      " 2   barrio                 16736 non-null  object \n",
      " 3   cod_dpto_o             16527 non-null  float64\n",
      " 4   cod_mun_o              16527 non-null  float64\n",
      " 5   departamento           16743 non-null  object \n",
      " 6   direccion              16743 non-null  object \n",
      " 7   edad                   16743 non-null  int64  \n",
      " 8   fecha_consulta         16743 non-null  object \n",
      " 9   fecha_hospitalizacion  16743 non-null  object \n",
      " 10  fecha_inicio_sintomas  16743 non-null  object \n",
      " 11  fecha_nacimiento       16743 non-null  object \n",
      " 12  fecha_notificacion     16743 non-null  object \n",
      " 13  hospitalizado          16743 non-null  int64  \n",
      " 14  localidad              16622 non-null  object \n",
      " 15  muerte                 16743 non-null  int64  \n",
      " 16  municipio              16743 non-null  object \n",
      " 17  nombre_evento          16743 non-null  object \n",
      " 18  pertencia_etnica       16743 non-null  int64  \n",
      " 19  regimen_salud          16743 non-null  object \n",
      " 20  semana                 16743 non-null  int64  \n",
      " 21  sexo                   16743 non-null  object \n",
      " 22  tipo_de_caso           16743 non-null  int64  \n",
      " 23  uni_med_               16743 non-null  int64  \n",
      " 24  evento                 16743 non-null  object \n",
      "dtypes: float64(2), int64(9), object(14)\n",
      "memory usage: 3.3+ MB\n"
     ]
    }
   ],
   "source": [
    "df_final.info()"
   ]
  },
  {
   "cell_type": "code",
   "execution_count": 32,
   "id": "11180cf0",
   "metadata": {},
   "outputs": [],
   "source": [
    "df = df_final"
   ]
  },
  {
   "cell_type": "code",
   "execution_count": 33,
   "id": "914ac1bb",
   "metadata": {},
   "outputs": [
    {
     "name": "stdout",
     "output_type": "stream",
     "text": [
      "['BARRANQUILLA']\n"
     ]
    }
   ],
   "source": [
    "# Reemplazar el valor específico\n",
    "df[\"municipio\"] = df[\"municipio\"].replace(\n",
    "    \"* ATLANTICO. MUNICIPIO DESCONO\", \"desconocido\"\n",
    ")\n",
    "\n",
    "# Verificar\n",
    "print(df[\"municipio\"].unique())"
   ]
  },
  {
   "cell_type": "code",
   "execution_count": 34,
   "id": "235cfbbe",
   "metadata": {},
   "outputs": [
    {
     "name": "stdout",
     "output_type": "stream",
     "text": [
      "<class 'pandas.core.frame.DataFrame'>\n",
      "Index: 16743 entries, 0 to 32485\n",
      "Data columns (total 23 columns):\n",
      " #   Column                 Non-Null Count  Dtype  \n",
      "---  ------                 --------------  -----  \n",
      " 0   area                   16743 non-null  int64  \n",
      " 1   año                    16743 non-null  int64  \n",
      " 2   barrio                 16736 non-null  object \n",
      " 3   cod_mun_o              16527 non-null  float64\n",
      " 4   direccion              16743 non-null  object \n",
      " 5   edad                   16743 non-null  int64  \n",
      " 6   fecha_consulta         16743 non-null  object \n",
      " 7   fecha_hospitalizacion  16743 non-null  object \n",
      " 8   fecha_inicio_sintomas  16743 non-null  object \n",
      " 9   fecha_nacimiento       16743 non-null  object \n",
      " 10  fecha_notificacion     16743 non-null  object \n",
      " 11  hospitalizado          16743 non-null  int64  \n",
      " 12  localidad              16622 non-null  object \n",
      " 13  muerte                 16743 non-null  int64  \n",
      " 14  municipio              16743 non-null  object \n",
      " 15  nombre_evento          16743 non-null  object \n",
      " 16  pertencia_etnica       16743 non-null  int64  \n",
      " 17  regimen_salud          16743 non-null  object \n",
      " 18  semana                 16743 non-null  int64  \n",
      " 19  sexo                   16743 non-null  object \n",
      " 20  tipo_de_caso           16743 non-null  int64  \n",
      " 21  uni_med_               16743 non-null  int64  \n",
      " 22  evento                 16743 non-null  object \n",
      "dtypes: float64(1), int64(9), object(13)\n",
      "memory usage: 3.1+ MB\n"
     ]
    }
   ],
   "source": [
    "df = df.drop(columns=[\"departamento\", 'cod_dpto_o'], errors=\"ignore\")\n",
    "df.info()"
   ]
  },
  {
   "cell_type": "code",
   "execution_count": 35,
   "id": "ba528d9b",
   "metadata": {},
   "outputs": [
    {
     "name": "stdout",
     "output_type": "stream",
     "text": [
      "✔️ Guardado en: C:\\Users\\Hp\\DENGUE\\Data\\data_quilla.csv\n"
     ]
    }
   ],
   "source": [
    "import os\n",
    "\n",
    "ruta_salida = r\"C:\\Users\\Hp\\DENGUE\\Data\"\n",
    "archivo = \"data_quilla.csv\"\n",
    "\n",
    "# Crear ruta completa\n",
    "path_out = os.path.join(ruta_salida, archivo)\n",
    "\n",
    "# Guardar\n",
    "df_final.to_csv(path_out, index=False, encoding=\"latin1\")\n",
    "print(f\"✔️ Guardado en: {path_out}\")"
   ]
  }
 ],
 "metadata": {
  "kernelspec": {
   "display_name": "dengue",
   "language": "python",
   "name": "python3"
  },
  "language_info": {
   "codemirror_mode": {
    "name": "ipython",
    "version": 3
   },
   "file_extension": ".py",
   "mimetype": "text/x-python",
   "name": "python",
   "nbconvert_exporter": "python",
   "pygments_lexer": "ipython3",
   "version": "3.12.11"
  }
 },
 "nbformat": 4,
 "nbformat_minor": 5
}
