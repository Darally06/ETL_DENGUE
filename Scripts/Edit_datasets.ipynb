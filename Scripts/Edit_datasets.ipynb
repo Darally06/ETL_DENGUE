{
 "cells": [
  {
   "cell_type": "code",
   "execution_count": 1,
   "id": "03300ca9",
   "metadata": {},
   "outputs": [],
   "source": [
    "import pandas as pd\n",
    "import os\n",
    "import numpy as np"
   ]
  },
  {
   "cell_type": "markdown",
   "id": "64f3e59e",
   "metadata": {},
   "source": [
    "____________________________"
   ]
  },
  {
   "cell_type": "markdown",
   "id": "59ca1e65",
   "metadata": {},
   "source": [
    "# 14 de septiembre\n",
    "* Se creo la variable ‘edad_años’ para representar la edad de acuerdo a la unidad de medida y estandarizarla por años.\n",
    "* Se creo la variable ‘ciclo_vital’ para categorizar los grupos etarios. \n",
    "* Se tomaron correcciones en la escritura de los nombres propios de las unidades geográficas. \n",
    "* Se mapearon las variables categóricas de número a su correspondiente significado de categoría de acuerdo a la ficha técnica SIVIGILA.\n",
    "* Se toma fecha de inicio de síntomas como referencia temporal.\n",
    "* Cambiar pertenencia étnica para que solo sean 3 rangos"
   ]
  },
  {
   "cell_type": "code",
   "execution_count": 2,
   "id": "f5f9638a",
   "metadata": {},
   "outputs": [],
   "source": [
    "files = {\n",
    "    'col': r\"C:\\Users\\Hp\\DENGUE\\Data\\dengue_data\\data_colombia.csv\",\n",
    "    'atl': r\"C:\\Users\\Hp\\DENGUE\\Data\\dengue_data\\data_atlantico.csv\"\n",
    "}\n",
    "\n",
    "dataframes = {}\n",
    "for name, path in files.items():\n",
    "    df = pd.read_csv(path, encoding='latin_1', low_memory=False)\n",
    "    df.columns = df.columns.str.lower()\n",
    "    dataframes[name] = df\n"
   ]
  },
  {
   "cell_type": "code",
   "execution_count": 3,
   "id": "f415e612",
   "metadata": {},
   "outputs": [
    {
     "name": "stdout",
     "output_type": "stream",
     "text": [
      "🧾 Columnas solo en Colombia:\n",
      "['cod_dpto_o', 'cod_eve', 'cod_mun_o', 'departamento']\n",
      "\n",
      "🧾 Columnas solo en Atlántico:\n",
      "['nombre_evento']\n"
     ]
    }
   ],
   "source": [
    "# Imprimir columnas únicas por DataFrame\n",
    "col_cols = set(dataframes['col'].columns)\n",
    "atl_cols = set(dataframes['atl'].columns)\n",
    "\n",
    "print(\"🧾 Columnas solo en Colombia:\")\n",
    "print(sorted(col_cols - atl_cols))\n",
    "\n",
    "print(\"\\n🧾 Columnas solo en Atlántico:\")\n",
    "print(sorted(atl_cols - col_cols))\n"
   ]
  },
  {
   "cell_type": "code",
   "execution_count": 4,
   "id": "c23ef381",
   "metadata": {},
   "outputs": [],
   "source": [
    "dataframes['col'] = dataframes['col'].drop(columns=['cod_dpto_o', 'cod_eve', 'cod_mun_o'])\n",
    "dataframes['atl'] = dataframes['atl'].drop(columns=['nombre_evento'])"
   ]
  },
  {
   "cell_type": "code",
   "execution_count": 5,
   "id": "3d8aeaf0",
   "metadata": {},
   "outputs": [
    {
     "name": "stdout",
     "output_type": "stream",
     "text": [
      "<class 'pandas.core.frame.DataFrame'>\n",
      "RangeIndex: 947810 entries, 0 to 947809\n",
      "Data columns (total 19 columns):\n",
      " #   Column                 Non-Null Count   Dtype \n",
      "---  ------                 --------------   ----- \n",
      " 0   año                    947810 non-null  int64 \n",
      " 1   area                   947810 non-null  int64 \n",
      " 2   departamento           947810 non-null  object\n",
      " 3   edad                   947810 non-null  int64 \n",
      " 4   fecha_consulta         947717 non-null  object\n",
      " 5   fecha_hospitalizacion  400814 non-null  object\n",
      " 6   fecha_inicio_sintomas  947757 non-null  object\n",
      " 7   fecha_nacimiento       917713 non-null  object\n",
      " 8   fecha_notificacion     947810 non-null  object\n",
      " 9   hospitalizado          947810 non-null  int64 \n",
      " 10  muerte                 947810 non-null  int64 \n",
      " 11  municipio              947810 non-null  object\n",
      " 12  pertenencia_etnica     947810 non-null  int64 \n",
      " 13  regimen_salud          947810 non-null  object\n",
      " 14  semana                 947810 non-null  int64 \n",
      " 15  sexo                   947810 non-null  object\n",
      " 16  tipo_de_caso           947810 non-null  int64 \n",
      " 17  uni_med                947810 non-null  int64 \n",
      " 18  evento                 947810 non-null  object\n",
      "dtypes: int64(9), object(10)\n",
      "memory usage: 137.4+ MB\n",
      "<class 'pandas.core.frame.DataFrame'>\n",
      "RangeIndex: 31800 entries, 0 to 31799\n",
      "Data columns (total 18 columns):\n",
      " #   Column                 Non-Null Count  Dtype \n",
      "---  ------                 --------------  ----- \n",
      " 0   area                   31800 non-null  int64 \n",
      " 1   año                    31800 non-null  int64 \n",
      " 2   edad                   31800 non-null  int64 \n",
      " 3   fecha_consulta         31800 non-null  object\n",
      " 4   fecha_hospitalizacion  31800 non-null  object\n",
      " 5   fecha_inicio_sintomas  31800 non-null  object\n",
      " 6   fecha_nacimiento       31800 non-null  object\n",
      " 7   fecha_notificacion     31800 non-null  object\n",
      " 8   hospitalizado          31800 non-null  int64 \n",
      " 9   muerte                 31800 non-null  int64 \n",
      " 10  municipio              31800 non-null  object\n",
      " 11  pertenencia_etnica     31800 non-null  int64 \n",
      " 12  regimen_salud          31800 non-null  object\n",
      " 13  semana                 31800 non-null  int64 \n",
      " 14  sexo                   31800 non-null  object\n",
      " 15  tipo_de_caso           31800 non-null  int64 \n",
      " 16  uni_med                31800 non-null  int64 \n",
      " 17  evento                 31800 non-null  object\n",
      "dtypes: int64(9), object(9)\n",
      "memory usage: 4.4+ MB\n"
     ]
    }
   ],
   "source": [
    "for name, df in dataframes.items():\n",
    "    df.info()"
   ]
  },
  {
   "cell_type": "markdown",
   "id": "01562205",
   "metadata": {},
   "source": [
    "## CONVERSION DE LA EDAD"
   ]
  },
  {
   "cell_type": "markdown",
   "id": "a823a838",
   "metadata": {},
   "source": [
    "* Crear edad en años"
   ]
  },
  {
   "cell_type": "code",
   "execution_count": 6,
   "id": "4c17f684",
   "metadata": {},
   "outputs": [],
   "source": [
    "for name, df in dataframes.items():\n",
    "    df[\"edad_años\"] = np.where(df[\"uni_med\"] == 1, df[\"edad\"],   # ya está en años\n",
    "                    np.where(df[\"uni_med\"] == 2, df[\"edad\"] / 12,  # meses → años\n",
    "                    np.where(df[\"uni_med\"] == 3, df[\"edad\"] / 365, # días → años\n",
    "                    np.where(df[\"uni_med\"] == 4, df[\"edad\"] / (365*24), # horas\n",
    "                    np.where(df[\"uni_med\"] == 5, df[\"edad\"] / (365*24*60), # minutos\n",
    "                    np.where(df[\"uni_med\"] == 0, np.nan, \n",
    "                     np.nan))))))  # por si hay otros valores\n",
    "    df[\"edad_años\"] = df[\"edad_años\"].round().fillna(-1).astype(int)"
   ]
  },
  {
   "cell_type": "markdown",
   "id": "c5199324",
   "metadata": {},
   "source": [
    "* Crear variable ciclo vital"
   ]
  },
  {
   "cell_type": "code",
   "execution_count": 10,
   "id": "c50555cc",
   "metadata": {},
   "outputs": [],
   "source": [
    "def ciclo_vital(edad):\n",
    "    if edad < 0:\n",
    "        return \"Desconocido\"\n",
    "    elif edad < 1:\n",
    "        return \"Menor de 1 año\"\n",
    "    elif edad < 5:\n",
    "        return \"Primera infancia\"\n",
    "    elif edad < 10:\n",
    "        return \"Infancia\"\n",
    "    elif edad < 20:\n",
    "        return \"Adolescencia\"\n",
    "    elif edad < 60:\n",
    "        return \"Adulto\"\n",
    "    elif edad < 85:\n",
    "        return \"Adulto mayor\"\n",
    "    else:\n",
    "        return \"Ancianidad\"\n",
    "    \n",
    "for name, df in dataframes.items():\n",
    "    df[\"ciclo_vital\"] = df[\"edad_años\"].apply(ciclo_vital)"
   ]
  },
  {
   "cell_type": "markdown",
   "id": "7025b49c",
   "metadata": {},
   "source": [
    "## CATEGORIZAR VARIABLES"
   ]
  },
  {
   "cell_type": "code",
   "execution_count": 11,
   "id": "947c7fcd",
   "metadata": {},
   "outputs": [
    {
     "name": "stdout",
     "output_type": "stream",
     "text": [
      "<class 'pandas.core.frame.DataFrame'>\n",
      "RangeIndex: 947810 entries, 0 to 947809\n",
      "Data columns (total 22 columns):\n",
      " #   Column                 Non-Null Count   Dtype \n",
      "---  ------                 --------------   ----- \n",
      " 0   año                    947810 non-null  int64 \n",
      " 1   area                   947810 non-null  object\n",
      " 2   departamento           947810 non-null  object\n",
      " 3   edad                   947810 non-null  int64 \n",
      " 4   fecha_consulta         947717 non-null  object\n",
      " 5   fecha_hospitalizacion  400814 non-null  object\n",
      " 6   fecha_inicio_sintomas  947757 non-null  object\n",
      " 7   fecha_nacimiento       917713 non-null  object\n",
      " 8   fecha_notificacion     947810 non-null  object\n",
      " 9   hospitalizado          947810 non-null  object\n",
      " 10  muerte                 947810 non-null  object\n",
      " 11  municipio              947810 non-null  object\n",
      " 12  pertenencia_etnica     947810 non-null  object\n",
      " 13  regimen_salud          947810 non-null  object\n",
      " 14  semana                 947810 non-null  int64 \n",
      " 15  sexo                   947810 non-null  object\n",
      " 16  tipo_de_caso           947810 non-null  object\n",
      " 17  uni_med                947810 non-null  int64 \n",
      " 18  evento                 947810 non-null  object\n",
      " 19  edad_años              947810 non-null  int64 \n",
      " 20  ciclo_vital            947810 non-null  object\n",
      " 21  grupo_etnico           947810 non-null  object\n",
      "dtypes: int64(5), object(17)\n",
      "memory usage: 159.1+ MB\n",
      "<class 'pandas.core.frame.DataFrame'>\n",
      "RangeIndex: 31800 entries, 0 to 31799\n",
      "Data columns (total 21 columns):\n",
      " #   Column                 Non-Null Count  Dtype \n",
      "---  ------                 --------------  ----- \n",
      " 0   area                   31800 non-null  object\n",
      " 1   año                    31800 non-null  int64 \n",
      " 2   edad                   31800 non-null  int64 \n",
      " 3   fecha_consulta         31800 non-null  object\n",
      " 4   fecha_hospitalizacion  31800 non-null  object\n",
      " 5   fecha_inicio_sintomas  31800 non-null  object\n",
      " 6   fecha_nacimiento       31800 non-null  object\n",
      " 7   fecha_notificacion     31800 non-null  object\n",
      " 8   hospitalizado          31800 non-null  object\n",
      " 9   muerte                 31800 non-null  object\n",
      " 10  municipio              31800 non-null  object\n",
      " 11  pertenencia_etnica     31800 non-null  object\n",
      " 12  regimen_salud          31800 non-null  object\n",
      " 13  semana                 31800 non-null  int64 \n",
      " 14  sexo                   31800 non-null  object\n",
      " 15  tipo_de_caso           31800 non-null  object\n",
      " 16  uni_med                31800 non-null  int64 \n",
      " 17  evento                 31800 non-null  object\n",
      " 18  edad_años              31800 non-null  int64 \n",
      " 19  ciclo_vital            31800 non-null  object\n",
      " 20  grupo_etnico           31800 non-null  object\n",
      "dtypes: int64(5), object(16)\n",
      "memory usage: 5.1+ MB\n"
     ]
    }
   ],
   "source": [
    "mapeo = {\n",
    "    'area' : {1: 'Cabecera municipal' , 2:'Centro Poblado', 3:'Rural disperso'}, \n",
    "    'hospitalizado': {1: 'Si', 2: 'No'},\n",
    "    'muerte': {1: 'Vivo', 2: 'Muerto'},\n",
    "    'pertenencia_etnica': {1: 'Indigena', 2: 'Rom', 3: 'Raizal', 4: 'Palenquero', 5: 'Negro', 6:'Otro'},\n",
    "    'regimen_salud': {'P': 'Excepción', 'E': 'Especial', 'C': 'Contributivo', 'S': 'Subsidiado', 'N': 'No asegurado', 'I': 'Indeterminado'},\n",
    "    'sexo': {'M': 'Masculino', 'F': 'Femenino'},\n",
    "    'tipo_de_caso': {2: 'Probable', 3: 'Conf. por laboratorio', 5: 'Conf. por nexo'}\n",
    "}\n",
    "\n",
    "for name, df in dataframes.items():\n",
    "    dataframes[name] = df.replace(mapeo)\n",
    "    df.info()"
   ]
  },
  {
   "cell_type": "code",
   "execution_count": 12,
   "id": "a66149bb",
   "metadata": {},
   "outputs": [],
   "source": [
    "mapeo_etnico = {\n",
    "    'Indigena': 'Indígena',\n",
    "    'Negro': 'Afrocolombiano',\n",
    "    'Raizal': 'Afrocolombiano',\n",
    "    'Palenquero': 'Afrocolombiano',\n",
    "    'Rom': 'Rom',\n",
    "    'Otro': 'Otro'\n",
    "}\n",
    "\n",
    "for name, df in dataframes.items():\n",
    "    df['grupo_etnico'] = df['pertenencia_etnica'].map(mapeo_etnico)"
   ]
  },
  {
   "cell_type": "code",
   "execution_count": 13,
   "id": "7f4190de",
   "metadata": {},
   "outputs": [
    {
     "data": {
      "text/plain": [
       "array(['Otro', 'Afrocolombiano', 'Indígena', 'Rom'], dtype=object)"
      ]
     },
     "execution_count": 13,
     "metadata": {},
     "output_type": "execute_result"
    }
   ],
   "source": [
    "dataframes['atl']['grupo_etnico'].unique()"
   ]
  },
  {
   "cell_type": "code",
   "execution_count": 15,
   "id": "cfa9e074",
   "metadata": {},
   "outputs": [],
   "source": [
    "for name, df in dataframes.items():\n",
    "    dataframes[name] = df.drop(columns=['edad', 'uni_med', 'pertenencia_etnica'])"
   ]
  },
  {
   "cell_type": "code",
   "execution_count": 16,
   "id": "b31aab1e",
   "metadata": {},
   "outputs": [
    {
     "name": "stdout",
     "output_type": "stream",
     "text": [
      "<class 'pandas.core.frame.DataFrame'>\n",
      "RangeIndex: 947810 entries, 0 to 947809\n",
      "Data columns (total 19 columns):\n",
      " #   Column                 Non-Null Count   Dtype         \n",
      "---  ------                 --------------   -----         \n",
      " 0   año                    947810 non-null  int64         \n",
      " 1   area                   947810 non-null  object        \n",
      " 2   departamento           947810 non-null  object        \n",
      " 3   fecha_consulta         947717 non-null  datetime64[ns]\n",
      " 4   fecha_hospitalizacion  400814 non-null  datetime64[ns]\n",
      " 5   fecha_inicio_sintomas  947757 non-null  datetime64[ns]\n",
      " 6   fecha_nacimiento       917713 non-null  datetime64[ns]\n",
      " 7   fecha_notificacion     947810 non-null  datetime64[ns]\n",
      " 8   hospitalizado          947810 non-null  object        \n",
      " 9   muerte                 947810 non-null  object        \n",
      " 10  municipio              947810 non-null  object        \n",
      " 11  regimen_salud          947810 non-null  object        \n",
      " 12  semana                 947810 non-null  int64         \n",
      " 13  sexo                   947810 non-null  object        \n",
      " 14  tipo_de_caso           947810 non-null  object        \n",
      " 15  evento                 947810 non-null  object        \n",
      " 16  edad_años              947810 non-null  int64         \n",
      " 17  ciclo_vital            947810 non-null  object        \n",
      " 18  grupo_etnico           947810 non-null  object        \n",
      "dtypes: datetime64[ns](5), int64(3), object(11)\n",
      "memory usage: 137.4+ MB\n",
      "<class 'pandas.core.frame.DataFrame'>\n",
      "RangeIndex: 31800 entries, 0 to 31799\n",
      "Data columns (total 18 columns):\n",
      " #   Column                 Non-Null Count  Dtype         \n",
      "---  ------                 --------------  -----         \n",
      " 0   area                   31800 non-null  object        \n",
      " 1   año                    31800 non-null  int64         \n",
      " 2   fecha_consulta         31800 non-null  datetime64[ns]\n",
      " 3   fecha_hospitalizacion  19187 non-null  datetime64[ns]\n",
      " 4   fecha_inicio_sintomas  31800 non-null  datetime64[ns]\n",
      " 5   fecha_nacimiento       30581 non-null  datetime64[ns]\n",
      " 6   fecha_notificacion     31800 non-null  datetime64[ns]\n",
      " 7   hospitalizado          31800 non-null  object        \n",
      " 8   muerte                 31800 non-null  object        \n",
      " 9   municipio              31800 non-null  object        \n",
      " 10  regimen_salud          31800 non-null  object        \n",
      " 11  semana                 31800 non-null  int64         \n",
      " 12  sexo                   31800 non-null  object        \n",
      " 13  tipo_de_caso           31800 non-null  object        \n",
      " 14  evento                 31800 non-null  object        \n",
      " 15  edad_años              31800 non-null  int64         \n",
      " 16  ciclo_vital            31800 non-null  object        \n",
      " 17  grupo_etnico           31800 non-null  object        \n",
      "dtypes: datetime64[ns](5), int64(3), object(10)\n",
      "memory usage: 4.4+ MB\n"
     ]
    }
   ],
   "source": [
    "for name, df in dataframes.items():\n",
    "    df.info()"
   ]
  },
  {
   "cell_type": "code",
   "execution_count": 17,
   "id": "788e135b",
   "metadata": {},
   "outputs": [
    {
     "name": "stdout",
     "output_type": "stream",
     "text": [
      "✅ Archivo guardado: C:\\Users\\Hp\\DENGUE\\Data\\procesados\\col_pros.csv\n",
      "✅ Archivo guardado: C:\\Users\\Hp\\DENGUE\\Data\\procesados\\atl_pros.csv\n"
     ]
    }
   ],
   "source": [
    "import os\n",
    "\n",
    "# Ruta base donde quieres guardar los archivos\n",
    "output_dir = r\"C:\\Users\\Hp\\DENGUE\\Data\\procesados\"\n",
    "os.makedirs(output_dir, exist_ok=True)  # crea la carpeta si no existe\n",
    "\n",
    "# Guardar cada DataFrame\n",
    "for name, df in dataframes.items():\n",
    "    output_path = os.path.join(output_dir, f\"{name}_pros.csv\")\n",
    "    df.to_csv(output_path, index=False, encoding='latin_1')\n",
    "    print(f\"✅ Archivo guardado: {output_path}\")"
   ]
  }
 ],
 "metadata": {
  "kernelspec": {
   "display_name": "dengue",
   "language": "python",
   "name": "python3"
  },
  "language_info": {
   "codemirror_mode": {
    "name": "ipython",
    "version": 3
   },
   "file_extension": ".py",
   "mimetype": "text/x-python",
   "name": "python",
   "nbconvert_exporter": "python",
   "pygments_lexer": "ipython3",
   "version": "3.12.11"
  }
 },
 "nbformat": 4,
 "nbformat_minor": 5
}
