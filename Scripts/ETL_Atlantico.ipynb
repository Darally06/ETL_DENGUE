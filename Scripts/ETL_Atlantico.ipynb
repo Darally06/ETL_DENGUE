{
 "cells": [
  {
   "cell_type": "markdown",
   "id": "c1936d93",
   "metadata": {},
   "source": [
    "# **ETL - ATLÁNTICO**"
   ]
  },
  {
   "cell_type": "code",
   "execution_count": 1,
   "id": "f8c7b737",
   "metadata": {},
   "outputs": [],
   "source": [
    "# [Configuración] Importación de librerías\n",
    "import pandas as pd\n",
    "import numpy as np\n",
    "import unicodedata\n",
    "import re\n",
    "import os"
   ]
  },
  {
   "cell_type": "code",
   "execution_count": 2,
   "id": "e3b2fbde",
   "metadata": {},
   "outputs": [
    {
     "name": "stdout",
     "output_type": "stream",
     "text": [
      "✅ 7 archivos cargados desde ../DATA/raw_atlantico\n"
     ]
    }
   ],
   "source": [
    "# [Configuración] Lectura de los archivos CSV\n",
    "ruta = \"../DATA/raw_atlantico\" \n",
    "archivos = [f for f in os.listdir(ruta) if f.endswith(\".csv\")]\n",
    "dataframes = {}\n",
    "for archivo in archivos:\n",
    "    path = os.path.join(ruta, archivo)\n",
    "    df = pd.read_csv(path, encoding='Latin_1', low_memory=False)\n",
    "    df.columns = df.columns.str.lower()\n",
    "    dataframes[archivo] = df\n",
    "\n",
    "print(f\"✅ {len(dataframes)} archivos cargados desde {ruta}\")"
   ]
  },
  {
   "cell_type": "code",
   "execution_count": 3,
   "id": "9b6ec87d",
   "metadata": {},
   "outputs": [],
   "source": [
    "# [Función] Limpiar nombres de columnas\n",
    "def limpiar_texto(texto):\n",
    "    if not isinstance(texto, str):\n",
    "        return texto\n",
    "    texto = texto.replace(\"ã±\", \"ñ\").replace(\"Ã±\", \"ñ\").replace(\"ï¿½\", \"ñ\")\n",
    "    texto = unicodedata.normalize(\"NFKC\", texto)\n",
    "    texto = re.sub(r'\\s+', '_', texto.strip().lower())\n",
    "    return texto\n",
    "\n",
    "# Limpiar nombres de columnas de todos los DataFrames\n",
    "for nombre, df in dataframes.items():\n",
    "    df.columns = [limpiar_texto(col) for col in df.columns]\n",
    "    dataframes[nombre] = df"
   ]
  },
  {
   "cell_type": "code",
   "execution_count": 4,
   "id": "fc6c43ab",
   "metadata": {},
   "outputs": [
    {
     "name": "stdout",
     "output_type": "stream",
     "text": [
      "✅ Columnas comunes a todos los archivos:\n",
      "['ajuste_', 'area', 'año', 'barrio', 'cbmte_', 'cen_pobla_', 'cer_def_', 'cod_ase_', 'cod_pais_o', 'cod_pre', 'cod_sub', 'departamento', 'desenlace', 'direccion', 'edad', 'fec_aju_', 'fec_arc_xl', 'fec_def_', 'fecha_consulta', 'fecha_hospitalizacion', 'fecha_inicio_sintomas', 'fecha_nacimiento', 'fecha_notificacion', 'fm_fuerza', 'fm_grado', 'fm_unidad', 'gp_carcela', 'gp_desmovi', 'gp_desplaz', 'gp_discapa', 'gp_gestan', 'gp_indigen', 'gp_mad_com', 'gp_migrant', 'gp_otros', 'gp_pobicbf', 'gp_psiquia', 'gp_vic_vio', 'hospitalizacion', 'localidad', 'municipio', 'ndep_notif', 'ndep_resi', 'nit_upgd', 'nmun_notif', 'nmun_resi', 'nom_dil_f_', 'nom_upgd', 'nombre_evento', 'num_ide_', 'ocupacion_', 'pertencia_etnica', 'pri_ape_', 'pri_nom_', 'regimen_salud', 'seg_ape_', 'seg_nom_', 'semana', 'sexo', 'tel_dil_f_', 'telefono_', 'tip_ide_', 'tipo_de_caso', 'uni_med_', 'vereda_']\n",
      "\n",
      "❌ Columnas exclusivas por archivo:\n",
      "📄 raw_dengue_2017.csv: ['cod_dpto_o', 'cod_dpto_r', 'cod_eve', 'cod_mun_o', 'cod_mun_r', 'eve_historico']\n",
      "📄 raw_dengue_2018.csv: ['cod_dpto_o', 'cod_dpto_r', 'cod_eve', 'cod_mun_o', 'cod_mun_r', 'eve_historico']\n",
      "📄 raw_dengue_2019.csv: ['cod_dpto_o', 'cod_dpto_r', 'cod_eve', 'cod_mun_o', 'cod_mun_r', 'eve_historico']\n",
      "📄 raw_dengue_2020.csv: ['cod_dpto_o', 'cod_dpto_r', 'cod_eve', 'cod_mun_o', 'cod_mun_r', 'eve_historico']\n",
      "📄 raw_dengue_2021.csv: ['cod_dpto_o', 'cod_dpto_r', 'cod_eve', 'cod_mun_o', 'cod_mun_r', 'eve_historico']\n",
      "📄 raw_dengue_2022.csv: ['cod_dpto_o', 'cod_dpto_r', 'cod_eve', 'cod_mun_o', 'cod_mun_r', 'eve_historico']\n",
      "📄 raw_dengue_2023.csv: ['cod_pais_r', 'nombre_nacionalidad', 'sem_ges', 'version']\n"
     ]
    }
   ],
   "source": [
    "columnas_por_archivo = {\n",
    "    nombre: set(df.columns)\n",
    "    for nombre, df in dataframes.items()\n",
    "}\n",
    "# Columnas comunes a todos los archivos\n",
    "comunes = set.intersection(*columnas_por_archivo.values())\n",
    "\n",
    "# Columnas únicas por archivo\n",
    "exclusivas = {\n",
    "    nombre: columnas - comunes\n",
    "    for nombre, columnas in columnas_por_archivo.items()\n",
    "}\n",
    "print(\"✅ Columnas comunes a todos los archivos:\")\n",
    "print(sorted(comunes))\n",
    "\n",
    "print(\"\\n❌ Columnas exclusivas por archivo:\")\n",
    "for nombre, cols in exclusivas.items():\n",
    "    print(f\"📄 {nombre}: {sorted(cols)}\")"
   ]
  },
  {
   "cell_type": "code",
   "execution_count": 5,
   "id": "0133a9c8",
   "metadata": {},
   "outputs": [
    {
     "name": "stdout",
     "output_type": "stream",
     "text": [
      "🗑️ En 'raw_dengue_2017.csv' se eliminaron: ['ajuste_', 'barrio', 'cbmte_', 'cen_pobla_', 'cer_def_', 'cod_ase_', 'cod_pais_o', 'cod_pre', 'cod_sub', 'direccion', 'fec_aju_', 'fec_arc_xl', 'fec_def_', 'fecha_nacimiento', 'fm_fuerza', 'fm_grado', 'fm_unidad', 'gp_carcela', 'gp_desmovi', 'gp_desplaz', 'gp_discapa', 'gp_gestan', 'gp_indigen', 'gp_mad_com', 'gp_migrant', 'gp_otros', 'gp_pobicbf', 'gp_psiquia', 'gp_vic_vio', 'localidad', 'ndep_notif', 'ndep_resi', 'nit_upgd', 'nmun_notif', 'nmun_resi', 'nom_dil_f_', 'nom_upgd', 'ocupacion_', 'pri_ape_', 'pri_nom_', 'seg_ape_', 'seg_nom_', 'tel_dil_f_', 'telefono_', 'vereda_', 'cod_dpto_o', 'cod_dpto_r', 'cod_eve', 'cod_mun_o', 'cod_mun_r', 'eve_historico', 'num_ide_', 'tip_ide_']\n",
      "🗑️ En 'raw_dengue_2018.csv' se eliminaron: ['ajuste_', 'barrio', 'cbmte_', 'cen_pobla_', 'cer_def_', 'cod_ase_', 'cod_pais_o', 'cod_pre', 'cod_sub', 'direccion', 'fec_aju_', 'fec_arc_xl', 'fec_def_', 'fecha_nacimiento', 'fm_fuerza', 'fm_grado', 'fm_unidad', 'gp_carcela', 'gp_desmovi', 'gp_desplaz', 'gp_discapa', 'gp_gestan', 'gp_indigen', 'gp_mad_com', 'gp_migrant', 'gp_otros', 'gp_pobicbf', 'gp_psiquia', 'gp_vic_vio', 'localidad', 'ndep_notif', 'ndep_resi', 'nit_upgd', 'nmun_notif', 'nmun_resi', 'nom_dil_f_', 'nom_upgd', 'ocupacion_', 'pri_ape_', 'pri_nom_', 'seg_ape_', 'seg_nom_', 'tel_dil_f_', 'telefono_', 'vereda_', 'cod_dpto_o', 'cod_dpto_r', 'cod_eve', 'cod_mun_o', 'cod_mun_r', 'eve_historico', 'num_ide_', 'tip_ide_']\n",
      "🗑️ En 'raw_dengue_2019.csv' se eliminaron: ['ajuste_', 'barrio', 'cbmte_', 'cen_pobla_', 'cer_def_', 'cod_ase_', 'cod_pais_o', 'cod_pre', 'cod_sub', 'direccion', 'fec_aju_', 'fec_arc_xl', 'fec_def_', 'fecha_nacimiento', 'fm_fuerza', 'fm_grado', 'fm_unidad', 'gp_carcela', 'gp_desmovi', 'gp_desplaz', 'gp_discapa', 'gp_gestan', 'gp_indigen', 'gp_mad_com', 'gp_migrant', 'gp_otros', 'gp_pobicbf', 'gp_psiquia', 'gp_vic_vio', 'localidad', 'ndep_notif', 'ndep_resi', 'nit_upgd', 'nmun_notif', 'nmun_resi', 'nom_dil_f_', 'nom_upgd', 'ocupacion_', 'pri_ape_', 'pri_nom_', 'seg_ape_', 'seg_nom_', 'tel_dil_f_', 'telefono_', 'vereda_', 'cod_dpto_o', 'cod_dpto_r', 'cod_eve', 'cod_mun_o', 'cod_mun_r', 'eve_historico', 'num_ide_', 'tip_ide_']\n",
      "🗑️ En 'raw_dengue_2020.csv' se eliminaron: ['ajuste_', 'barrio', 'cbmte_', 'cen_pobla_', 'cer_def_', 'cod_ase_', 'cod_pais_o', 'cod_pre', 'cod_sub', 'direccion', 'fec_aju_', 'fec_arc_xl', 'fec_def_', 'fecha_nacimiento', 'fm_fuerza', 'fm_grado', 'fm_unidad', 'gp_carcela', 'gp_desmovi', 'gp_desplaz', 'gp_discapa', 'gp_gestan', 'gp_indigen', 'gp_mad_com', 'gp_migrant', 'gp_otros', 'gp_pobicbf', 'gp_psiquia', 'gp_vic_vio', 'localidad', 'ndep_notif', 'ndep_resi', 'nit_upgd', 'nmun_notif', 'nmun_resi', 'nom_dil_f_', 'nom_upgd', 'ocupacion_', 'pri_ape_', 'pri_nom_', 'seg_ape_', 'seg_nom_', 'tel_dil_f_', 'telefono_', 'vereda_', 'cod_dpto_o', 'cod_dpto_r', 'cod_eve', 'cod_mun_o', 'cod_mun_r', 'eve_historico', 'num_ide_', 'tip_ide_']\n",
      "🗑️ En 'raw_dengue_2021.csv' se eliminaron: ['ajuste_', 'barrio', 'cbmte_', 'cen_pobla_', 'cer_def_', 'cod_ase_', 'cod_pais_o', 'cod_pre', 'cod_sub', 'direccion', 'fec_aju_', 'fec_arc_xl', 'fec_def_', 'fecha_nacimiento', 'fm_fuerza', 'fm_grado', 'fm_unidad', 'gp_carcela', 'gp_desmovi', 'gp_desplaz', 'gp_discapa', 'gp_gestan', 'gp_indigen', 'gp_mad_com', 'gp_migrant', 'gp_otros', 'gp_pobicbf', 'gp_psiquia', 'gp_vic_vio', 'localidad', 'ndep_notif', 'ndep_resi', 'nit_upgd', 'nmun_notif', 'nmun_resi', 'nom_dil_f_', 'nom_upgd', 'ocupacion_', 'pri_ape_', 'pri_nom_', 'seg_ape_', 'seg_nom_', 'tel_dil_f_', 'telefono_', 'vereda_', 'cod_dpto_o', 'cod_dpto_r', 'cod_eve', 'cod_mun_o', 'cod_mun_r', 'eve_historico', 'num_ide_', 'tip_ide_']\n",
      "🗑️ En 'raw_dengue_2022.csv' se eliminaron: ['ajuste_', 'barrio', 'cbmte_', 'cen_pobla_', 'cer_def_', 'cod_ase_', 'cod_pais_o', 'cod_pre', 'cod_sub', 'direccion', 'fec_aju_', 'fec_arc_xl', 'fec_def_', 'fecha_nacimiento', 'fm_fuerza', 'fm_grado', 'fm_unidad', 'gp_carcela', 'gp_desmovi', 'gp_desplaz', 'gp_discapa', 'gp_gestan', 'gp_indigen', 'gp_mad_com', 'gp_migrant', 'gp_otros', 'gp_pobicbf', 'gp_psiquia', 'gp_vic_vio', 'localidad', 'ndep_notif', 'ndep_resi', 'nit_upgd', 'nmun_notif', 'nmun_resi', 'nom_dil_f_', 'nom_upgd', 'ocupacion_', 'pri_ape_', 'pri_nom_', 'seg_ape_', 'seg_nom_', 'tel_dil_f_', 'telefono_', 'vereda_', 'cod_dpto_o', 'cod_dpto_r', 'cod_eve', 'cod_mun_o', 'cod_mun_r', 'eve_historico', 'num_ide_', 'tip_ide_']\n",
      "🗑️ En 'raw_dengue_2023.csv' se eliminaron: ['ajuste_', 'barrio', 'cbmte_', 'cen_pobla_', 'cer_def_', 'cod_ase_', 'cod_pais_o', 'cod_pre', 'cod_sub', 'direccion', 'fec_aju_', 'fec_arc_xl', 'fec_def_', 'fecha_nacimiento', 'fm_fuerza', 'fm_grado', 'fm_unidad', 'gp_carcela', 'gp_desmovi', 'gp_desplaz', 'gp_discapa', 'gp_gestan', 'gp_indigen', 'gp_mad_com', 'gp_migrant', 'gp_otros', 'gp_pobicbf', 'gp_psiquia', 'gp_vic_vio', 'localidad', 'ndep_notif', 'ndep_resi', 'nit_upgd', 'nmun_notif', 'nmun_resi', 'nom_dil_f_', 'nom_upgd', 'ocupacion_', 'pri_ape_', 'pri_nom_', 'seg_ape_', 'seg_nom_', 'tel_dil_f_', 'telefono_', 'vereda_', 'cod_pais_r', 'nombre_nacionalidad', 'num_ide_', 'sem_ges', 'tip_ide_', 'version']\n"
     ]
    }
   ],
   "source": [
    "# Descartar variables poco informativas\n",
    "delete = [\n",
    "'ajuste_', 'barrio', 'cbmte_', 'cen_pobla_', 'cer_def_', \n",
    "'cod_ase_', 'cod_pais_o', 'cod_pre', 'cod_sub', \n",
    "'direccion', 'fec_aju_', 'fec_arc_xl', 'fec_def_', 'fecha_nacimiento',\n",
    "'fm_fuerza', 'fm_grado', 'fm_unidad', \n",
    "'gp_carcela', 'gp_desmovi', 'gp_desplaz', 'gp_discapa', 'gp_gestan', 'gp_indigen', \n",
    "'gp_mad_com', 'gp_migrant', 'gp_otros', 'gp_pobicbf', 'gp_psiquia', 'gp_vic_vio', \n",
    "'localidad', 'ndep_notif', 'ndep_resi', 'nit_upgd', 'nmun_notif', 'nmun_resi', 'nom_dil_f_', 'nom_upgd', \n",
    "'ocupacion_', 'pri_ape_', 'pri_nom_', 'seg_ape_', 'seg_nom_', 'tel_dil_f_', 'telefono_', 'vereda_',\n",
    "'cod_dpto_o', 'cod_dpto_r', 'cod_eve', 'cod_mun_o', 'cod_mun_r', 'cod_pais_r','eve_historico',\n",
    "'nombre_nacionalidad', 'num_ide_', 'sem_ges', 'tip_ide_',  'version'\n",
    "]\n",
    "\n",
    "for nombre, data in dataframes.items():\n",
    "    cols_a_borrar = [col for col in delete if col in data.columns]\n",
    "    if cols_a_borrar:\n",
    "        dataframes[nombre] = data.drop(columns=cols_a_borrar)\n",
    "        print(f\"🗑️ En '{nombre}' se eliminaron: {cols_a_borrar}\")\n",
    "    else:\n",
    "        print(f\"✅ En '{nombre}' no había columnas para eliminar.\")"
   ]
  },
  {
   "cell_type": "markdown",
   "id": "94020340",
   "metadata": {},
   "source": [
    "## Unificación"
   ]
  },
  {
   "cell_type": "code",
   "execution_count": 6,
   "id": "df348b97",
   "metadata": {},
   "outputs": [
    {
     "name": "stdout",
     "output_type": "stream",
     "text": [
      "<class 'pandas.core.frame.DataFrame'>\n",
      "RangeIndex: 36714 entries, 0 to 36713\n",
      "Data columns (total 18 columns):\n",
      " #   Column                 Non-Null Count  Dtype \n",
      "---  ------                 --------------  ----- \n",
      " 0   area                   36714 non-null  int64 \n",
      " 1   año                    36714 non-null  int64 \n",
      " 2   departamento           36714 non-null  object\n",
      " 3   desenlace              36714 non-null  int64 \n",
      " 4   edad                   36714 non-null  int64 \n",
      " 5   fecha_consulta         36714 non-null  object\n",
      " 6   fecha_hospitalizacion  36714 non-null  object\n",
      " 7   fecha_inicio_sintomas  36714 non-null  object\n",
      " 8   fecha_notificacion     36714 non-null  object\n",
      " 9   hospitalizacion        36714 non-null  int64 \n",
      " 10  municipio              36714 non-null  object\n",
      " 11  nombre_evento          36714 non-null  object\n",
      " 12  pertencia_etnica       36714 non-null  int64 \n",
      " 13  regimen_salud          36714 non-null  object\n",
      " 14  semana                 36714 non-null  int64 \n",
      " 15  sexo                   36714 non-null  object\n",
      " 16  tipo_de_caso           36714 non-null  int64 \n",
      " 17  uni_med_               36714 non-null  int64 \n",
      "dtypes: int64(9), object(9)\n",
      "memory usage: 5.0+ MB\n"
     ]
    }
   ],
   "source": [
    "# Concatenar archivos en un solo DataFrame\n",
    "data = pd.concat(dataframes.values(), ignore_index=True)\n",
    "data = data[sorted(data.columns)]\n",
    "data.info()"
   ]
  },
  {
   "cell_type": "markdown",
   "id": "d78bb2ee",
   "metadata": {},
   "source": [
    "_________"
   ]
  },
  {
   "cell_type": "markdown",
   "id": "228e3a53",
   "metadata": {},
   "source": [
    "## Agregación"
   ]
  },
  {
   "cell_type": "code",
   "execution_count": 7,
   "id": "8b880c21",
   "metadata": {},
   "outputs": [
    {
     "data": {
      "text/plain": [
       "array(['Clasico', 'Grave'], dtype=object)"
      ]
     },
     "execution_count": 7,
     "metadata": {},
     "output_type": "execute_result"
    }
   ],
   "source": [
    "# [Variable] Evento\n",
    "data.loc[:, 'nombre_evento'] = data['nombre_evento'].str.strip()\n",
    "data = data[data['nombre_evento'] != 'MORTALIDAD POR DENGUE']\n",
    "data['evento'] = np.where(data['nombre_evento'] == 'DENGUE', 'Clasico', \n",
    "                       np.where(data['nombre_evento'] == 'DENGUE GRAVE', 'Grave', 'Otros'))\n",
    "data['evento'].unique()"
   ]
  },
  {
   "cell_type": "code",
   "execution_count": 8,
   "id": "b4eb0642",
   "metadata": {},
   "outputs": [
    {
     "data": {
      "text/plain": [
       "count    36707.000000\n",
       "mean        16.703953\n",
       "std         13.748010\n",
       "min          0.000000\n",
       "25%          8.000000\n",
       "50%         13.000000\n",
       "75%         20.000000\n",
       "max        101.000000\n",
       "Name: edad_años, dtype: float64"
      ]
     },
     "execution_count": 8,
     "metadata": {},
     "output_type": "execute_result"
    }
   ],
   "source": [
    "# [Variable] Edad en años\n",
    "data[\"edad_años\"] = np.where(data[\"uni_med_\"] == 1, data[\"edad\"],   # ya está en años\n",
    "                    np.where(data[\"uni_med_\"] == 2, data[\"edad\"] / 12,  # meses → años\n",
    "                    np.where(data[\"uni_med_\"] == 3, data[\"edad\"] / 365, # días → años\n",
    "                    np.where(data[\"uni_med_\"] == 4, data[\"edad\"] / (365*24), # horas\n",
    "                    np.where(data[\"uni_med_\"] == 5, data[\"edad\"] / (365*24*60), # minutos\n",
    "                    np.where(data[\"uni_med_\"] == 0, np.nan, \n",
    "                     np.nan))))))  # por si hay otros valores\n",
    "data[\"edad_años\"] = data[\"edad_años\"].round().fillna(-1).astype(int)\n",
    "data['edad_años'].describe()"
   ]
  },
  {
   "cell_type": "code",
   "execution_count": 9,
   "id": "cd85c563",
   "metadata": {},
   "outputs": [
    {
     "data": {
      "text/plain": [
       "array(['Ancianidad', 'Adolescencia', 'Adulto mayor', 'Infancia', 'Adulto',\n",
       "       'Primera infancia', 'Menor de 1 año'], dtype=object)"
      ]
     },
     "execution_count": 9,
     "metadata": {},
     "output_type": "execute_result"
    }
   ],
   "source": [
    "# [Variable] Ciclo vital a partir de edad en años\n",
    "def ciclo_vital(edad):\n",
    "    if edad < 0:\n",
    "        return \"Desconocido\"\n",
    "    elif edad < 1:\n",
    "        return \"Menor de 1 año\"\n",
    "    elif edad < 5:\n",
    "        return \"Primera infancia\"\n",
    "    elif edad < 10:\n",
    "        return \"Infancia\"\n",
    "    elif edad < 20:\n",
    "        return \"Adolescencia\"\n",
    "    elif edad < 60:\n",
    "        return \"Adulto\"\n",
    "    elif edad < 85:\n",
    "        return \"Adulto mayor\"\n",
    "    else:\n",
    "        return \"Ancianidad\"\n",
    "    \n",
    "data[\"ciclo_vital\"] = data[\"edad_años\"].apply(ciclo_vital)\n",
    "data[\"ciclo_vital\"].unique()"
   ]
  },
  {
   "cell_type": "code",
   "execution_count": 10,
   "id": "8a7ec2bd",
   "metadata": {},
   "outputs": [],
   "source": [
    "# [Mapeo] Variables categóricas\n",
    "mapeo = {\n",
    "    'area' : {1: 'Cabecera municipal' , 2:'Centro Poblado', 3:'Rural disperso'}, \n",
    "    'hospitalizacion': {1: 'Si', 2: 'No'},\n",
    "    'desenlace': {1: 'Vivo', 2: 'Fallecido'},\n",
    "    'pertencia_etnica': {1: 'Indigena', 2: 'Rom', 3: 'Raizal', 4: 'Palenquero', 5: 'Negro', 6:'Otro'},\n",
    "    'regimen_salud': {'P': 'Excepción', 'E': 'Especial', 'C': 'Contributivo', 'S': 'Subsidiado', 'N': 'No asegurado', 'I': 'Indeterminado'},\n",
    "    'sexo': {'M': 'Masculino', 'F': 'Femenino'},\n",
    "    'tipo_de_caso': {2: 'Probable', 3: 'Conf. por laboratorio', 5: 'Conf. por nexo'}\n",
    "}\n",
    "data = data.replace(mapeo)"
   ]
  },
  {
   "cell_type": "code",
   "execution_count": 11,
   "id": "3e8bb675",
   "metadata": {},
   "outputs": [],
   "source": [
    "# [Mapeo] Grupos étnicos\n",
    "mapeo_etnico = {\n",
    "    'Indigena': 'Indígena',\n",
    "    'Negro': 'Afrocolombiano',\n",
    "    'Raizal': 'Afrocolombiano',\n",
    "    'Palenquero': 'Afrocolombiano',\n",
    "    'Rom': 'Rom',\n",
    "    'Otro': 'Otro'\n",
    "}\n",
    "data['grupo_etnico'] = data['pertencia_etnica'].map(mapeo_etnico)"
   ]
  },
  {
   "cell_type": "code",
   "execution_count": 12,
   "id": "b20b5580",
   "metadata": {},
   "outputs": [
    {
     "data": {
      "text/plain": [
       "array(['ATLÁNTICO'], dtype=object)"
      ]
     },
     "execution_count": 12,
     "metadata": {},
     "output_type": "execute_result"
    }
   ],
   "source": [
    "# [Variable] Departamento\n",
    "data['departamento'] = data[\"departamento\"].str.upper().str.strip()\n",
    "data['departamento'] = data['departamento'].str.replace('_', ' ', regex=False)\n",
    "\n",
    "data['departamento'] = data['departamento'].replace({'ATLANTICO': 'ATLÁNTICO', '8': 'ATLÁNTICO'})\n",
    "data = data[data['departamento'] == \"ATLÁNTICO\"]\n",
    "data['departamento'].unique()"
   ]
  },
  {
   "cell_type": "code",
   "execution_count": 13,
   "id": "e221bf8c",
   "metadata": {},
   "outputs": [
    {
     "data": {
      "text/plain": [
       "array(['BARRANQUILLA', 'SOLEDAD', 'REPELÓN', 'JUAN DE ACOSTA', 'GALAPA',\n",
       "       'USIACURÍ', 'BARANOA', 'POLONUEVO', 'SABANALARGA', 'SABANAGRANDE',\n",
       "       'MALAMBO', 'LURUACO', 'CAMPO DE LA CRUZ', 'SANTO TOMÁS',\n",
       "       'DESCONOCIDO', 'TUBARÁ', 'PONEDERA', 'PUERTO COLOMBIA', 'MANATÍ',\n",
       "       'CANDELARIA', 'PALMAR DE VARELA', 'SUAN', 'PIOJÓ', 'SANTA LUCÍA'],\n",
       "      dtype=object)"
      ]
     },
     "execution_count": 13,
     "metadata": {},
     "output_type": "execute_result"
    }
   ],
   "source": [
    "# [Variable] Departamento\n",
    "data['municipio'] = data[\"municipio\"].str.upper().str.strip()\n",
    "data['municipio'] = data['municipio'].str.replace('_', ' ', regex=False)\n",
    "\n",
    "correcciones_mun= {\n",
    "    '1': 'BARRANQUILLA',\n",
    "    '758': 'SOLEDAD',\n",
    "    '606': 'REPELÓN',\n",
    "    '372': 'JUAN DE ACOSTA',\n",
    "    '849': 'USIACURÍ', 'USIACURI': 'USIACURÍ', '8499': 'USIACURÍ',\n",
    "    '296': 'GALAPA',\n",
    "    '606': 'REPELÓN', 'REPELON': 'REPELÓN', \n",
    "    '78': 'BARANOA', \n",
    "    '558': 'POLONUEVO', 'POLO NUEVO': 'POLONUEVO',\n",
    "    '638': 'SABANALARGA',\n",
    "    '433': 'MALAMBO',\n",
    "    '421': 'LURUACO',\n",
    "    '634': 'SABANAGRANDE',\n",
    "    '685': 'SANTO TOMÁS', 'SANTO TOMAS': 'SANTO TOMÁS', \n",
    "    '832': 'TUBARÁ', 'TUBARA': 'TUBARÁ',\n",
    "    '137': 'CAMPO DE LA CRUZ',\n",
    "    '* ATLANTICO. MUNICIPIO DESCONO': 'DESCONOCIDO',\n",
    "    '560': 'PONEDERA',\n",
    "    '573': 'PUERTO COLOMBIA', \n",
    "    '436': 'MANATÍ', 'MANATI': 'MANATÍ',\n",
    "    '141': 'CANDELARIA', \n",
    "    '560': 'PONEDERA', '560PO': 'PONEDERA',\n",
    "    '520': 'PALMAR DE VARELA',\n",
    "    '770': 'SUAN',\n",
    "    '549': 'PIOJÓ', 'PIOJO': 'PIOJÓ',\n",
    "    '675': 'SANTA LUCÍA', 'SANTA LUCIA': 'SANTA LUCÍA',\n",
    "    '0': 'DESCONOCIDO', \n",
    "    '7': 'DESCONOCIDO'\n",
    "\n",
    "}\n",
    "\n",
    "data['municipio'] = data['municipio'].replace(correcciones_mun)\n",
    "data['municipio'].unique()"
   ]
  },
  {
   "cell_type": "code",
   "execution_count": 14,
   "id": "67420707",
   "metadata": {},
   "outputs": [],
   "source": [
    "def obtener_subregion(mun):\n",
    "    if mun in ['BARRANQUILLA', 'GALAPA', 'MALAMBO', 'SOLEDAD', 'PUERTO COLOMBIA']:\n",
    "        return 'Metropolitana'\n",
    "    elif mun in ['PALMAR DE VARELA', 'PONEDERA', 'SANTO TOMÁS', 'SABANAGRANDE']:\n",
    "        return 'Oriental'\n",
    "    elif mun in ['CAMPO DE LA CRUZ', 'CANDELARIA', 'SANTA LUCÍA', 'SUAN', 'REPELÓN', 'MANATÍ']:\n",
    "        return 'Sur'\n",
    "    elif mun in ['BARANOA', 'POLONUEVO', 'LURUACO', 'USIACURÍ', 'SABANALARGA']:\n",
    "        return 'Centro'\n",
    "    elif mun in ['JUAN DE ACOSTA', 'PIOJÓ', 'TUBARÁ']:\n",
    "        return 'Costera'\n",
    "    else:\n",
    "        return 'Desconocida'\n",
    "\n",
    "# Aplicamos la función\n",
    "data['subregion'] = data['municipio'].apply(obtener_subregion)"
   ]
  },
  {
   "cell_type": "code",
   "execution_count": 15,
   "id": "bf0c68bc",
   "metadata": {},
   "outputs": [],
   "source": [
    "# [Variable] Periodo epidemiológico (4 semanas)\n",
    "def asignar_periodo(semana):\n",
    "    \"\"\"\n",
    "    Calcula el número de periodo según la semana epidemiológica.\n",
    "    Cada periodo abarca 4 semanas. \n",
    "    La semana 53 se incluye en el último periodo.\n",
    "    \"\"\"\n",
    "    if pd.isna(semana):\n",
    "        return np.nan\n",
    "    semana = int(semana)\n",
    "    periodo = int(np.ceil(semana / 4))\n",
    "    if semana == 53:  # Semana extra del año\n",
    "        periodo = int(np.ceil(52 / 4))  # igual al último periodo\n",
    "    return periodo\n",
    "\n",
    "# Aplicar al dataframe\n",
    "data[\"periodo\"] = data[\"semana\"].apply(asignar_periodo)"
   ]
  },
  {
   "cell_type": "code",
   "execution_count": 16,
   "id": "cd98416a",
   "metadata": {},
   "outputs": [
    {
     "data": {
      "text/plain": [
       "Index(['area', 'año', 'departamento', 'desenlace', 'edad', 'fecha_consulta',\n",
       "       'fecha_hospitalizacion', 'fecha_inicio_sintomas', 'fecha_notificacion',\n",
       "       'hospitalizacion', 'municipio', 'nombre_evento', 'pertencia_etnica',\n",
       "       'regimen_salud', 'semana', 'sexo', 'tipo_de_caso', 'uni_med_', 'evento',\n",
       "       'edad_años', 'ciclo_vital', 'grupo_etnico', 'subregion', 'periodo'],\n",
       "      dtype='object')"
      ]
     },
     "execution_count": 16,
     "metadata": {},
     "output_type": "execute_result"
    }
   ],
   "source": [
    "data.columns"
   ]
  },
  {
   "cell_type": "code",
   "execution_count": 17,
   "id": "d3703059",
   "metadata": {},
   "outputs": [],
   "source": [
    "# Descartar variables originales ya transformadas\n",
    "data = data.drop(columns=['edad', 'uni_med_', 'pertencia_etnica', 'nombre_evento', 'departamento'])"
   ]
  },
  {
   "cell_type": "code",
   "execution_count": 18,
   "id": "0be6985b",
   "metadata": {},
   "outputs": [],
   "source": [
    "# [Data] Estructuración por temática\n",
    "\n",
    "    # Variables demográficas\n",
    "demograficas = [\n",
    "    \"sexo\",                    # M/F\n",
    "    \"edad_años\",               # Edad numérica\n",
    "    \"ciclo_vital\",             # Etapa de vida\n",
    "    \"grupo_etnico\",            # Grupo étnico declarado\n",
    "    \"regimen_salud\"            # Régimen (contributivo, subsidiado, etc.)\n",
    "]\n",
    "\n",
    "    # Variables del evento epidemiológico\n",
    "evento = [\n",
    "    \"evento\",                  # Clásico, grave\n",
    "    \"tipo_de_caso\",               # Confirmado, probable, descartado\n",
    "    \"hospitalizacion\",         # Sí/No\n",
    "    \"desenlace\"                # Recuperado, fallecido, etc.\n",
    "]\n",
    "\n",
    "    # Variables de temporalidad\n",
    "temporalidad = [\n",
    "    \"año\",                     # Año del evento\n",
    "    \"semana\",                  # Semana epidemiológica\n",
    "    \"periodo\",                 # Periodo (cada 4 semanas)\n",
    "    \"fecha_inicio_sintomas\",   # Inicio de síntomas\n",
    "    \"fecha_consulta\",          # Fecha de consulta\n",
    "    \"fecha_hospitalizacion\",   # Fecha de hospitalización\n",
    "    \"fecha_notificacion\",      # Fecha de notificación\n",
    "]\n",
    "\n",
    "    # Variables espaciales\n",
    "espacial = [\n",
    "    \"subregion\",                # Subregion del Atlántico\n",
    "    \"municipio\",                # Municipio de ocurrencia\n",
    "    \"area\",                     # Urbana o rural\n",
    "]\n",
    "\n",
    "orden_columnas = demograficas + evento + temporalidad + espacial\n",
    "cols_existentes = [col for col in orden_columnas if col in data.columns]\n",
    "data = data[cols_existentes + [col for col in data.columns if col not in cols_existentes]]"
   ]
  },
  {
   "cell_type": "code",
   "execution_count": 19,
   "id": "7be07f81",
   "metadata": {},
   "outputs": [
    {
     "data": {
      "text/plain": [
       "(35845, 19)"
      ]
     },
     "execution_count": 19,
     "metadata": {},
     "output_type": "execute_result"
    }
   ],
   "source": [
    "# DataFrame final\n",
    "data.shape"
   ]
  },
  {
   "cell_type": "code",
   "execution_count": 20,
   "id": "32e1f881",
   "metadata": {},
   "outputs": [
    {
     "name": "stdout",
     "output_type": "stream",
     "text": [
      "<class 'pandas.core.frame.DataFrame'>\n",
      "Index: 18578 entries, 7 to 36713\n",
      "Data columns (total 19 columns):\n",
      " #   Column                 Non-Null Count  Dtype \n",
      "---  ------                 --------------  ----- \n",
      " 0   sexo                   18578 non-null  object\n",
      " 1   edad_años              18578 non-null  int64 \n",
      " 2   ciclo_vital            18578 non-null  object\n",
      " 3   grupo_etnico           18578 non-null  object\n",
      " 4   regimen_salud          18578 non-null  object\n",
      " 5   evento                 18578 non-null  object\n",
      " 6   tipo_de_caso           18578 non-null  object\n",
      " 7   hospitalizacion        18578 non-null  object\n",
      " 8   desenlace              18578 non-null  object\n",
      " 9   año                    18578 non-null  int64 \n",
      " 10  semana                 18578 non-null  int64 \n",
      " 11  periodo                18578 non-null  int64 \n",
      " 12  fecha_inicio_sintomas  18578 non-null  object\n",
      " 13  fecha_consulta         18578 non-null  object\n",
      " 14  fecha_hospitalizacion  18578 non-null  object\n",
      " 15  fecha_notificacion     18578 non-null  object\n",
      " 16  subregion              18578 non-null  object\n",
      " 17  municipio              18578 non-null  object\n",
      " 18  area                   18578 non-null  object\n",
      "dtypes: int64(4), object(15)\n",
      "memory usage: 2.8+ MB\n"
     ]
    }
   ],
   "source": [
    "df_atl = data[data['municipio'] != \"BARRANQUILLA\"]\n",
    "df_atl.info()"
   ]
  },
  {
   "cell_type": "code",
   "execution_count": 21,
   "id": "e49cd3fb",
   "metadata": {},
   "outputs": [],
   "source": [
    "df_atl.to_csv(r\"C:\\Users\\Hp\\DENGUE\\DATA\\Data_Atlantico.csv\", index=False, encoding='utf-8')"
   ]
  }
 ],
 "metadata": {
  "kernelspec": {
   "display_name": "dengue",
   "language": "python",
   "name": "python3"
  },
  "language_info": {
   "codemirror_mode": {
    "name": "ipython",
    "version": 3
   },
   "file_extension": ".py",
   "mimetype": "text/x-python",
   "name": "python",
   "nbconvert_exporter": "python",
   "pygments_lexer": "ipython3",
   "version": "3.12.11"
  }
 },
 "nbformat": 4,
 "nbformat_minor": 5
}
