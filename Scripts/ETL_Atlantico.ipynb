{
 "cells": [
  {
   "cell_type": "markdown",
   "id": "c1936d93",
   "metadata": {},
   "source": [
    "# **ETL - ATLÁNTICO**"
   ]
  },
  {
   "cell_type": "code",
   "execution_count": 1,
   "id": "f8c7b737",
   "metadata": {},
   "outputs": [],
   "source": [
    "# [Configuración] Importación de librerías\n",
    "import pandas as pd\n",
    "import numpy as np\n",
    "import unicodedata\n",
    "import re\n",
    "import os"
   ]
  },
  {
   "cell_type": "code",
   "execution_count": 2,
   "id": "e3b2fbde",
   "metadata": {},
   "outputs": [
    {
     "name": "stdout",
     "output_type": "stream",
     "text": [
      "✅ 7 archivos cargados desde ../DATA/DNG\n"
     ]
    }
   ],
   "source": [
    "# [Configuración] Lectura de los archivos CSV\n",
    "ruta = \"../DATA/DNG\" \n",
    "archivos = [f for f in os.listdir(ruta) if f.endswith(\".csv\")]\n",
    "dataframes = {}\n",
    "for archivo in archivos:\n",
    "    path = os.path.join(ruta, archivo)\n",
    "    df = pd.read_csv(path, encoding='latin-1', low_memory=False)\n",
    "    df.columns = df.columns.str.lower()\n",
    "    dataframes[archivo] = df\n",
    "\n",
    "print(f\"✅ {len(dataframes)} archivos cargados desde {ruta}\")"
   ]
  },
  {
   "cell_type": "code",
   "execution_count": 3,
   "id": "9b6ec87d",
   "metadata": {},
   "outputs": [
    {
     "name": "stdout",
     "output_type": "stream",
     "text": [
      "✅ Columnas comunes a todos los archivos:\n",
      "['ajuste', 'area', 'año', 'barver', 'cbmte', 'cenpobla', 'cerdef', 'codase', 'coddptoo', 'codeve', 'codmuno', 'codpaiso', 'codpre', 'codsub', 'confin', 'dirres', 'edad', 'fecaju', 'fecarcxl', 'feccon', 'fecdef', 'fechanto', 'fechos', 'fecnot', 'fmfuerza', 'fmgrado', 'fmunidad', 'gpcarcela', 'gpdesmovi', 'gpdesplaz', 'gpdiscapa', 'gpgestan', 'gpindigen', 'gpmadcom', 'gpmigrant', 'gpotros', 'gppobicbf', 'gppsiquia', 'gpvicvio', 'inisin', 'localidad', 'ndepnotif', 'ndepproce', 'ndepresi', 'nitupgd', 'nmunnotif', 'nmunproce', 'nmunresi', 'nomdilf', 'nomeve', 'nomupgd', 'numide', 'ocupacion', 'pachos', 'peretn', 'priape', 'prinom', 'segape', 'segnom', 'semana', 'sexo', 'teldilf', 'telefono', 'tipcas', 'tipide', 'tipss', 'unimed', 'vereda']\n",
      "\n",
      "❌ Columnas exclusivas por archivo:\n",
      "📄 raw_2017.csv: ['coddptor', 'codmunr', 'evehistorico']\n",
      "📄 raw_2018.csv: ['coddptor', 'codmunr', 'evehistorico']\n",
      "📄 raw_2019.csv: ['coddptor', 'codmunr', 'evehistorico']\n",
      "📄 raw_2020.csv: ['coddptor', 'codmunr', 'evehistorico']\n",
      "📄 raw_2021.csv: ['coddptor', 'codmunr', 'evehistorico']\n",
      "📄 raw_2022.csv: ['coddptor', 'codmunr', 'evehistorico']\n",
      "📄 raw_2023.csv: []\n"
     ]
    }
   ],
   "source": [
    "# [Función] Limpiar nombres de columnas\n",
    "def limpiar_texto(texto):\n",
    "    if not isinstance(texto, str):\n",
    "        return texto\n",
    "    texto = texto.replace(\"ã±\", \"ñ\").replace(\"Ã±\", \"ñ\").replace(\"ï¿½\", \"ñ\")\n",
    "    texto = unicodedata.normalize(\"NFKC\", texto)\n",
    "    texto = re.sub(r'\\s+', '_', texto.strip().lower())\n",
    "    texto = texto.replace(\"_\", \"\")\n",
    "    return texto\n",
    "\n",
    "# Limpiar nombres de columnas de todos los DataFrames\n",
    "for nombre, df in dataframes.items():\n",
    "    df.columns = [limpiar_texto(col) for col in df.columns]\n",
    "    dataframes[nombre] = df\n",
    "\n",
    "\n",
    "columnas_por_archivo = {\n",
    "    nombre: set(df.columns)\n",
    "    for nombre, df in dataframes.items()\n",
    "}\n",
    "# Columnas comunes a todos los archivos\n",
    "comunes = set.intersection(*columnas_por_archivo.values())\n",
    "\n",
    "# Columnas únicas por archivo\n",
    "exclusivas = {\n",
    "    nombre: columnas - comunes\n",
    "    for nombre, columnas in columnas_por_archivo.items()\n",
    "}\n",
    "print(\"✅ Columnas comunes a todos los archivos:\")\n",
    "print(sorted(comunes))\n",
    "\n",
    "print(\"\\n❌ Columnas exclusivas por archivo:\")\n",
    "for nombre, cols in exclusivas.items():\n",
    "    print(f\"📄 {nombre}: {sorted(cols)}\")"
   ]
  },
  {
   "cell_type": "code",
   "execution_count": 4,
   "id": "0133a9c8",
   "metadata": {},
   "outputs": [
    {
     "name": "stdout",
     "output_type": "stream",
     "text": [
      "🗑️ En 'raw_2017.csv' se eliminaron: ['ajuste', 'barver', 'cbmte', 'cenpobla', 'cerdef', 'codase', 'coddptor', 'codpaiso', 'codmunr', 'codpre', 'codsub', 'dirres', 'evehistorico', 'fecaju', 'fecarcxl', 'fmfuerza', 'fmgrado', 'fmunidad', 'fecdef', 'fechanto', 'numide', 'priape', 'prinom', 'segape', 'segnom', 'codeve', 'gpcarcela', 'gpdesmovi', 'gpdesplaz', 'gpdiscapa', 'gpgestan', 'gpindigen', 'gpmadcom', 'gpmigrant', 'gpotros', 'gppobicbf', 'gppsiquia', 'gpvicvio', 'localidad', 'ndepnotif', 'ndepresi', 'nitupgd', 'nmunnotif', 'nmunresi', 'nomdilf', 'nomupgd', 'ocupacion', 'teldilf', 'telefono', 'tipide', 'vereda']\n",
      "🗑️ En 'raw_2018.csv' se eliminaron: ['ajuste', 'barver', 'cbmte', 'cenpobla', 'cerdef', 'codase', 'coddptor', 'codpaiso', 'codmunr', 'codpre', 'codsub', 'dirres', 'evehistorico', 'fecaju', 'fecarcxl', 'fmfuerza', 'fmgrado', 'fmunidad', 'fecdef', 'fechanto', 'numide', 'priape', 'prinom', 'segape', 'segnom', 'codeve', 'gpcarcela', 'gpdesmovi', 'gpdesplaz', 'gpdiscapa', 'gpgestan', 'gpindigen', 'gpmadcom', 'gpmigrant', 'gpotros', 'gppobicbf', 'gppsiquia', 'gpvicvio', 'localidad', 'ndepnotif', 'ndepresi', 'nitupgd', 'nmunnotif', 'nmunresi', 'nomdilf', 'nomupgd', 'ocupacion', 'teldilf', 'telefono', 'tipide', 'vereda']\n",
      "🗑️ En 'raw_2019.csv' se eliminaron: ['ajuste', 'barver', 'cbmte', 'cenpobla', 'cerdef', 'codase', 'coddptor', 'codpaiso', 'codmunr', 'codpre', 'codsub', 'dirres', 'evehistorico', 'fecaju', 'fecarcxl', 'fmfuerza', 'fmgrado', 'fmunidad', 'fecdef', 'fechanto', 'numide', 'priape', 'prinom', 'segape', 'segnom', 'codeve', 'gpcarcela', 'gpdesmovi', 'gpdesplaz', 'gpdiscapa', 'gpgestan', 'gpindigen', 'gpmadcom', 'gpmigrant', 'gpotros', 'gppobicbf', 'gppsiquia', 'gpvicvio', 'localidad', 'ndepnotif', 'ndepresi', 'nitupgd', 'nmunnotif', 'nmunresi', 'nomdilf', 'nomupgd', 'ocupacion', 'teldilf', 'telefono', 'tipide', 'vereda']\n",
      "🗑️ En 'raw_2020.csv' se eliminaron: ['ajuste', 'barver', 'cbmte', 'cenpobla', 'cerdef', 'codase', 'coddptor', 'codpaiso', 'codmunr', 'codpre', 'codsub', 'dirres', 'evehistorico', 'fecaju', 'fecarcxl', 'fmfuerza', 'fmgrado', 'fmunidad', 'fecdef', 'fechanto', 'numide', 'priape', 'prinom', 'segape', 'segnom', 'codeve', 'gpcarcela', 'gpdesmovi', 'gpdesplaz', 'gpdiscapa', 'gpgestan', 'gpindigen', 'gpmadcom', 'gpmigrant', 'gpotros', 'gppobicbf', 'gppsiquia', 'gpvicvio', 'localidad', 'ndepnotif', 'ndepresi', 'nitupgd', 'nmunnotif', 'nmunresi', 'nomdilf', 'nomupgd', 'ocupacion', 'teldilf', 'telefono', 'tipide', 'vereda']\n",
      "🗑️ En 'raw_2021.csv' se eliminaron: ['ajuste', 'barver', 'cbmte', 'cenpobla', 'cerdef', 'codase', 'coddptor', 'codpaiso', 'codmunr', 'codpre', 'codsub', 'dirres', 'evehistorico', 'fecaju', 'fecarcxl', 'fmfuerza', 'fmgrado', 'fmunidad', 'fecdef', 'fechanto', 'numide', 'priape', 'prinom', 'segape', 'segnom', 'codeve', 'gpcarcela', 'gpdesmovi', 'gpdesplaz', 'gpdiscapa', 'gpgestan', 'gpindigen', 'gpmadcom', 'gpmigrant', 'gpotros', 'gppobicbf', 'gppsiquia', 'gpvicvio', 'localidad', 'ndepnotif', 'ndepresi', 'nitupgd', 'nmunnotif', 'nmunresi', 'nomdilf', 'nomupgd', 'ocupacion', 'teldilf', 'telefono', 'tipide', 'vereda']\n",
      "🗑️ En 'raw_2022.csv' se eliminaron: ['ajuste', 'barver', 'cbmte', 'cenpobla', 'cerdef', 'codase', 'coddptor', 'codpaiso', 'codmunr', 'codpre', 'codsub', 'dirres', 'evehistorico', 'fecaju', 'fecarcxl', 'fmfuerza', 'fmgrado', 'fmunidad', 'fecdef', 'fechanto', 'numide', 'priape', 'prinom', 'segape', 'segnom', 'codeve', 'gpcarcela', 'gpdesmovi', 'gpdesplaz', 'gpdiscapa', 'gpgestan', 'gpindigen', 'gpmadcom', 'gpmigrant', 'gpotros', 'gppobicbf', 'gppsiquia', 'gpvicvio', 'localidad', 'ndepnotif', 'ndepresi', 'nitupgd', 'nmunnotif', 'nmunresi', 'nomdilf', 'nomupgd', 'ocupacion', 'teldilf', 'telefono', 'tipide', 'vereda']\n",
      "🗑️ En 'raw_2023.csv' se eliminaron: ['ajuste', 'barver', 'cbmte', 'cenpobla', 'cerdef', 'codase', 'codpaiso', 'codpre', 'codsub', 'dirres', 'fecaju', 'fecarcxl', 'fmfuerza', 'fmgrado', 'fmunidad', 'fecdef', 'fechanto', 'numide', 'priape', 'prinom', 'segape', 'segnom', 'codeve', 'gpcarcela', 'gpdesmovi', 'gpdesplaz', 'gpdiscapa', 'gpgestan', 'gpindigen', 'gpmadcom', 'gpmigrant', 'gpotros', 'gppobicbf', 'gppsiquia', 'gpvicvio', 'localidad', 'ndepnotif', 'ndepresi', 'nitupgd', 'nmunnotif', 'nmunresi', 'nomdilf', 'nomupgd', 'ocupacion', 'teldilf', 'telefono', 'tipide', 'vereda']\n"
     ]
    }
   ],
   "source": [
    "# Descartar variables poco informativas\n",
    "delete = [\n",
    "    'ajuste', 'barver', 'cbmte', 'cenpobla', 'cerdef', 'codase', 'coddptor', 'codpaiso','codmunr', 'codpre', 'codsub', 'dirres', 'evehistorico','fecaju', 'fecarcxl',\n",
    "    'fmfuerza', 'fmgrado', 'fmunidad','fecdef','fechanto', 'numide', 'priape', 'prinom','segape','segnom', 'cod_dep', 'cod_mun', 'codeve',\n",
    "    'gpcarcela', 'gpdesmovi', 'gpdesplaz', 'gpdiscapa', 'gpgestan', 'gpindigen', 'gpmadcom', 'gpmigrant', 'gpotros', 'gppobicbf', 'gppsiquia', 'gpvicvio', \n",
    "    'localidad', 'ndepnotif', 'ndepresi', 'nitupgd', 'nmunnotif', 'nmunresi', 'nomdilf', 'nomupgd', 'ocupacion', 'teldilf', 'telefono', 'tipide', 'vereda',\n",
    "]\n",
    "\n",
    "for nombre, data in dataframes.items():\n",
    "    cols_a_borrar = [col for col in delete if col in data.columns]\n",
    "    if cols_a_borrar:\n",
    "        dataframes[nombre] = data.drop(columns=cols_a_borrar)\n",
    "        print(f\"🗑️ En '{nombre}' se eliminaron: {cols_a_borrar}\")\n",
    "    else:\n",
    "        print(f\"✅ En '{nombre}' no había columnas para eliminar.\")"
   ]
  },
  {
   "cell_type": "markdown",
   "id": "94020340",
   "metadata": {},
   "source": [
    "## Unificación"
   ]
  },
  {
   "cell_type": "code",
   "execution_count": 5,
   "id": "df348b97",
   "metadata": {},
   "outputs": [
    {
     "name": "stdout",
     "output_type": "stream",
     "text": [
      "<class 'pandas.core.frame.DataFrame'>\n",
      "RangeIndex: 33170 entries, 0 to 33169\n",
      "Data columns (total 20 columns):\n",
      " #   Column          Non-Null Count  Dtype \n",
      "---  ------          --------------  ----- \n",
      " 0   area            33170 non-null  int64 \n",
      " 1   año             33170 non-null  int64 \n",
      " 2   cod_dep         33170 non-null  int64 \n",
      " 3   cod_mun         33170 non-null  int64 \n",
      " 4   departamento    33170 non-null  object\n",
      " 5   desenlace       33170 non-null  int64 \n",
      " 6   edad            33170 non-null  int64 \n",
      " 7   etnia           33170 non-null  int64 \n",
      " 8   evento          33170 non-null  object\n",
      " 9   fecha_consulta  33170 non-null  object\n",
      " 10  fecha_hospital  33170 non-null  object\n",
      " 11  fecha_ini_sint  33170 non-null  object\n",
      " 12  fecha_notific   33170 non-null  object\n",
      " 13  hospitalizado   33170 non-null  int64 \n",
      " 14  municipio       33170 non-null  object\n",
      " 15  regimen_salud   33170 non-null  object\n",
      " 16  semana          33170 non-null  int64 \n",
      " 17  sexo            33170 non-null  object\n",
      " 18  tipo_caso       33170 non-null  int64 \n",
      " 19  unimed          33170 non-null  int64 \n",
      "dtypes: int64(11), object(9)\n",
      "memory usage: 5.1+ MB\n"
     ]
    }
   ],
   "source": [
    "# Concatenar archivos en un solo DataFrame\n",
    "data = pd.concat(dataframes.values(), ignore_index=True)\n",
    "renombres = {\n",
    "    \"coddptoo\": \"cod_dep\",\n",
    "    \"codmuno\": \"cod_mun\",\n",
    "    \"confin\":\"desenlace\",\n",
    "    \"ndepproce\": \"departamento\",\n",
    "    \"nmunproce\": \"municipio\",\n",
    "    \"fecnot\": \"fecha_notific\",\n",
    "    \"feccon\": \"fecha_consulta\",\n",
    "    \"fechos\": \"fecha_hospital\",\n",
    "    \"inisin\": \"fecha_ini_sint\",\n",
    "    \"nomeve\": \"evento\",\n",
    "    \"pachos\": \"hospitalizado\",\n",
    "    \"peretn\": 'etnia',\n",
    "    \"tipcas\": \"tipo_caso\",\n",
    "    \"tipss\": \"regimen_salud\",\n",
    "\n",
    "}\n",
    "data.rename(columns=renombres, inplace=True)\n",
    "data = data[sorted(data.columns)]\n",
    "data.info()\n"
   ]
  },
  {
   "cell_type": "markdown",
   "id": "d78bb2ee",
   "metadata": {},
   "source": [
    "_________"
   ]
  },
  {
   "cell_type": "markdown",
   "id": "228e3a53",
   "metadata": {},
   "source": [
    "## Agregación"
   ]
  },
  {
   "cell_type": "code",
   "execution_count": 6,
   "id": "8b880c21",
   "metadata": {},
   "outputs": [
    {
     "data": {
      "text/plain": [
       "array(['Clasico', 'Grave'], dtype=object)"
      ]
     },
     "execution_count": 6,
     "metadata": {},
     "output_type": "execute_result"
    }
   ],
   "source": [
    "# [Variable] Evento\n",
    "data.loc[:, 'evento'] = data['evento'].str.strip()\n",
    "data['evento'] = np.where(data['evento'] == 'DENGUE', 'Clasico', \n",
    "                       np.where(data['evento'] == 'DENGUE GRAVE', 'Grave', 'Otros'))\n",
    "data['evento'].unique()"
   ]
  },
  {
   "cell_type": "code",
   "execution_count": 7,
   "id": "b4eb0642",
   "metadata": {},
   "outputs": [],
   "source": [
    "# [Variable] Edad en años\n",
    "data = data[data['edad'] != 0]\n",
    "data[\"edad_años\"] = np.where(data[\"unimed\"] == 1, data[\"edad\"],   # ya está en años\n",
    "                    np.where(data[\"unimed\"] == 2, data[\"edad\"] / 12,  # meses → años\n",
    "                    np.where(data[\"unimed\"] == 3, data[\"edad\"] / 365, # días → años\n",
    "                    np.where(data[\"unimed\"] == 4, data[\"edad\"] / (365*24), # horas\n",
    "                    np.where(data[\"unimed\"] == 5, data[\"edad\"] / (365*24*60), # minutos\n",
    "                    np.where(data[\"unimed\"] == 0, np.nan, \n",
    "                     np.nan))))))  # por si hay otros valores\n",
    "data[\"edad_años\"] = data[\"edad_años\"].round().fillna(-1).astype(int)"
   ]
  },
  {
   "cell_type": "code",
   "execution_count": 8,
   "id": "cd85c563",
   "metadata": {},
   "outputs": [
    {
     "data": {
      "text/plain": [
       "array(['Ancianidad', 'Adolescencia', 'Adulto mayor', 'Infancia', 'Adulto',\n",
       "       'Primera infancia', 'Menor de 1 año'], dtype=object)"
      ]
     },
     "execution_count": 8,
     "metadata": {},
     "output_type": "execute_result"
    }
   ],
   "source": [
    "# [Variable] Ciclo vital a partir de edad en años\n",
    "def ciclo_vital(edad):\n",
    "    if edad < 0:\n",
    "        return \"Desconocido\"\n",
    "    elif edad < 1:\n",
    "        return \"Menor de 1 año\"\n",
    "    elif edad < 5:\n",
    "        return \"Primera infancia\"\n",
    "    elif edad < 10:\n",
    "        return \"Infancia\"\n",
    "    elif edad < 20:\n",
    "        return \"Adolescencia\"\n",
    "    elif edad < 60:\n",
    "        return \"Adulto\"\n",
    "    elif edad < 85:\n",
    "        return \"Adulto mayor\"\n",
    "    else:\n",
    "        return \"Ancianidad\"\n",
    "    \n",
    "data[\"ciclo_vital\"] = data[\"edad_años\"].apply(ciclo_vital)\n",
    "data[\"ciclo_vital\"].unique()"
   ]
  },
  {
   "cell_type": "code",
   "execution_count": 9,
   "id": "8a7ec2bd",
   "metadata": {},
   "outputs": [],
   "source": [
    "# [Mapeo] Variables categóricas\n",
    "mapeo = {\n",
    "    'area' : {1: 'Cabecera municipal' , 2:'Centro poblado', 3:'Rural disperso'}, \n",
    "    'hospitalizado': {1: 'Si', 2: 'No'},\n",
    "    'desenlace': {1: 'Vivo', 2: 'Fallecido'},\n",
    "    'etnia': {1: 'Indigena', 2: 'Rom', 3: 'Raizal', 4: 'Palenquero', 5: 'Negro', 6:'Otro'},\n",
    "    'regimen_salud': {'P': 'Excepción', 'E': 'Especial', 'C': 'Contributivo', 'S': 'Subsidiado', 'N': 'No asegurado', 'I': 'Indeterminado'},\n",
    "    'sexo': {'M': 'Masculino', 'F': 'Femenino'},\n",
    "    'tipo_caso': {2: 'Probable', 3: 'Conf. por laboratorio', 5: 'Conf. por nexo'}\n",
    "}\n",
    "data = data.replace(mapeo)"
   ]
  },
  {
   "cell_type": "code",
   "execution_count": 10,
   "id": "3e8bb675",
   "metadata": {},
   "outputs": [],
   "source": [
    "# [Mapeo] Grupos étnicos\n",
    "mapeo_etnico = {\n",
    "    'Indigena': 'Indígena',\n",
    "    'Negro': 'Afrocolombiano',\n",
    "    'Raizal': 'Afrocolombiano',\n",
    "    'Palenquero': 'Afrocolombiano',\n",
    "    'Rom': 'Rom',\n",
    "    'Otro': 'Otro'\n",
    "}\n",
    "data['grupo_etnico'] = data['etnia'].map(mapeo_etnico)"
   ]
  },
  {
   "cell_type": "code",
   "execution_count": 11,
   "id": "b20b5580",
   "metadata": {},
   "outputs": [
    {
     "data": {
      "text/plain": [
       "array(['ATLÁNTICO'], dtype=object)"
      ]
     },
     "execution_count": 11,
     "metadata": {},
     "output_type": "execute_result"
    }
   ],
   "source": [
    "# [Variable] Departamento\n",
    "data['departamento'] = data[\"departamento\"].str.upper().str.strip()\n",
    "data['departamento'] = data['departamento'].str.replace('_', ' ', regex=False)\n",
    "data['departamento'] = data['departamento'].replace({'ATLANTICO': 'ATLÁNTICO'})\n",
    "data = data[data['departamento'] == \"ATLÁNTICO\"]\n",
    "data['departamento'].unique()"
   ]
  },
  {
   "cell_type": "code",
   "execution_count": 12,
   "id": "e221bf8c",
   "metadata": {},
   "outputs": [
    {
     "data": {
      "text/plain": [
       "array(['BARRANQUILLA', 'SOLEDAD', 'REPELÓN', 'JUAN DE ACOSTA', 'GALAPA',\n",
       "       'USIACURÍ', 'BARANOA', 'POLONUEVO', 'SABANALARGA', 'SABANAGRANDE',\n",
       "       'MALAMBO', 'LURUACO', 'CAMPO DE LA CRUZ', 'SANTO TOMÁS', 'TUBARÁ',\n",
       "       'PONEDERA', 'PUERTO COLOMBIA', 'MANATÍ', 'CANDELARIA',\n",
       "       'PALMAR DE VARELA', 'SUAN', 'PIOJÓ', 'SANTA LUCÍA'], dtype=object)"
      ]
     },
     "execution_count": 12,
     "metadata": {},
     "output_type": "execute_result"
    }
   ],
   "source": [
    "# [Variable] Departamento\n",
    "data['municipio'] = data[\"municipio\"].str.upper().str.strip()\n",
    "data['municipio'] = data['municipio'].str.replace('_', ' ', regex=False)\n",
    "\n",
    "muni = {\n",
    "    'REPELON': 'REPELÓN',\n",
    "    'USIACURI': 'USIACURÍ',\n",
    "    'REPELON': 'REPELÓN', \n",
    "    'SANTO TOMAS': 'SANTO TOMÁS', \n",
    "    'TUBARA': 'TUBARÁ',\n",
    "    '* ATLANTICO. MUNICIPIO DESCONO': 'DESCONOCIDO',\n",
    "    'MANATI': 'MANATÍ',\n",
    "    'POLO NUEVO': 'POLONUEVO',\n",
    "    'PIOJO': 'PIOJÓ',\n",
    "    'SANTA LUCIA': 'SANTA LUCÍA'\n",
    "}\n",
    "\n",
    "data['municipio'] = data['municipio'].replace(muni)\n",
    "data = data[data['municipio'] != \"DESCONOCIDO\"]\n",
    "data['municipio'].unique()"
   ]
  },
  {
   "cell_type": "code",
   "execution_count": 13,
   "id": "67420707",
   "metadata": {},
   "outputs": [],
   "source": [
    "def obtener_subregion(mun):\n",
    "    if mun in ['BARRANQUILLA', 'GALAPA', 'MALAMBO', 'SOLEDAD', 'PUERTO COLOMBIA']:\n",
    "        return 'Metropolitana'\n",
    "    elif mun in ['PALMAR DE VARELA', 'PONEDERA', 'SANTO TOMÁS', 'SABANAGRANDE']:\n",
    "        return 'Oriental'\n",
    "    elif mun in ['CAMPO DE LA CRUZ', 'CANDELARIA', 'SANTA LUCÍA', 'SUAN', 'REPELÓN', 'MANATÍ']:\n",
    "        return 'Sur'\n",
    "    elif mun in ['BARANOA', 'POLONUEVO', 'LURUACO', 'USIACURÍ', 'SABANALARGA']:\n",
    "        return 'Centro'\n",
    "    elif mun in ['JUAN DE ACOSTA', 'PIOJÓ', 'TUBARÁ']:\n",
    "        return 'Costera'\n",
    "    else:\n",
    "        return 'Desconocida'\n",
    "\n",
    "\n",
    "# Aplicamos la función\n",
    "data['subregion'] = data['municipio'].apply(obtener_subregion)"
   ]
  },
  {
   "cell_type": "code",
   "execution_count": 14,
   "id": "bf0c68bc",
   "metadata": {},
   "outputs": [],
   "source": [
    "# [Variable] Periodo epidemiológico (4 semanas)\n",
    "def asignar_periodo(semana):\n",
    "    \"\"\"\n",
    "    Calcula el número de periodo según la semana epidemiológica.\n",
    "    Cada periodo abarca 4 semanas. \n",
    "    La semana 53 se incluye en el último periodo.\n",
    "    \"\"\"\n",
    "    if pd.isna(semana):\n",
    "        return np.nan\n",
    "    semana = int(semana)\n",
    "    periodo = int(np.ceil(semana / 4))\n",
    "    if semana == 53:  # Semana extra del año\n",
    "        periodo = int(np.ceil(52 / 4))  # igual al último periodo\n",
    "    return periodo\n",
    "\n",
    "# Aplicar al dataframe\n",
    "data[\"periodo\"] = data[\"semana\"].apply(asignar_periodo)"
   ]
  },
  {
   "cell_type": "code",
   "execution_count": 15,
   "id": "7ba1ec0d",
   "metadata": {},
   "outputs": [
    {
     "name": "stdout",
     "output_type": "stream",
     "text": [
      "🔍 Filas duplicadas: 91\n"
     ]
    }
   ],
   "source": [
    "duplicados = data[data.duplicated()]\n",
    "print(f\"🔍 Filas duplicadas: {len(duplicados)}\")"
   ]
  },
  {
   "cell_type": "code",
   "execution_count": 16,
   "id": "6b1d0fbf",
   "metadata": {},
   "outputs": [
    {
     "data": {
      "text/plain": [
       "Index(['area', 'año', 'cod_dep', 'cod_mun', 'departamento', 'desenlace',\n",
       "       'edad', 'etnia', 'evento', 'fecha_consulta', 'fecha_hospital',\n",
       "       'fecha_ini_sint', 'fecha_notific', 'hospitalizado', 'municipio',\n",
       "       'regimen_salud', 'semana', 'sexo', 'tipo_caso', 'unimed', 'edad_años',\n",
       "       'ciclo_vital', 'grupo_etnico', 'subregion', 'periodo'],\n",
       "      dtype='object')"
      ]
     },
     "execution_count": 16,
     "metadata": {},
     "output_type": "execute_result"
    }
   ],
   "source": [
    "data.columns"
   ]
  },
  {
   "cell_type": "code",
   "execution_count": 17,
   "id": "d3703059",
   "metadata": {},
   "outputs": [],
   "source": [
    "# Descartar variables originales ya transformadas\n",
    "data = data.drop(columns=['edad', 'unimed', 'edad_años', 'etnia', 'departamento'])"
   ]
  },
  {
   "cell_type": "code",
   "execution_count": 18,
   "id": "0be6985b",
   "metadata": {},
   "outputs": [],
   "source": [
    "# [Data] Estructuración por temática\n",
    "\n",
    "    # Variables demográficas\n",
    "demograficas = [\n",
    "    \"sexo\",                    # M/F\n",
    "    \"edad_años\",               # Edad numérica\n",
    "    \"ciclo_vital\",             # Etapa de vida\n",
    "    \"grupo_etnico\",            # Grupo étnico declarado\n",
    "    \"regimen_salud\"            # Régimen (contributivo, subsidiado, etc.)\n",
    "]\n",
    "\n",
    "    # Variables del evento epidemiológico\n",
    "evento = [\n",
    "    \"evento\",                  # Clásico, grave\n",
    "    \"tipo_caso\",               # Confirmado, probable, descartado\n",
    "    \"hospitalizado\",            # Sí/No\n",
    "    \"desenlace\"                # Recuperado, fallecido, etc.\n",
    "]\n",
    "'fecha_consulta', 'fecha_hospital', 'fecha_ini_sint', 'fecha_notific',\n",
    "    # Variables de temporalidad\n",
    "temporalidad = [\n",
    "    \"año\",                      # Año del evento\n",
    "    \"semana\",                   # Semana epidemiológica\n",
    "    \"periodo\",                  # Periodo (cada 4 semanas)\n",
    "    \"fecha_ini_sint\",           # Inicio de síntomas\n",
    "    \"fecha_consulta\",           # Fecha de consulta\n",
    "    \"fecha_hospital\",           # Fecha de hospitalización\n",
    "    \"fecha_notific\",            # Fecha de notificación\n",
    "]\n",
    "\n",
    "    # Variables espaciales\n",
    "espacial = [\n",
    "    \"municipio\",                # Municipio de ocurrencia\n",
    "    \"subregion\",                # Subregion del Atlántico\n",
    "    \"area\",                     # Urbana o rural\n",
    "]\n",
    "\n",
    "orden_columnas = demograficas + evento + temporalidad + espacial\n",
    "cols_existentes = [col for col in orden_columnas if col in data.columns]\n",
    "data = data[cols_existentes + [col for col in data.columns if col not in cols_existentes]]"
   ]
  },
  {
   "cell_type": "code",
   "execution_count": 19,
   "id": "7be07f81",
   "metadata": {},
   "outputs": [
    {
     "data": {
      "text/plain": [
       "(32533, 20)"
      ]
     },
     "execution_count": 19,
     "metadata": {},
     "output_type": "execute_result"
    }
   ],
   "source": [
    "# DataFrame final\n",
    "data.shape"
   ]
  },
  {
   "cell_type": "code",
   "execution_count": 20,
   "id": "32e1f881",
   "metadata": {},
   "outputs": [
    {
     "name": "stdout",
     "output_type": "stream",
     "text": [
      "<class 'pandas.core.frame.DataFrame'>\n",
      "Index: 12888 entries, 7 to 30018\n",
      "Data columns (total 20 columns):\n",
      " #   Column          Non-Null Count  Dtype \n",
      "---  ------          --------------  ----- \n",
      " 0   sexo            12888 non-null  object\n",
      " 1   ciclo_vital     12888 non-null  object\n",
      " 2   grupo_etnico    12888 non-null  object\n",
      " 3   regimen_salud   12888 non-null  object\n",
      " 4   evento          12888 non-null  object\n",
      " 5   tipo_caso       12888 non-null  object\n",
      " 6   hospitalizado   12888 non-null  object\n",
      " 7   desenlace       12888 non-null  object\n",
      " 8   año             12888 non-null  int64 \n",
      " 9   semana          12888 non-null  int64 \n",
      " 10  periodo         12888 non-null  int64 \n",
      " 11  fecha_ini_sint  12888 non-null  object\n",
      " 12  fecha_consulta  12888 non-null  object\n",
      " 13  fecha_hospital  12888 non-null  object\n",
      " 14  fecha_notific   12888 non-null  object\n",
      " 15  municipio       12888 non-null  object\n",
      " 16  subregion       12888 non-null  object\n",
      " 17  area            12888 non-null  object\n",
      " 18  cod_dep         12888 non-null  int64 \n",
      " 19  cod_mun         12888 non-null  int64 \n",
      "dtypes: int64(5), object(15)\n",
      "memory usage: 2.1+ MB\n"
     ]
    }
   ],
   "source": [
    "df_atl = data[data['municipio'] != \"BARRANQUILLA\"]\n",
    "df_atl.info()"
   ]
  },
  {
   "cell_type": "code",
   "execution_count": 21,
   "id": "e49cd3fb",
   "metadata": {},
   "outputs": [],
   "source": [
    "df_atl.to_csv(r\"C:\\Users\\Hp\\DENGUE\\DATA\\Data_Atlantico.csv\", index=False, encoding='utf-8')"
   ]
  }
 ],
 "metadata": {
  "kernelspec": {
   "display_name": "dengue",
   "language": "python",
   "name": "python3"
  },
  "language_info": {
   "codemirror_mode": {
    "name": "ipython",
    "version": 3
   },
   "file_extension": ".py",
   "mimetype": "text/x-python",
   "name": "python",
   "nbconvert_exporter": "python",
   "pygments_lexer": "ipython3",
   "version": "3.12.11"
  }
 },
 "nbformat": 4,
 "nbformat_minor": 5
}
