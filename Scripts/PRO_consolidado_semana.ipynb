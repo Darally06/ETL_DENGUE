{
 "cells": [
  {
   "cell_type": "markdown",
   "id": "400ac499",
   "metadata": {},
   "source": [
    "# **PRO - Consolidado por semana**"
   ]
  },
  {
   "cell_type": "code",
   "execution_count": 19,
   "id": "72b06818",
   "metadata": {},
   "outputs": [],
   "source": [
    "import pandas as pd\n",
    "import numpy as np\n",
    "import re"
   ]
  },
  {
   "cell_type": "code",
   "execution_count": 20,
   "id": "4a876a78",
   "metadata": {},
   "outputs": [],
   "source": [
    "data_col = pd.read_csv(r\"C:\\Users\\Hp\\DENGUE\\DATA\\Data_Colombia.csv\")\n",
    "data_atl = pd.read_csv(r\"C:\\Users\\Hp\\DENGUE\\DATA\\Data_Atlantico.csv\")\n",
    "data_bqui= pd.read_csv(r\"C:\\Users\\Hp\\DENGUE\\DATA\\Data_Barranquilla.csv\")"
   ]
  },
  {
   "cell_type": "code",
   "execution_count": 21,
   "id": "2c54fda8",
   "metadata": {},
   "outputs": [],
   "source": [
    "\n",
    "def resumen_por_semana(df):\n",
    "    # columnas a ignorar\n",
    "    ignorar = ['edad_años', 'periodo', 'fecha_inicio_sintomas', 'fecha_consulta',\n",
    "               'fecha_hospitalizacion', 'fecha_notificacion', 'fecha_nacimiento', 'año', 'semana',\n",
    "               'direccion', 'localidad', 'barrio', 'periodo']\n",
    "    \n",
    "    # seleccionar solo columnas categóricas relevantes\n",
    "    cols_cat = [c for c in df.columns if c not in ignorar]\n",
    "    \n",
    "    # combinar año y semana en una sola columna\n",
    "    df['año_semana'] = df['año'].astype(str) + '_' + df['semana'].astype(str)\n",
    "    \n",
    "    resultados = []\n",
    "    \n",
    "    # para cada columna categórica (excepto año y semana)\n",
    "    for col in cols_cat:\n",
    "        if col not in ['año', 'semana']:\n",
    "            conteo = df.groupby(['año_semana', col]).size().unstack(fill_value=0)\n",
    "            resultados.append(conteo)\n",
    "    \n",
    "    # unir todos los conteos\n",
    "    resumen = pd.concat(resultados, axis=1)\n",
    "    \n",
    "    # resetear el índice\n",
    "    resumen = resumen.reset_index().fillna(0)\n",
    "    resumen[['año', 'semana']] = resumen['año_semana'].str.split('_', expand=True).astype(int)\n",
    "    resumen = resumen.sort_values(by=['año', 'semana']).reset_index(drop=True)\n",
    "    resumen['año_semana'] = resumen['año'].astype(str) + '_' + resumen['semana'].astype(str)\n",
    "\n",
    "    \n",
    "    return resumen\n"
   ]
  },
  {
   "cell_type": "code",
   "execution_count": 22,
   "id": "bfda3f07",
   "metadata": {},
   "outputs": [],
   "source": [
    "consolidado_atl = resumen_por_semana(data_atl)\n",
    "consolidado_col = resumen_por_semana(data_col)\n",
    "consolidado_bquilla = resumen_por_semana(data_bqui)\n"
   ]
  },
  {
   "cell_type": "code",
   "execution_count": 23,
   "id": "157a7fad",
   "metadata": {},
   "outputs": [],
   "source": [
    "consolidado_bquilla.to_csv(\"../DATA/Resumen/consolidado_barranquilla.csv\")\n",
    "consolidado_atl.to_csv(\"../DATA/Resumen/consolidado_atlantico.csv\")\n",
    "consolidado_col.to_csv(\"../DATA/Resumen/consolidado_colombia.csv\")"
   ]
  }
 ],
 "metadata": {
  "kernelspec": {
   "display_name": "dengue",
   "language": "python",
   "name": "python3"
  },
  "language_info": {
   "codemirror_mode": {
    "name": "ipython",
    "version": 3
   },
   "file_extension": ".py",
   "mimetype": "text/x-python",
   "name": "python",
   "nbconvert_exporter": "python",
   "pygments_lexer": "ipython3",
   "version": "3.12.11"
  }
 },
 "nbformat": 4,
 "nbformat_minor": 5
}
