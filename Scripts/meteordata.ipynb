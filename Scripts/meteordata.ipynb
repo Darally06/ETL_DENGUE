{
 "cells": [
  {
   "cell_type": "code",
   "execution_count": 4,
   "id": "0be5d29c",
   "metadata": {},
   "outputs": [
    {
     "name": "stdout",
     "output_type": "stream",
     "text": [
      "<class 'pandas.core.frame.DataFrame'>\n",
      "RangeIndex: 14417 entries, 0 to 14416\n",
      "Data columns (total 8 columns):\n",
      " #   Column                    Non-Null Count  Dtype  \n",
      "---  ------                    --------------  -----  \n",
      " 0   CodigoEstacion            14417 non-null  int64  \n",
      " 1   NombreEstacion            14417 non-null  object \n",
      " 2   Fecha                     14417 non-null  object \n",
      " 3   Humedad relativa maxima   2418 non-null   float64\n",
      " 4   Humendad relativa minima  2418 non-null   float64\n",
      " 5   Precipitacion             12411 non-null  float64\n",
      " 6   Temperatura maxima        3677 non-null   float64\n",
      " 7   Temperatura minima        4520 non-null   float64\n",
      "dtypes: float64(5), int64(1), object(2)\n",
      "memory usage: 901.2+ KB\n"
     ]
    }
   ],
   "source": [
    "import pandas as pd\n",
    "\n",
    "df = pd.read_csv(r\"C:\\Users\\Hp\\DENGUE\\Data\\dengue_data\\clima_atl_wide.csv\")\n",
    "df.info()"
   ]
  },
  {
   "cell_type": "code",
   "execution_count": 5,
   "id": "7d15416a",
   "metadata": {},
   "outputs": [
    {
     "data": {
      "text/plain": [
       "NombreEstacion\n",
       "BARRANQUILLA SEDE [29040450]                2557\n",
       "NORMAL MANATI - AUT [29035080]              2492\n",
       "JUAN DE ACOSTA [29045110]                   2464\n",
       "HIBACHARO [14010020]                         872\n",
       "AEROPUERTO E. CORTISSOZ - AUT [29045190]     779\n",
       "CAMPANOS LOS [29040290]                      739\n",
       "CAMPO DE LA CRUZ [29040250]                  702\n",
       "LOMA GRANDE [29030270]                       590\n",
       "MONTEBELLO [29040020]                        536\n",
       "LEÑA [29040200]                              533\n",
       "PIOJO [14010010]                             521\n",
       "CANDELARIA [29040260]                        518\n",
       "PINTADA LA [14010100]                        431\n",
       "CASA DE BOMBAS [29030410]                    422\n",
       "POLONUEVO [29040080]                         261\n",
       "Name: count, dtype: int64"
      ]
     },
     "execution_count": 5,
     "metadata": {},
     "output_type": "execute_result"
    }
   ],
   "source": [
    "df['NombreEstacion'].value_counts()"
   ]
  },
  {
   "cell_type": "code",
   "execution_count": 6,
   "id": "516649d3",
   "metadata": {},
   "outputs": [],
   "source": [
    "\n",
    "import pandas as pd\n",
    "\n",
    "# Tu dataframe original (ejemplo)\n",
    "# df = pd.read_csv(\"tu_archivo.csv\")\n",
    "\n",
    "# -----------------------------\n",
    "# 1. Crear DataFrame con lat/long/alt\n",
    "# -----------------------------\n",
    "data = [\n",
    "    [\"BARRANQUILLA SEDE\", 10.99, -74.796, 12],\n",
    "    [\"NORMAL MANATI - AUT\", 10.45, -74.95, 10],\n",
    "    [\"JUAN DE ACOSTA\", 10.83, -75.05, 20],\n",
    "    [\"HIBACHARO\", 10.72, -75.14, 80],\n",
    "    [\"AEROPUERTO E. CORTISSOZ - AUT\", 10.91, -74.77, 14],\n",
    "    [\"CAMPANOS LOS\", 10.56, -74.97, 100],\n",
    "    [\"CAMPO DE LA CRUZ\", 10.38, -74.89, 4],\n",
    "    [\"LOMA GRANDE\", 10.43, -75.13, 15],\n",
    "    [\"MONTEBELLO\", 10.71, -74.91, 100],\n",
    "    [\"LEÑA\", 10.52, -74.89, 45],\n",
    "    [\"PIOJO\", 10.75, -75.11, 320],\n",
    "    [\"CANDELARIA\", 10.46, -74.89, 4],\n",
    "    [\"PINTADA LA\", 10.96, -75.00, 200],\n",
    "    [\"CASA DE BOMBAS\", 10.41, -75.13, 10],\n",
    "    [\"POLONUEVO\", 10.77, -74.85, 80]\n",
    "]\n",
    "\n",
    "geo = pd.DataFrame(data, columns=[\"NombreLimpio\", \"Latitud\", \"Longitud\", \"Altitud\"])\n",
    "\n",
    "# -----------------------------\n",
    "# 2. Limpiar nombres en tu df\n",
    "# (quitar lo que está entre corchetes)\n",
    "# -----------------------------\n",
    "df[\"NombreLimpio\"] = df[\"NombreEstacion\"].str.replace(r\"\\s*\\[.*\\]\", \"\", regex=True).str.strip()\n",
    "\n",
    "\n"
   ]
  },
  {
   "cell_type": "code",
   "execution_count": 7,
   "id": "16e988fd",
   "metadata": {},
   "outputs": [
    {
     "name": "stdout",
     "output_type": "stream",
     "text": [
      "                             NombreEstacion  Latitud  Longitud  Altitud\n",
      "0            NORMAL MANATI - AUT [29035080]    10.45   -74.950       10\n",
      "1  AEROPUERTO E. CORTISSOZ - AUT [29045190]    10.91   -74.770       14\n",
      "2              BARRANQUILLA SEDE [29040450]    10.99   -74.796       12\n",
      "3                 JUAN DE ACOSTA [29045110]    10.83   -75.050       20\n",
      "4  AEROPUERTO E. CORTISSOZ - AUT [29045190]    10.91   -74.770       14\n"
     ]
    }
   ],
   "source": [
    "# -----------------------------\n",
    "# 3. Hacer merge\n",
    "# -----------------------------\n",
    "df = df.merge(geo, on=\"NombreLimpio\", how=\"left\")\n",
    "\n",
    "# -----------------------------\n",
    "# 4. Revisar resultado\n",
    "# -----------------------------\n",
    "print(df[[\"NombreEstacion\", \"Latitud\", \"Longitud\", \"Altitud\"]].head())\n"
   ]
  },
  {
   "cell_type": "code",
   "execution_count": 8,
   "id": "d6906459",
   "metadata": {},
   "outputs": [
    {
     "data": {
      "text/html": [
       "<div>\n",
       "<style scoped>\n",
       "    .dataframe tbody tr th:only-of-type {\n",
       "        vertical-align: middle;\n",
       "    }\n",
       "\n",
       "    .dataframe tbody tr th {\n",
       "        vertical-align: top;\n",
       "    }\n",
       "\n",
       "    .dataframe thead th {\n",
       "        text-align: right;\n",
       "    }\n",
       "</style>\n",
       "<table border=\"1\" class=\"dataframe\">\n",
       "  <thead>\n",
       "    <tr style=\"text-align: right;\">\n",
       "      <th></th>\n",
       "      <th>CodigoEstacion</th>\n",
       "      <th>NombreEstacion</th>\n",
       "      <th>Fecha</th>\n",
       "      <th>Humedad relativa maxima</th>\n",
       "      <th>Humendad relativa minima</th>\n",
       "      <th>Precipitacion</th>\n",
       "      <th>Temperatura maxima</th>\n",
       "      <th>Temperatura minima</th>\n",
       "      <th>NombreLimpio</th>\n",
       "      <th>Latitud</th>\n",
       "      <th>Longitud</th>\n",
       "      <th>Altitud</th>\n",
       "    </tr>\n",
       "  </thead>\n",
       "  <tbody>\n",
       "    <tr>\n",
       "      <th>0</th>\n",
       "      <td>29035080</td>\n",
       "      <td>NORMAL MANATI - AUT [29035080]</td>\n",
       "      <td>31/12/2016</td>\n",
       "      <td>NaN</td>\n",
       "      <td>NaN</td>\n",
       "      <td>NaN</td>\n",
       "      <td>34.0</td>\n",
       "      <td>24.2</td>\n",
       "      <td>NORMAL MANATI - AUT</td>\n",
       "      <td>10.45</td>\n",
       "      <td>-74.950</td>\n",
       "      <td>10</td>\n",
       "    </tr>\n",
       "    <tr>\n",
       "      <th>1</th>\n",
       "      <td>29045190</td>\n",
       "      <td>AEROPUERTO E. CORTISSOZ - AUT [29045190]</td>\n",
       "      <td>31/12/2016</td>\n",
       "      <td>NaN</td>\n",
       "      <td>NaN</td>\n",
       "      <td>0.0</td>\n",
       "      <td>NaN</td>\n",
       "      <td>NaN</td>\n",
       "      <td>AEROPUERTO E. CORTISSOZ - AUT</td>\n",
       "      <td>10.91</td>\n",
       "      <td>-74.770</td>\n",
       "      <td>14</td>\n",
       "    </tr>\n",
       "    <tr>\n",
       "      <th>2</th>\n",
       "      <td>29040450</td>\n",
       "      <td>BARRANQUILLA SEDE [29040450]</td>\n",
       "      <td>01/01/2017</td>\n",
       "      <td>NaN</td>\n",
       "      <td>NaN</td>\n",
       "      <td>0.0</td>\n",
       "      <td>NaN</td>\n",
       "      <td>NaN</td>\n",
       "      <td>BARRANQUILLA SEDE</td>\n",
       "      <td>10.99</td>\n",
       "      <td>-74.796</td>\n",
       "      <td>12</td>\n",
       "    </tr>\n",
       "    <tr>\n",
       "      <th>3</th>\n",
       "      <td>29045110</td>\n",
       "      <td>JUAN DE ACOSTA [29045110]</td>\n",
       "      <td>01/01/2017</td>\n",
       "      <td>NaN</td>\n",
       "      <td>NaN</td>\n",
       "      <td>NaN</td>\n",
       "      <td>32.2</td>\n",
       "      <td>23.0</td>\n",
       "      <td>JUAN DE ACOSTA</td>\n",
       "      <td>10.83</td>\n",
       "      <td>-75.050</td>\n",
       "      <td>20</td>\n",
       "    </tr>\n",
       "    <tr>\n",
       "      <th>4</th>\n",
       "      <td>29045190</td>\n",
       "      <td>AEROPUERTO E. CORTISSOZ - AUT [29045190]</td>\n",
       "      <td>01/01/2017</td>\n",
       "      <td>NaN</td>\n",
       "      <td>NaN</td>\n",
       "      <td>0.0</td>\n",
       "      <td>NaN</td>\n",
       "      <td>NaN</td>\n",
       "      <td>AEROPUERTO E. CORTISSOZ - AUT</td>\n",
       "      <td>10.91</td>\n",
       "      <td>-74.770</td>\n",
       "      <td>14</td>\n",
       "    </tr>\n",
       "  </tbody>\n",
       "</table>\n",
       "</div>"
      ],
      "text/plain": [
       "   CodigoEstacion                            NombreEstacion       Fecha  \\\n",
       "0        29035080            NORMAL MANATI - AUT [29035080]  31/12/2016   \n",
       "1        29045190  AEROPUERTO E. CORTISSOZ - AUT [29045190]  31/12/2016   \n",
       "2        29040450              BARRANQUILLA SEDE [29040450]  01/01/2017   \n",
       "3        29045110                 JUAN DE ACOSTA [29045110]  01/01/2017   \n",
       "4        29045190  AEROPUERTO E. CORTISSOZ - AUT [29045190]  01/01/2017   \n",
       "\n",
       "   Humedad relativa maxima  Humendad relativa minima  Precipitacion  \\\n",
       "0                      NaN                       NaN            NaN   \n",
       "1                      NaN                       NaN            0.0   \n",
       "2                      NaN                       NaN            0.0   \n",
       "3                      NaN                       NaN            NaN   \n",
       "4                      NaN                       NaN            0.0   \n",
       "\n",
       "   Temperatura maxima  Temperatura minima                   NombreLimpio  \\\n",
       "0                34.0                24.2            NORMAL MANATI - AUT   \n",
       "1                 NaN                 NaN  AEROPUERTO E. CORTISSOZ - AUT   \n",
       "2                 NaN                 NaN              BARRANQUILLA SEDE   \n",
       "3                32.2                23.0                 JUAN DE ACOSTA   \n",
       "4                 NaN                 NaN  AEROPUERTO E. CORTISSOZ - AUT   \n",
       "\n",
       "   Latitud  Longitud  Altitud  \n",
       "0    10.45   -74.950       10  \n",
       "1    10.91   -74.770       14  \n",
       "2    10.99   -74.796       12  \n",
       "3    10.83   -75.050       20  \n",
       "4    10.91   -74.770       14  "
      ]
     },
     "execution_count": 8,
     "metadata": {},
     "output_type": "execute_result"
    }
   ],
   "source": [
    "df.head()"
   ]
  },
  {
   "cell_type": "code",
   "execution_count": 9,
   "id": "9e1183d4",
   "metadata": {},
   "outputs": [
    {
     "data": {
      "text/plain": [
       "CodigoEstacion                  0\n",
       "NombreEstacion                  0\n",
       "Fecha                           0\n",
       "Humedad relativa maxima     11999\n",
       "Humendad relativa minima    11999\n",
       "Precipitacion                2006\n",
       "Temperatura maxima          10740\n",
       "Temperatura minima           9897\n",
       "NombreLimpio                    0\n",
       "Latitud                         0\n",
       "Longitud                        0\n",
       "Altitud                         0\n",
       "dtype: int64"
      ]
     },
     "execution_count": 9,
     "metadata": {},
     "output_type": "execute_result"
    }
   ],
   "source": [
    "df.isna().sum()"
   ]
  },
  {
   "cell_type": "code",
   "execution_count": 12,
   "id": "c93408d2",
   "metadata": {},
   "outputs": [
    {
     "name": "stdout",
     "output_type": "stream",
     "text": [
      "<class 'pandas.core.frame.DataFrame'>\n",
      "RangeIndex: 14417 entries, 0 to 14416\n",
      "Data columns (total 12 columns):\n",
      " #   Column                    Non-Null Count  Dtype  \n",
      "---  ------                    --------------  -----  \n",
      " 0   CodigoEstacion            14417 non-null  int64  \n",
      " 1   NombreEstacion            14417 non-null  object \n",
      " 2   Fecha                     14417 non-null  object \n",
      " 3   Humedad relativa maxima   2418 non-null   float64\n",
      " 4   Humendad relativa minima  2418 non-null   float64\n",
      " 5   Precipitacion             12411 non-null  float64\n",
      " 6   Temperatura maxima        3677 non-null   float64\n",
      " 7   Temperatura minima        4520 non-null   float64\n",
      " 8   NombreLimpio              14417 non-null  object \n",
      " 9   Latitud                   14417 non-null  float64\n",
      " 10  Longitud                  14417 non-null  float64\n",
      " 11  Altitud                   14417 non-null  int64  \n",
      "dtypes: float64(7), int64(2), object(3)\n",
      "memory usage: 1.3+ MB\n"
     ]
    }
   ],
   "source": [
    "df.info()"
   ]
  },
  {
   "cell_type": "code",
   "execution_count": 10,
   "id": "d4e48bb1",
   "metadata": {},
   "outputs": [
    {
     "data": {
      "text/plain": [
       "NombreLimpio\n",
       "BARRANQUILLA SEDE                2557\n",
       "NORMAL MANATI - AUT              2492\n",
       "JUAN DE ACOSTA                   2464\n",
       "HIBACHARO                         872\n",
       "AEROPUERTO E. CORTISSOZ - AUT     779\n",
       "CAMPANOS LOS                      739\n",
       "CAMPO DE LA CRUZ                  702\n",
       "LOMA GRANDE                       590\n",
       "MONTEBELLO                        536\n",
       "LEÑA                              533\n",
       "PIOJO                             521\n",
       "CANDELARIA                        518\n",
       "PINTADA LA                        431\n",
       "CASA DE BOMBAS                    422\n",
       "POLONUEVO                         261\n",
       "Name: count, dtype: int64"
      ]
     },
     "execution_count": 10,
     "metadata": {},
     "output_type": "execute_result"
    }
   ],
   "source": [
    "df['NombreLimpio'].value_counts()"
   ]
  },
  {
   "cell_type": "code",
   "execution_count": 11,
   "id": "f28ec75f",
   "metadata": {},
   "outputs": [],
   "source": [
    "df.to_csv(\"Climaticas.csv\")"
   ]
  }
 ],
 "metadata": {
  "kernelspec": {
   "display_name": "dengue",
   "language": "python",
   "name": "python3"
  },
  "language_info": {
   "codemirror_mode": {
    "name": "ipython",
    "version": 3
   },
   "file_extension": ".py",
   "mimetype": "text/x-python",
   "name": "python",
   "nbconvert_exporter": "python",
   "pygments_lexer": "ipython3",
   "version": "3.12.11"
  }
 },
 "nbformat": 4,
 "nbformat_minor": 5
}
