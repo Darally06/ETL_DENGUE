{
 "cells": [
  {
   "cell_type": "code",
   "execution_count": 1,
   "id": "a7e12258",
   "metadata": {},
   "outputs": [],
   "source": [
    "import pandas as pd\n",
    "import os\n",
    "import numpy as np"
   ]
  },
  {
   "cell_type": "markdown",
   "id": "2e14ec75",
   "metadata": {},
   "source": [
    "* Cargar archivos"
   ]
  },
  {
   "cell_type": "code",
   "execution_count": 19,
   "id": "0c8cf7a0",
   "metadata": {},
   "outputs": [],
   "source": [
    "# CARGAR ARCHIVOS PARA MANEJO\n",
    "def leer_archivos(ruta): \n",
    "    archivos = [f for f in os.listdir(ruta) if f.endswith(\".csv\")]\n",
    "\n",
    "    dataframes = {}\n",
    "    errores = {}\n",
    "\n",
    "    for archivo in archivos:\n",
    "        path = os.path.join(ruta, archivo)\n",
    "        try:\n",
    "            df = pd.read_csv(path, encoding='latin_1', low_memory=False)\n",
    "            df.columns = df.columns.str.lower()\n",
    "            dataframes[archivo] = df\n",
    "\n",
    "        except Exception as e:\n",
    "            errores[archivo] = str(e)\n",
    "\n",
    "    # Mostrar archivos con errores\n",
    "    if errores:\n",
    "        print(\"\\n⚠️ Archivos con errores al cargar:\")\n",
    "        for archivo, error in errores.items():\n",
    "            print(f\"   ❌ {archivo}: {error}\")\n",
    "    else:\n",
    "        print(\"\\n✅ Todos los archivos se cargaron correctamente.\")\n",
    "    i = 1\n",
    "    for archivo in archivos:\n",
    "        if archivo in dataframes:\n",
    "            print(f\"{i}  📄 {archivo}: {dataframes[archivo].shape[0]} filas, {dataframes[archivo].shape[1]} columnas\") \n",
    "            i += 1\n",
    "    \n",
    "    return dataframes, archivos"
   ]
  },
  {
   "cell_type": "code",
   "execution_count": 20,
   "id": "7a4b6f5c",
   "metadata": {},
   "outputs": [],
   "source": [
    "def comparar_columnas(dataframes):\n",
    "\n",
    "    columnas_info = {}\n",
    "    resultados = {}\n",
    "\n",
    "    # Extraer columnas y tipos\n",
    "    for nombre, df in dataframes.items():\n",
    "        columnas_info[nombre] = {\n",
    "            \"columnas\": list(df.columns),\n",
    "            \"tipos\": df.dtypes.to_dict()\n",
    "        }\n",
    "\n",
    "    # Usar el primer archivo como referencia\n",
    "    referencia = list(dataframes.keys())[2]\n",
    "    cols_ref = set(columnas_info[referencia][\"columnas\"])\n",
    "\n",
    "    for nombre, info in columnas_info.items():\n",
    "        if nombre == referencia:\n",
    "            continue\n",
    "\n",
    "        cols_actual = set(info[\"columnas\"])\n",
    "        comunes = cols_ref.intersection(cols_actual)\n",
    "        distintas = cols_ref.symmetric_difference(cols_actual)\n",
    "\n",
    "        print(f\"\\n📂 Comparando {referencia} vs {nombre}:\")\n",
    "        print(f\"    ✔️ Columnas comunes ({len(comunes)}): {sorted(comunes)}\")\n",
    "        print(f\"    ❌ Columnas distintas ({len(distintas)}): {sorted(distintas)}\")\n",
    "\n",
    "        if len(distintas) == 0:\n",
    "            print(\"     ✅ Las columnas son idénticas\")\n",
    "        else:\n",
    "            print(f\"    🔴 Existen {len(distintas)} variables diferentes\")\n"
   ]
  },
  {
   "cell_type": "code",
   "execution_count": 70,
   "id": "ddfe0561",
   "metadata": {},
   "outputs": [
    {
     "name": "stdout",
     "output_type": "stream",
     "text": [
      "\n",
      "✅ Todos los archivos se cargaron correctamente.\n",
      "1  📄 Dengue y dengue grave 2017.csv: 1214 filas, 31 columnas\n",
      "2  📄 Dengue y dengue grave 2018.csv: 3403 filas, 31 columnas\n",
      "3  📄 Dengue y dengue grave 2019.csv: 4145 filas, 31 columnas\n",
      "4  📄 Dengue y dengue grave 2020.csv: 2722 filas, 31 columnas\n",
      "5  📄 Dengue y dengue grave 2021.csv: 7947 filas, 31 columnas\n",
      "6  📄 Dengue y dengue grave 2022.csv: 10601 filas, 31 columnas\n",
      "7  📄 Dengue y dengue grave 2023.csv: 2466 filas, 29 columnas\n",
      "\n",
      "📂 Comparando Dengue y dengue grave 2019.csv vs Dengue y dengue grave 2017.csv:\n",
      "    ✔️ Columnas comunes (31): ['area', 'año', 'barrio', 'cod_dpto_o', 'cod_mun_o', 'departamento', 'direccion', 'edad', 'fecha_consulta', 'fecha_hospitalizacion', 'fecha_inicio_sintomas', 'fecha_nacimiento', 'fecha_notificacion', 'hospitalizado', 'localidad', 'muerte', 'municipio', 'nombre_evento', 'num_ide_', 'ocupacion_', 'pertencia_etnica', 'pri_ape_', 'pri_nom_', 'regimen_salud', 'seg_ape_', 'seg_nom_', 'semana', 'sexo', 'tip_ide_', 'tipo_de_caso', 'uni_med_']\n",
      "    ❌ Columnas distintas (0): []\n",
      "     ✅ Las columnas son idénticas\n",
      "\n",
      "📂 Comparando Dengue y dengue grave 2019.csv vs Dengue y dengue grave 2018.csv:\n",
      "    ✔️ Columnas comunes (31): ['area', 'año', 'barrio', 'cod_dpto_o', 'cod_mun_o', 'departamento', 'direccion', 'edad', 'fecha_consulta', 'fecha_hospitalizacion', 'fecha_inicio_sintomas', 'fecha_nacimiento', 'fecha_notificacion', 'hospitalizado', 'localidad', 'muerte', 'municipio', 'nombre_evento', 'num_ide_', 'ocupacion_', 'pertencia_etnica', 'pri_ape_', 'pri_nom_', 'regimen_salud', 'seg_ape_', 'seg_nom_', 'semana', 'sexo', 'tip_ide_', 'tipo_de_caso', 'uni_med_']\n",
      "    ❌ Columnas distintas (0): []\n",
      "     ✅ Las columnas son idénticas\n",
      "\n",
      "📂 Comparando Dengue y dengue grave 2019.csv vs Dengue y dengue grave 2020.csv:\n",
      "    ✔️ Columnas comunes (31): ['area', 'año', 'barrio', 'cod_dpto_o', 'cod_mun_o', 'departamento', 'direccion', 'edad', 'fecha_consulta', 'fecha_hospitalizacion', 'fecha_inicio_sintomas', 'fecha_nacimiento', 'fecha_notificacion', 'hospitalizado', 'localidad', 'muerte', 'municipio', 'nombre_evento', 'num_ide_', 'ocupacion_', 'pertencia_etnica', 'pri_ape_', 'pri_nom_', 'regimen_salud', 'seg_ape_', 'seg_nom_', 'semana', 'sexo', 'tip_ide_', 'tipo_de_caso', 'uni_med_']\n",
      "    ❌ Columnas distintas (0): []\n",
      "     ✅ Las columnas son idénticas\n",
      "\n",
      "📂 Comparando Dengue y dengue grave 2019.csv vs Dengue y dengue grave 2021.csv:\n",
      "    ✔️ Columnas comunes (31): ['area', 'año', 'barrio', 'cod_dpto_o', 'cod_mun_o', 'departamento', 'direccion', 'edad', 'fecha_consulta', 'fecha_hospitalizacion', 'fecha_inicio_sintomas', 'fecha_nacimiento', 'fecha_notificacion', 'hospitalizado', 'localidad', 'muerte', 'municipio', 'nombre_evento', 'num_ide_', 'ocupacion_', 'pertencia_etnica', 'pri_ape_', 'pri_nom_', 'regimen_salud', 'seg_ape_', 'seg_nom_', 'semana', 'sexo', 'tip_ide_', 'tipo_de_caso', 'uni_med_']\n",
      "    ❌ Columnas distintas (0): []\n",
      "     ✅ Las columnas son idénticas\n",
      "\n",
      "📂 Comparando Dengue y dengue grave 2019.csv vs Dengue y dengue grave 2022.csv:\n",
      "    ✔️ Columnas comunes (31): ['area', 'año', 'barrio', 'cod_dpto_o', 'cod_mun_o', 'departamento', 'direccion', 'edad', 'fecha_consulta', 'fecha_hospitalizacion', 'fecha_inicio_sintomas', 'fecha_nacimiento', 'fecha_notificacion', 'hospitalizado', 'localidad', 'muerte', 'municipio', 'nombre_evento', 'num_ide_', 'ocupacion_', 'pertencia_etnica', 'pri_ape_', 'pri_nom_', 'regimen_salud', 'seg_ape_', 'seg_nom_', 'semana', 'sexo', 'tip_ide_', 'tipo_de_caso', 'uni_med_']\n",
      "    ❌ Columnas distintas (0): []\n",
      "     ✅ Las columnas son idénticas\n",
      "\n",
      "📂 Comparando Dengue y dengue grave 2019.csv vs Dengue y dengue grave 2023.csv:\n",
      "    ✔️ Columnas comunes (29): ['area', 'año', 'barrio', 'departamento', 'direccion', 'edad', 'fecha_consulta', 'fecha_hospitalizacion', 'fecha_inicio_sintomas', 'fecha_nacimiento', 'fecha_notificacion', 'hospitalizado', 'localidad', 'muerte', 'municipio', 'nombre_evento', 'num_ide_', 'ocupacion_', 'pertencia_etnica', 'pri_ape_', 'pri_nom_', 'regimen_salud', 'seg_ape_', 'seg_nom_', 'semana', 'sexo', 'tip_ide_', 'tipo_de_caso', 'uni_med_']\n",
      "    ❌ Columnas distintas (2): ['cod_dpto_o', 'cod_mun_o']\n",
      "    🔴 Existen 2 variables diferentes\n"
     ]
    }
   ],
   "source": [
    "ruta = r\"C:\\Users\\Hp\\DENGUE\\Data\\raw_data\\Atlantico\"\n",
    "dataframes, archivos = leer_archivos(ruta)\n",
    "comparar_columnas(dataframes)"
   ]
  },
  {
   "cell_type": "code",
   "execution_count": 57,
   "id": "0f0a9683",
   "metadata": {},
   "outputs": [],
   "source": [
    "# Listado de renombramientos iniciales\n",
    "changes = {\n",
    "    'area_': 'area',\n",
    "    'bar_ver_': 'barrio',\n",
    "    'con_fin_': 'muerte',\n",
    "    'dir_res_': 'direccion',\n",
    "    'edad_': 'edad',\n",
    "    'fec_con_': 'fecha_consulta',\n",
    "    'fec_hos_': 'fecha_hospitalizacion', \n",
    "    'fec_not': 'fecha_notificacion',\n",
    "    'fecha_nto_': 'fecha_nacimiento',\n",
    "    'ini_sin_': 'fecha_inicio_sintomas',\n",
    "    'localidad_': 'localidad', \n",
    "    'ndep_proce': 'departamento',\n",
    "    'nmun_proce': 'municipio',\n",
    "    'nom_eve': 'nombre_evento',\n",
    "    'pac_hos_': 'hospitalizado',\n",
    "    'per_etn_': 'pertencia_etnica',\n",
    "    'sexo_': 'sexo',\n",
    "    'tip_cas_': 'tipo_de_caso', \n",
    "    'tip_ss_': 'regimen_salud'\n",
    "}\n",
    "  "
   ]
  },
  {
   "cell_type": "code",
   "execution_count": 58,
   "id": "2b9a72f5",
   "metadata": {},
   "outputs": [
    {
     "name": "stdout",
     "output_type": "stream",
     "text": [
      "✔️ Dengue y dengue grave 2017.csv: columnas renombradas → []\n",
      "✔️ Dengue y dengue grave 2018.csv: columnas renombradas → []\n",
      "✔️ Dengue y dengue grave 2019.csv: columnas renombradas → []\n",
      "✔️ Dengue y dengue grave 2020.csv: columnas renombradas → []\n",
      "✔️ Dengue y dengue grave 2021.csv: columnas renombradas → []\n",
      "✔️ Dengue y dengue grave 2022.csv: columnas renombradas → []\n",
      "✔️ Dengue y dengue grave 2023.csv: columnas renombradas → ['nom_eve', 'fec_not', 'edad_', 'sexo_', 'ndep_proce', 'nmun_proce', 'area_', 'localidad_', 'bar_ver_', 'dir_res_', 'tip_ss_', 'per_etn_', 'fec_con_', 'ini_sin_', 'tip_cas_', 'pac_hos_', 'fec_hos_', 'con_fin_', 'fecha_nto_']\n",
      "\n",
      "✅ Renombrado completado. Archivos editados directamente.\n"
     ]
    }
   ],
   "source": [
    "# Renombrar \n",
    "log_renombrado = {}\n",
    "\n",
    "for archivo in archivos:\n",
    "    path = os.path.join(ruta, archivo)\n",
    "    try:\n",
    "        df = pd.read_csv(path, encoding='latin_1', low_memory=False)\n",
    "        dataframes[archivo] = df\n",
    "        df.columns = df.columns.str.lower()\n",
    "        # Detectar columnas que se pueden renombrar\n",
    "        columnas_presentes = df.columns.intersection(changes.keys())\n",
    "        cambios_aplicados = {col: changes[col] for col in columnas_presentes}\n",
    "\n",
    "        # Renombrar columnas\n",
    "        df = df.rename(columns=cambios_aplicados)\n",
    "\n",
    "        # Guardar el archivo sobrescrito\n",
    "        df.to_csv(path, index=False, encoding='latin1')\n",
    "\n",
    "        # Registrar cambios\n",
    "        log_renombrado[archivo] = cambios_aplicados\n",
    "\n",
    "        print(f\"✔️ {archivo}: columnas renombradas → {list(cambios_aplicados.keys())}\")\n",
    "\n",
    "    except Exception as e:\n",
    "        print(f\"❌ Error en {archivo}: {e}\")\n",
    "        log_renombrado[archivo] = f\"Error: {str(e)}\"\n",
    "\n",
    "print(\"\\n✅ Renombrado completado. Archivos editados directamente.\")\n"
   ]
  },
  {
   "cell_type": "code",
   "execution_count": 59,
   "id": "acdcac40",
   "metadata": {},
   "outputs": [
    {
     "name": "stdout",
     "output_type": "stream",
     "text": [
      "\n",
      "✅ Todos los archivos se cargaron correctamente.\n",
      "1  📄 Dengue y dengue grave 2017.csv: 1214 filas, 31 columnas\n",
      "2  📄 Dengue y dengue grave 2018.csv: 3403 filas, 31 columnas\n",
      "3  📄 Dengue y dengue grave 2019.csv: 4145 filas, 31 columnas\n",
      "4  📄 Dengue y dengue grave 2020.csv: 2722 filas, 31 columnas\n",
      "5  📄 Dengue y dengue grave 2021.csv: 7947 filas, 31 columnas\n",
      "6  📄 Dengue y dengue grave 2022.csv: 10601 filas, 31 columnas\n",
      "7  📄 Dengue y dengue grave 2023.csv: 6682 filas, 134 columnas\n",
      "\n",
      "📂 Comparando Dengue y dengue grave 2019.csv vs Dengue y dengue grave 2017.csv:\n",
      "    ✔️ Columnas comunes (31): ['area', 'año', 'barrio', 'cod_dpto_o', 'cod_mun_o', 'departamento', 'direccion', 'edad', 'fecha_consulta', 'fecha_hospitalizacion', 'fecha_inicio_sintomas', 'fecha_nacimiento', 'fecha_notificacion', 'hospitalizado', 'localidad', 'muerte', 'municipio', 'nombre_evento', 'num_ide_', 'ocupacion_', 'pertencia_etnica', 'pri_ape_', 'pri_nom_', 'regimen_salud', 'seg_ape_', 'seg_nom_', 'semana', 'sexo', 'tip_ide_', 'tipo_de_caso', 'uni_med_']\n",
      "    ❌ Columnas distintas (0): []\n",
      "     ✅ Las columnas son idénticas\n",
      "\n",
      "📂 Comparando Dengue y dengue grave 2019.csv vs Dengue y dengue grave 2018.csv:\n",
      "    ✔️ Columnas comunes (31): ['area', 'año', 'barrio', 'cod_dpto_o', 'cod_mun_o', 'departamento', 'direccion', 'edad', 'fecha_consulta', 'fecha_hospitalizacion', 'fecha_inicio_sintomas', 'fecha_nacimiento', 'fecha_notificacion', 'hospitalizado', 'localidad', 'muerte', 'municipio', 'nombre_evento', 'num_ide_', 'ocupacion_', 'pertencia_etnica', 'pri_ape_', 'pri_nom_', 'regimen_salud', 'seg_ape_', 'seg_nom_', 'semana', 'sexo', 'tip_ide_', 'tipo_de_caso', 'uni_med_']\n",
      "    ❌ Columnas distintas (0): []\n",
      "     ✅ Las columnas son idénticas\n",
      "\n",
      "📂 Comparando Dengue y dengue grave 2019.csv vs Dengue y dengue grave 2020.csv:\n",
      "    ✔️ Columnas comunes (31): ['area', 'año', 'barrio', 'cod_dpto_o', 'cod_mun_o', 'departamento', 'direccion', 'edad', 'fecha_consulta', 'fecha_hospitalizacion', 'fecha_inicio_sintomas', 'fecha_nacimiento', 'fecha_notificacion', 'hospitalizado', 'localidad', 'muerte', 'municipio', 'nombre_evento', 'num_ide_', 'ocupacion_', 'pertencia_etnica', 'pri_ape_', 'pri_nom_', 'regimen_salud', 'seg_ape_', 'seg_nom_', 'semana', 'sexo', 'tip_ide_', 'tipo_de_caso', 'uni_med_']\n",
      "    ❌ Columnas distintas (0): []\n",
      "     ✅ Las columnas son idénticas\n",
      "\n",
      "📂 Comparando Dengue y dengue grave 2019.csv vs Dengue y dengue grave 2021.csv:\n",
      "    ✔️ Columnas comunes (31): ['area', 'año', 'barrio', 'cod_dpto_o', 'cod_mun_o', 'departamento', 'direccion', 'edad', 'fecha_consulta', 'fecha_hospitalizacion', 'fecha_inicio_sintomas', 'fecha_nacimiento', 'fecha_notificacion', 'hospitalizado', 'localidad', 'muerte', 'municipio', 'nombre_evento', 'num_ide_', 'ocupacion_', 'pertencia_etnica', 'pri_ape_', 'pri_nom_', 'regimen_salud', 'seg_ape_', 'seg_nom_', 'semana', 'sexo', 'tip_ide_', 'tipo_de_caso', 'uni_med_']\n",
      "    ❌ Columnas distintas (0): []\n",
      "     ✅ Las columnas son idénticas\n",
      "\n",
      "📂 Comparando Dengue y dengue grave 2019.csv vs Dengue y dengue grave 2022.csv:\n",
      "    ✔️ Columnas comunes (31): ['area', 'año', 'barrio', 'cod_dpto_o', 'cod_mun_o', 'departamento', 'direccion', 'edad', 'fecha_consulta', 'fecha_hospitalizacion', 'fecha_inicio_sintomas', 'fecha_nacimiento', 'fecha_notificacion', 'hospitalizado', 'localidad', 'muerte', 'municipio', 'nombre_evento', 'num_ide_', 'ocupacion_', 'pertencia_etnica', 'pri_ape_', 'pri_nom_', 'regimen_salud', 'seg_ape_', 'seg_nom_', 'semana', 'sexo', 'tip_ide_', 'tipo_de_caso', 'uni_med_']\n",
      "    ❌ Columnas distintas (0): []\n",
      "     ✅ Las columnas son idénticas\n",
      "\n",
      "📂 Comparando Dengue y dengue grave 2019.csv vs Dengue y dengue grave 2023.csv:\n",
      "    ✔️ Columnas comunes (29): ['area', 'año', 'barrio', 'departamento', 'direccion', 'edad', 'fecha_consulta', 'fecha_hospitalizacion', 'fecha_inicio_sintomas', 'fecha_nacimiento', 'fecha_notificacion', 'hospitalizado', 'localidad', 'muerte', 'municipio', 'nombre_evento', 'num_ide_', 'ocupacion_', 'pertencia_etnica', 'pri_ape_', 'pri_nom_', 'regimen_salud', 'seg_ape_', 'seg_nom_', 'semana', 'sexo', 'tip_ide_', 'tipo_de_caso', 'uni_med_']\n",
      "    ❌ Columnas distintas (107): ['acum_liqui', 'agente', 'ajuste_', 'artralgia', 'aum_hemato', 'caida_plaq', 'cbmte_', 'cefalea', 'cen_pobla_', 'cer_def_', 'choque', 'clasfinal', 'clasificacion ', 'cod_ase_', 'cod_dep_d', 'cod_dpto_o', 'cod_mun_d', 'cod_mun_o', 'cod_pais_d', 'cod_pais_o', 'cod_pais_r', 'cod_pre', 'cod_sub', 'conducta', 'control', 'daã±o_organ', 'desplazami', 'diarrea', 'direclabor', 'dolor_abdo', 'dolrretroo', 'edad convertida', 'erupcionr', 'estrato_', 'extravasac', 'famantdngu', 'fec_aju_', 'fec_arc_xl', 'fec_def_', 'fec_exa', 'fec_exp', 'fec_rec', 'fiebre', 'fm_fuerza', 'fm_grado', 'fm_unidad', 'fuente_', 'gp_carcela', 'gp_desmovi', 'gp_desplaz', 'gp_discapa', 'gp_gestan', 'gp_indigen', 'gp_mad_com', 'gp_migrant', 'gp_otros', 'gp_pobicbf', 'gp_psiquia', 'gp_vic_vio', 'hem_mucosa', 'hemorr_hem', 'hepatomeg', 'hipotensio', 'hipotermia', 'lab_ajuste', 'malgias', 'muesbazo', 'muescerebr', 'mueshigado', 'muesmedula', 'muesmiocar', 'muespulmon', 'muesriã±on', 'muestra', 'muesttejid', 'nacionali_', 'ndep_notif', 'ndep_proce.1', 'ndep_resi', 'ndep_resi.1', 'nit_upgd', 'nmun_notif', 'nmun_notif.1', 'nmun_proce.1', 'nmun_resi', 'nmun_resi.1', 'nom_dil_f_', 'nom_eve.1', 'nom_grupo_', 'nom_upgd', 'nombre_nacionalidad', 'nombres', 'npais_proce', 'npais_resi', 'num_ide_.1', 'nuni_modif', 'prueba', 'resultado', 'sem_ges', 'somnolenci', 'tel_dil_f_', 'telefono_', 'uni_modif', 'valor', 'vereda_', 'version', 'vomito']\n",
      "    🔴 Existen 107 variables diferentes\n"
     ]
    }
   ],
   "source": [
    "dataframes, archivos  = leer_archivos(ruta)\n",
    "comparar_columnas(dataframes)"
   ]
  },
  {
   "cell_type": "markdown",
   "id": "e212ea53",
   "metadata": {},
   "source": [
    "### Eliminar variables "
   ]
  },
  {
   "cell_type": "code",
   "execution_count": 60,
   "id": "9f6355ac",
   "metadata": {},
   "outputs": [],
   "source": [
    "delete = [\n",
    "    'ajuste_', 'cbmte_', 'cen_pobla_', 'cer_def_', 'cod_ase_', \n",
    "    'cod_dpto_r', 'cod_mun_r', 'cod_pais_o', 'cod_pre', 'cod_sub', \n",
    "    'eve_historico', 'fec_aju_', 'fec_arc_xl', 'fec_def_', \n",
    "    'fm_fuerza', 'fm_grado', 'fm_unidad', \n",
    "    'gp_carcela', 'gp_desmovi', 'gp_desplaz', 'gp_discapa', 'gp_gestan', \n",
    "    'gp_indigen', 'gp_mad_com', 'gp_migrant', 'gp_otros', 'gp_pobicbf', \n",
    "    'gp_psiquia', 'gp_vic_vio', 'ndep_notif', 'ndep_resi', 'nit_upgd', \n",
    "    'nmun_notif', 'nmun_resi', 'nom_dil_f_', 'nom_upgd', \n",
    "    'tel_dil_f_', 'telefono_', 'vereda_', 'daño_organ', 'muesriñon', 'ndep_proce.1', 'nmun_proce.1', 'sem_ges']"
   ]
  },
  {
   "cell_type": "code",
   "execution_count": 61,
   "id": "3410eb6e",
   "metadata": {},
   "outputs": [
    {
     "name": "stdout",
     "output_type": "stream",
     "text": [
      "✔️ Dengue y dengue grave 2017.csv: columnas eliminadas → []\n",
      "✔️ Dengue y dengue grave 2018.csv: columnas eliminadas → []\n",
      "✔️ Dengue y dengue grave 2019.csv: columnas eliminadas → []\n",
      "✔️ Dengue y dengue grave 2020.csv: columnas eliminadas → []\n",
      "✔️ Dengue y dengue grave 2021.csv: columnas eliminadas → []\n",
      "✔️ Dengue y dengue grave 2022.csv: columnas eliminadas → []\n",
      "✔️ Dengue y dengue grave 2023.csv: columnas eliminadas → ['ajuste_', 'cbmte_', 'cen_pobla_', 'cer_def_', 'cod_ase_', 'cod_pais_o', 'cod_pre', 'cod_sub', 'fec_aju_', 'fec_arc_xl', 'fec_def_', 'fm_fuerza', 'fm_grado', 'fm_unidad', 'gp_carcela', 'gp_desmovi', 'gp_desplaz', 'gp_discapa', 'gp_gestan', 'gp_indigen', 'gp_mad_com', 'gp_migrant', 'gp_otros', 'gp_pobicbf', 'gp_psiquia', 'gp_vic_vio', 'ndep_notif', 'ndep_resi', 'nit_upgd', 'nmun_notif', 'nmun_resi', 'nom_dil_f_', 'nom_upgd', 'tel_dil_f_', 'telefono_', 'vereda_', 'ndep_proce.1', 'nmun_proce.1', 'sem_ges']\n",
      "\n",
      "✅ Eliminación completada. Archivos editados directamente.\n"
     ]
    }
   ],
   "source": [
    "# Eliminar archivos\n",
    "log_eliminacion = {}\n",
    "\n",
    "for archivo in archivos:\n",
    "    path_csv = os.path.join(ruta, archivo)\n",
    "    try:\n",
    "        df = pd.read_csv(path_csv, encoding='latin1', low_memory=False)\n",
    "        df.columns = df.columns.str.lower()\n",
    "        # Detectar columnas presentes que se van a eliminar\n",
    "        cols_a_eliminar = [c for c in delete if c in df.columns]\n",
    "\n",
    "        # Eliminar columnas\n",
    "        df = df.drop(columns=cols_a_eliminar, errors=\"ignore\")\n",
    "\n",
    "        # Guardar sobrescribiendo el archivo\n",
    "        df.to_csv(path_csv, index=False, encoding='latin1')\n",
    "\n",
    "        # Registrar cambios\n",
    "        log_eliminacion[archivo] = cols_a_eliminar\n",
    "        print(f\"✔️ {archivo}: columnas eliminadas → {cols_a_eliminar}\")\n",
    "\n",
    "    except Exception as e:\n",
    "        log_eliminacion[archivo] = f\"Error: {str(e)}\"\n",
    "        print(f\"❌ Error en {archivo}: {e}\")\n",
    "\n",
    "print(\"\\n✅ Eliminación completada. Archivos editados directamente.\")"
   ]
  },
  {
   "cell_type": "code",
   "execution_count": 62,
   "id": "1aeb7c5d",
   "metadata": {},
   "outputs": [
    {
     "name": "stdout",
     "output_type": "stream",
     "text": [
      "\n",
      "✅ Todos los archivos se cargaron correctamente.\n",
      "1  📄 Dengue y dengue grave 2017.csv: 1214 filas, 31 columnas\n",
      "2  📄 Dengue y dengue grave 2018.csv: 3403 filas, 31 columnas\n",
      "3  📄 Dengue y dengue grave 2019.csv: 4145 filas, 31 columnas\n",
      "4  📄 Dengue y dengue grave 2020.csv: 2722 filas, 31 columnas\n",
      "5  📄 Dengue y dengue grave 2021.csv: 7947 filas, 31 columnas\n",
      "6  📄 Dengue y dengue grave 2022.csv: 10601 filas, 31 columnas\n",
      "7  📄 Dengue y dengue grave 2023.csv: 6682 filas, 95 columnas\n",
      "\n",
      "📂 Comparando Dengue y dengue grave 2019.csv vs Dengue y dengue grave 2017.csv:\n",
      "    ✔️ Columnas comunes (31): ['area', 'año', 'barrio', 'cod_dpto_o', 'cod_mun_o', 'departamento', 'direccion', 'edad', 'fecha_consulta', 'fecha_hospitalizacion', 'fecha_inicio_sintomas', 'fecha_nacimiento', 'fecha_notificacion', 'hospitalizado', 'localidad', 'muerte', 'municipio', 'nombre_evento', 'num_ide_', 'ocupacion_', 'pertencia_etnica', 'pri_ape_', 'pri_nom_', 'regimen_salud', 'seg_ape_', 'seg_nom_', 'semana', 'sexo', 'tip_ide_', 'tipo_de_caso', 'uni_med_']\n",
      "    ❌ Columnas distintas (0): []\n",
      "     ✅ Las columnas son idénticas\n",
      "\n",
      "📂 Comparando Dengue y dengue grave 2019.csv vs Dengue y dengue grave 2018.csv:\n",
      "    ✔️ Columnas comunes (31): ['area', 'año', 'barrio', 'cod_dpto_o', 'cod_mun_o', 'departamento', 'direccion', 'edad', 'fecha_consulta', 'fecha_hospitalizacion', 'fecha_inicio_sintomas', 'fecha_nacimiento', 'fecha_notificacion', 'hospitalizado', 'localidad', 'muerte', 'municipio', 'nombre_evento', 'num_ide_', 'ocupacion_', 'pertencia_etnica', 'pri_ape_', 'pri_nom_', 'regimen_salud', 'seg_ape_', 'seg_nom_', 'semana', 'sexo', 'tip_ide_', 'tipo_de_caso', 'uni_med_']\n",
      "    ❌ Columnas distintas (0): []\n",
      "     ✅ Las columnas son idénticas\n",
      "\n",
      "📂 Comparando Dengue y dengue grave 2019.csv vs Dengue y dengue grave 2020.csv:\n",
      "    ✔️ Columnas comunes (31): ['area', 'año', 'barrio', 'cod_dpto_o', 'cod_mun_o', 'departamento', 'direccion', 'edad', 'fecha_consulta', 'fecha_hospitalizacion', 'fecha_inicio_sintomas', 'fecha_nacimiento', 'fecha_notificacion', 'hospitalizado', 'localidad', 'muerte', 'municipio', 'nombre_evento', 'num_ide_', 'ocupacion_', 'pertencia_etnica', 'pri_ape_', 'pri_nom_', 'regimen_salud', 'seg_ape_', 'seg_nom_', 'semana', 'sexo', 'tip_ide_', 'tipo_de_caso', 'uni_med_']\n",
      "    ❌ Columnas distintas (0): []\n",
      "     ✅ Las columnas son idénticas\n",
      "\n",
      "📂 Comparando Dengue y dengue grave 2019.csv vs Dengue y dengue grave 2021.csv:\n",
      "    ✔️ Columnas comunes (31): ['area', 'año', 'barrio', 'cod_dpto_o', 'cod_mun_o', 'departamento', 'direccion', 'edad', 'fecha_consulta', 'fecha_hospitalizacion', 'fecha_inicio_sintomas', 'fecha_nacimiento', 'fecha_notificacion', 'hospitalizado', 'localidad', 'muerte', 'municipio', 'nombre_evento', 'num_ide_', 'ocupacion_', 'pertencia_etnica', 'pri_ape_', 'pri_nom_', 'regimen_salud', 'seg_ape_', 'seg_nom_', 'semana', 'sexo', 'tip_ide_', 'tipo_de_caso', 'uni_med_']\n",
      "    ❌ Columnas distintas (0): []\n",
      "     ✅ Las columnas son idénticas\n",
      "\n",
      "📂 Comparando Dengue y dengue grave 2019.csv vs Dengue y dengue grave 2022.csv:\n",
      "    ✔️ Columnas comunes (31): ['area', 'año', 'barrio', 'cod_dpto_o', 'cod_mun_o', 'departamento', 'direccion', 'edad', 'fecha_consulta', 'fecha_hospitalizacion', 'fecha_inicio_sintomas', 'fecha_nacimiento', 'fecha_notificacion', 'hospitalizado', 'localidad', 'muerte', 'municipio', 'nombre_evento', 'num_ide_', 'ocupacion_', 'pertencia_etnica', 'pri_ape_', 'pri_nom_', 'regimen_salud', 'seg_ape_', 'seg_nom_', 'semana', 'sexo', 'tip_ide_', 'tipo_de_caso', 'uni_med_']\n",
      "    ❌ Columnas distintas (0): []\n",
      "     ✅ Las columnas son idénticas\n",
      "\n",
      "📂 Comparando Dengue y dengue grave 2019.csv vs Dengue y dengue grave 2023.csv:\n",
      "    ✔️ Columnas comunes (29): ['area', 'año', 'barrio', 'departamento', 'direccion', 'edad', 'fecha_consulta', 'fecha_hospitalizacion', 'fecha_inicio_sintomas', 'fecha_nacimiento', 'fecha_notificacion', 'hospitalizado', 'localidad', 'muerte', 'municipio', 'nombre_evento', 'num_ide_', 'ocupacion_', 'pertencia_etnica', 'pri_ape_', 'pri_nom_', 'regimen_salud', 'seg_ape_', 'seg_nom_', 'semana', 'sexo', 'tip_ide_', 'tipo_de_caso', 'uni_med_']\n",
      "    ❌ Columnas distintas (68): ['acum_liqui', 'agente', 'artralgia', 'aum_hemato', 'caida_plaq', 'cefalea', 'choque', 'clasfinal', 'clasificacion ', 'cod_dep_d', 'cod_dpto_o', 'cod_mun_d', 'cod_mun_o', 'cod_pais_d', 'cod_pais_r', 'conducta', 'control', 'daã±o_organ', 'desplazami', 'diarrea', 'direclabor', 'dolor_abdo', 'dolrretroo', 'edad convertida', 'erupcionr', 'estrato_', 'extravasac', 'famantdngu', 'fec_exa', 'fec_exp', 'fec_rec', 'fiebre', 'fuente_', 'hem_mucosa', 'hemorr_hem', 'hepatomeg', 'hipotensio', 'hipotermia', 'lab_ajuste', 'malgias', 'muesbazo', 'muescerebr', 'mueshigado', 'muesmedula', 'muesmiocar', 'muespulmon', 'muesriã±on', 'muestra', 'muesttejid', 'nacionali_', 'ndep_resi.1', 'nmun_notif.1', 'nmun_resi.1', 'nom_eve.1', 'nom_grupo_', 'nombre_nacionalidad', 'nombres', 'npais_proce', 'npais_resi', 'num_ide_.1', 'nuni_modif', 'prueba', 'resultado', 'somnolenci', 'uni_modif', 'valor', 'version', 'vomito']\n",
      "    🔴 Existen 68 variables diferentes\n"
     ]
    }
   ],
   "source": [
    "dataframes, archivos  = leer_archivos(ruta)\n",
    "comparar_columnas(dataframes)"
   ]
  },
  {
   "cell_type": "code",
   "execution_count": 63,
   "id": "1016c866",
   "metadata": {},
   "outputs": [],
   "source": [
    "delete = [\n",
    "    'acum_liqui', 'agente', 'artralgia', 'aum_hemato', 'caida_plaq', 'cefalea', \n",
    "    'choque', 'clasfinal', 'clasificacion', 'cod_dep_d', 'cod_eve', 'cod_mun_d', \n",
    "    'cod_pais_d', 'cod_pais_r', 'conducta', 'control', 'daã±o_organ', 'desplazami', \n",
    "    'diarrea', 'direclabor', 'dolor_abdo', 'dolrretroo', 'erupcionr', 'estrato_', \n",
    "    'extravasac', 'famantdngu', 'fec_exa', 'fec_exp', 'fec_rec', 'fechahora', 'fiebre', \n",
    "    'fuente_', 'hem_mucosa', 'hemorr_hem', 'hepatomeg', 'hipotensio', 'hipotermia', \n",
    "    'iden_gener', 'lab_ajuste', 'lat_dir', 'long_dir', 'malgias', 'muesbazo', 'muescerebr', \n",
    "    'mueshigado', 'muesmedula', 'muesmiocar', 'muespulmon', 'muesriã±on', 'muestra', 'muesttejid', \n",
    "    'nacionali_', 'ndep_resi.1', 'nmun_notif.1', 'nmun_resi.1', 'nom_eve.1', 'nom_grupo_', \n",
    "    'nombre', 'nombre_nacionalidad', 'npais_proce', 'npais_resi', 'num_ide_.1', 'nuni_modif', \n",
    "    'orient_sex', 'otra_ident', 'otra_orien', 'prueba', 'resultado', 'sem_ges_', 'somnolenci',\n",
    "    'uni_modif', 'valor', 'version', 'vomito']\n",
    "   "
   ]
  },
  {
   "cell_type": "code",
   "execution_count": 64,
   "id": "58d95618",
   "metadata": {},
   "outputs": [
    {
     "name": "stdout",
     "output_type": "stream",
     "text": [
      "✔️ Dengue y dengue grave 2017.csv: columnas eliminadas → []\n",
      "✔️ Dengue y dengue grave 2018.csv: columnas eliminadas → []\n",
      "✔️ Dengue y dengue grave 2019.csv: columnas eliminadas → []\n",
      "✔️ Dengue y dengue grave 2020.csv: columnas eliminadas → []\n",
      "✔️ Dengue y dengue grave 2021.csv: columnas eliminadas → []\n",
      "✔️ Dengue y dengue grave 2022.csv: columnas eliminadas → []\n",
      "✔️ Dengue y dengue grave 2023.csv: columnas eliminadas → ['acum_liqui', 'agente', 'artralgia', 'aum_hemato', 'caida_plaq', 'cefalea', 'choque', 'clasfinal', 'cod_dep_d', 'cod_mun_d', 'cod_pais_d', 'cod_pais_r', 'conducta', 'control', 'daã±o_organ', 'desplazami', 'diarrea', 'direclabor', 'dolor_abdo', 'dolrretroo', 'erupcionr', 'estrato_', 'extravasac', 'famantdngu', 'fec_exa', 'fec_exp', 'fec_rec', 'fiebre', 'fuente_', 'hem_mucosa', 'hemorr_hem', 'hepatomeg', 'hipotensio', 'hipotermia', 'lab_ajuste', 'malgias', 'muesbazo', 'muescerebr', 'mueshigado', 'muesmedula', 'muesmiocar', 'muespulmon', 'muesriã±on', 'muestra', 'muesttejid', 'nacionali_', 'ndep_resi.1', 'nmun_notif.1', 'nmun_resi.1', 'nom_eve.1', 'nom_grupo_', 'nombre_nacionalidad', 'npais_proce', 'npais_resi', 'num_ide_.1', 'nuni_modif', 'prueba', 'resultado', 'somnolenci', 'uni_modif', 'valor', 'version', 'vomito']\n",
      "\n",
      "✅ Eliminación completada. Archivos editados directamente.\n"
     ]
    }
   ],
   "source": [
    "# Eliminar archivos\n",
    "log_eliminacion = {}\n",
    "\n",
    "for archivo in archivos:\n",
    "    path_csv = os.path.join(ruta, archivo)\n",
    "    try:\n",
    "        df = pd.read_csv(path_csv, encoding='latin1', low_memory=False)\n",
    "        df.columns = df.columns.str.lower()\n",
    "        # Detectar columnas presentes que se van a eliminar\n",
    "        cols_a_eliminar = [c for c in delete if c in df.columns]\n",
    "\n",
    "        # Eliminar columnas\n",
    "        df = df.drop(columns=cols_a_eliminar, errors=\"ignore\")\n",
    "\n",
    "        # Guardar sobrescribiendo el archivo\n",
    "        df.to_csv(path_csv, index=False, encoding='latin1')\n",
    "\n",
    "        # Registrar cambios\n",
    "        log_eliminacion[archivo] = cols_a_eliminar\n",
    "        print(f\"✔️ {archivo}: columnas eliminadas → {cols_a_eliminar}\")\n",
    "\n",
    "    except Exception as e:\n",
    "        log_eliminacion[archivo] = f\"Error: {str(e)}\"\n",
    "        print(f\"❌ Error en {archivo}: {e}\")\n",
    "\n",
    "print(\"\\n✅ Eliminación completada. Archivos editados directamente.\")"
   ]
  },
  {
   "cell_type": "code",
   "execution_count": 65,
   "id": "f7a33be5",
   "metadata": {},
   "outputs": [
    {
     "name": "stdout",
     "output_type": "stream",
     "text": [
      "\n",
      "✅ Todos los archivos se cargaron correctamente.\n",
      "1  📄 Dengue y dengue grave 2017.csv: 1214 filas, 31 columnas\n",
      "2  📄 Dengue y dengue grave 2018.csv: 3403 filas, 31 columnas\n",
      "3  📄 Dengue y dengue grave 2019.csv: 4145 filas, 31 columnas\n",
      "4  📄 Dengue y dengue grave 2020.csv: 2722 filas, 31 columnas\n",
      "5  📄 Dengue y dengue grave 2021.csv: 7947 filas, 31 columnas\n",
      "6  📄 Dengue y dengue grave 2022.csv: 10601 filas, 31 columnas\n",
      "7  📄 Dengue y dengue grave 2023.csv: 6682 filas, 32 columnas\n",
      "\n",
      "📂 Comparando Dengue y dengue grave 2019.csv vs Dengue y dengue grave 2017.csv:\n",
      "    ✔️ Columnas comunes (31): ['area', 'año', 'barrio', 'cod_dpto_o', 'cod_mun_o', 'departamento', 'direccion', 'edad', 'fecha_consulta', 'fecha_hospitalizacion', 'fecha_inicio_sintomas', 'fecha_nacimiento', 'fecha_notificacion', 'hospitalizado', 'localidad', 'muerte', 'municipio', 'nombre_evento', 'num_ide_', 'ocupacion_', 'pertencia_etnica', 'pri_ape_', 'pri_nom_', 'regimen_salud', 'seg_ape_', 'seg_nom_', 'semana', 'sexo', 'tip_ide_', 'tipo_de_caso', 'uni_med_']\n",
      "    ❌ Columnas distintas (0): []\n",
      "     ✅ Las columnas son idénticas\n",
      "\n",
      "📂 Comparando Dengue y dengue grave 2019.csv vs Dengue y dengue grave 2018.csv:\n",
      "    ✔️ Columnas comunes (31): ['area', 'año', 'barrio', 'cod_dpto_o', 'cod_mun_o', 'departamento', 'direccion', 'edad', 'fecha_consulta', 'fecha_hospitalizacion', 'fecha_inicio_sintomas', 'fecha_nacimiento', 'fecha_notificacion', 'hospitalizado', 'localidad', 'muerte', 'municipio', 'nombre_evento', 'num_ide_', 'ocupacion_', 'pertencia_etnica', 'pri_ape_', 'pri_nom_', 'regimen_salud', 'seg_ape_', 'seg_nom_', 'semana', 'sexo', 'tip_ide_', 'tipo_de_caso', 'uni_med_']\n",
      "    ❌ Columnas distintas (0): []\n",
      "     ✅ Las columnas son idénticas\n",
      "\n",
      "📂 Comparando Dengue y dengue grave 2019.csv vs Dengue y dengue grave 2020.csv:\n",
      "    ✔️ Columnas comunes (31): ['area', 'año', 'barrio', 'cod_dpto_o', 'cod_mun_o', 'departamento', 'direccion', 'edad', 'fecha_consulta', 'fecha_hospitalizacion', 'fecha_inicio_sintomas', 'fecha_nacimiento', 'fecha_notificacion', 'hospitalizado', 'localidad', 'muerte', 'municipio', 'nombre_evento', 'num_ide_', 'ocupacion_', 'pertencia_etnica', 'pri_ape_', 'pri_nom_', 'regimen_salud', 'seg_ape_', 'seg_nom_', 'semana', 'sexo', 'tip_ide_', 'tipo_de_caso', 'uni_med_']\n",
      "    ❌ Columnas distintas (0): []\n",
      "     ✅ Las columnas son idénticas\n",
      "\n",
      "📂 Comparando Dengue y dengue grave 2019.csv vs Dengue y dengue grave 2021.csv:\n",
      "    ✔️ Columnas comunes (31): ['area', 'año', 'barrio', 'cod_dpto_o', 'cod_mun_o', 'departamento', 'direccion', 'edad', 'fecha_consulta', 'fecha_hospitalizacion', 'fecha_inicio_sintomas', 'fecha_nacimiento', 'fecha_notificacion', 'hospitalizado', 'localidad', 'muerte', 'municipio', 'nombre_evento', 'num_ide_', 'ocupacion_', 'pertencia_etnica', 'pri_ape_', 'pri_nom_', 'regimen_salud', 'seg_ape_', 'seg_nom_', 'semana', 'sexo', 'tip_ide_', 'tipo_de_caso', 'uni_med_']\n",
      "    ❌ Columnas distintas (0): []\n",
      "     ✅ Las columnas son idénticas\n",
      "\n",
      "📂 Comparando Dengue y dengue grave 2019.csv vs Dengue y dengue grave 2022.csv:\n",
      "    ✔️ Columnas comunes (31): ['area', 'año', 'barrio', 'cod_dpto_o', 'cod_mun_o', 'departamento', 'direccion', 'edad', 'fecha_consulta', 'fecha_hospitalizacion', 'fecha_inicio_sintomas', 'fecha_nacimiento', 'fecha_notificacion', 'hospitalizado', 'localidad', 'muerte', 'municipio', 'nombre_evento', 'num_ide_', 'ocupacion_', 'pertencia_etnica', 'pri_ape_', 'pri_nom_', 'regimen_salud', 'seg_ape_', 'seg_nom_', 'semana', 'sexo', 'tip_ide_', 'tipo_de_caso', 'uni_med_']\n",
      "    ❌ Columnas distintas (0): []\n",
      "     ✅ Las columnas son idénticas\n",
      "\n",
      "📂 Comparando Dengue y dengue grave 2019.csv vs Dengue y dengue grave 2023.csv:\n",
      "    ✔️ Columnas comunes (29): ['area', 'año', 'barrio', 'departamento', 'direccion', 'edad', 'fecha_consulta', 'fecha_hospitalizacion', 'fecha_inicio_sintomas', 'fecha_nacimiento', 'fecha_notificacion', 'hospitalizado', 'localidad', 'muerte', 'municipio', 'nombre_evento', 'num_ide_', 'ocupacion_', 'pertencia_etnica', 'pri_ape_', 'pri_nom_', 'regimen_salud', 'seg_ape_', 'seg_nom_', 'semana', 'sexo', 'tip_ide_', 'tipo_de_caso', 'uni_med_']\n",
      "    ❌ Columnas distintas (5): ['clasificacion ', 'cod_dpto_o', 'cod_mun_o', 'edad convertida', 'nombres']\n",
      "    🔴 Existen 5 variables diferentes\n"
     ]
    }
   ],
   "source": [
    "dataframes, archivos  = leer_archivos(ruta)\n",
    "comparar_columnas(dataframes)"
   ]
  },
  {
   "cell_type": "markdown",
   "id": "0e4b8334",
   "metadata": {},
   "source": [
    "****"
   ]
  },
  {
   "cell_type": "code",
   "execution_count": 72,
   "id": "2fe85573",
   "metadata": {},
   "outputs": [
    {
     "name": "stdout",
     "output_type": "stream",
     "text": [
      "\n",
      "✅ Todos los archivos se cargaron correctamente.\n",
      "1  📄 Dengue y dengue grave 2017.csv: 1214 filas, 31 columnas\n",
      "2  📄 Dengue y dengue grave 2018.csv: 3403 filas, 31 columnas\n",
      "3  📄 Dengue y dengue grave 2019.csv: 4145 filas, 31 columnas\n",
      "4  📄 Dengue y dengue grave 2020.csv: 2722 filas, 31 columnas\n",
      "5  📄 Dengue y dengue grave 2021.csv: 7947 filas, 31 columnas\n",
      "6  📄 Dengue y dengue grave 2022.csv: 10601 filas, 31 columnas\n",
      "7  📄 Dengue y dengue grave 2023.csv: 2466 filas, 29 columnas\n"
     ]
    }
   ],
   "source": [
    "dataframes, archivos = leer_archivos(ruta)\n",
    "\n",
    "# Unir todos en un solo DataFrame\n",
    "df_final = pd.concat(dataframes.values(), ignore_index=True)"
   ]
  },
  {
   "cell_type": "code",
   "execution_count": 73,
   "id": "8b0ea1d4",
   "metadata": {},
   "outputs": [
    {
     "name": "stdout",
     "output_type": "stream",
     "text": [
      "<class 'pandas.core.frame.DataFrame'>\n",
      "RangeIndex: 32498 entries, 0 to 32497\n",
      "Data columns (total 31 columns):\n",
      " #   Column                 Non-Null Count  Dtype  \n",
      "---  ------                 --------------  -----  \n",
      " 0   area                   32498 non-null  int64  \n",
      " 1   año                    32498 non-null  int64  \n",
      " 2   barrio                 32374 non-null  object \n",
      " 3   cod_dpto_o             30032 non-null  float64\n",
      " 4   cod_mun_o              30032 non-null  float64\n",
      " 5   departamento           32498 non-null  object \n",
      " 6   direccion              32498 non-null  object \n",
      " 7   edad                   32498 non-null  int64  \n",
      " 8   fecha_consulta         32498 non-null  object \n",
      " 9   fecha_hospitalizacion  32498 non-null  object \n",
      " 10  fecha_inicio_sintomas  32498 non-null  object \n",
      " 11  fecha_nacimiento       32498 non-null  object \n",
      " 12  fecha_notificacion     32498 non-null  object \n",
      " 13  hospitalizado          32498 non-null  int64  \n",
      " 14  localidad              31045 non-null  object \n",
      " 15  muerte                 32498 non-null  int64  \n",
      " 16  municipio              32498 non-null  object \n",
      " 17  nombre_evento          32498 non-null  object \n",
      " 18  num_ide_               32498 non-null  object \n",
      " 19  ocupacion_             32484 non-null  float64\n",
      " 20  pertencia_etnica       32498 non-null  int64  \n",
      " 21  pri_ape_               32498 non-null  object \n",
      " 22  pri_nom_               32498 non-null  object \n",
      " 23  regimen_salud          32498 non-null  object \n",
      " 24  seg_ape_               32239 non-null  object \n",
      " 25  seg_nom_               25505 non-null  object \n",
      " 26  semana                 32498 non-null  int64  \n",
      " 27  sexo                   32498 non-null  object \n",
      " 28  tip_ide_               32498 non-null  object \n",
      " 29  tipo_de_caso           32498 non-null  int64  \n",
      " 30  uni_med_               32498 non-null  int64  \n",
      "dtypes: float64(3), int64(9), object(19)\n",
      "memory usage: 7.7+ MB\n"
     ]
    }
   ],
   "source": [
    "df_final = df_final[sorted(df_final.columns)]\n",
    "df_final.info()"
   ]
  },
  {
   "cell_type": "code",
   "execution_count": 74,
   "id": "df5cebd6",
   "metadata": {},
   "outputs": [
    {
     "name": "stdout",
     "output_type": "stream",
     "text": [
      "Número de filas duplicadas exactas en columnas de interés: 0\n"
     ]
    }
   ],
   "source": [
    "count_duplicados = df_final.duplicated().sum()\n",
    "print(f\"Número de filas duplicadas exactas en columnas de interés: {count_duplicados}\")"
   ]
  },
  {
   "cell_type": "code",
   "execution_count": 75,
   "id": "40fbfefe",
   "metadata": {},
   "outputs": [
    {
     "data": {
      "text/plain": [
       "array(['DENGUE', 'DENGUE GRAVE'], dtype=object)"
      ]
     },
     "execution_count": 75,
     "metadata": {},
     "output_type": "execute_result"
    }
   ],
   "source": [
    "df_final['nombre_evento'] = df_final['nombre_evento'].str.strip()\n",
    "df_final['nombre_evento'].unique()"
   ]
  },
  {
   "cell_type": "code",
   "execution_count": 76,
   "id": "dcb9b2fe",
   "metadata": {},
   "outputs": [
    {
     "data": {
      "text/plain": [
       "array(['Clasico', 'Grave'], dtype=object)"
      ]
     },
     "execution_count": 76,
     "metadata": {},
     "output_type": "execute_result"
    }
   ],
   "source": [
    "# Crear evento a partir del codigo \n",
    "# evento = Clasifico if code_eve = 210 \n",
    "# evento = Grave if code_eve = 220\n",
    "df_final['evento'] = np.where(df_final['nombre_evento'] == 'DENGUE', 'Clasico', \n",
    "                       np.where(df_final['nombre_evento'] == 'DENGUE GRAVE', 'Grave', 'Otros'))\n",
    "df_final['evento'].unique()"
   ]
  },
  {
   "cell_type": "code",
   "execution_count": 77,
   "id": "a542e378",
   "metadata": {},
   "outputs": [
    {
     "data": {
      "text/plain": [
       "Index(['area', 'año', 'barrio', 'cod_dpto_o', 'cod_mun_o', 'departamento',\n",
       "       'direccion', 'edad', 'fecha_consulta', 'fecha_hospitalizacion',\n",
       "       'fecha_inicio_sintomas', 'fecha_nacimiento', 'fecha_notificacion',\n",
       "       'hospitalizado', 'localidad', 'muerte', 'municipio', 'nombre_evento',\n",
       "       'num_ide_', 'ocupacion_', 'pertencia_etnica', 'pri_ape_', 'pri_nom_',\n",
       "       'regimen_salud', 'seg_ape_', 'seg_nom_', 'semana', 'sexo', 'tip_ide_',\n",
       "       'tipo_de_caso', 'uni_med_', 'evento'],\n",
       "      dtype='object')"
      ]
     },
     "execution_count": 77,
     "metadata": {},
     "output_type": "execute_result"
    }
   ],
   "source": [
    "df_final.columns"
   ]
  },
  {
   "cell_type": "code",
   "execution_count": 78,
   "id": "d0fbbe3c",
   "metadata": {},
   "outputs": [],
   "source": [
    "delete =['num_ide_', 'ocupacion_', 'pri_ape_', 'pri_nom_',\n",
    "        'seg_ape_', 'seg_nom_', 'tip_ide_']"
   ]
  },
  {
   "cell_type": "code",
   "execution_count": 79,
   "id": "7f2857e0",
   "metadata": {},
   "outputs": [
    {
     "name": "stdout",
     "output_type": "stream",
     "text": [
      "<class 'pandas.core.frame.DataFrame'>\n",
      "RangeIndex: 32498 entries, 0 to 32497\n",
      "Data columns (total 25 columns):\n",
      " #   Column                 Non-Null Count  Dtype  \n",
      "---  ------                 --------------  -----  \n",
      " 0   area                   32498 non-null  int64  \n",
      " 1   año                    32498 non-null  int64  \n",
      " 2   barrio                 32374 non-null  object \n",
      " 3   cod_dpto_o             30032 non-null  float64\n",
      " 4   cod_mun_o              30032 non-null  float64\n",
      " 5   departamento           32498 non-null  object \n",
      " 6   direccion              32498 non-null  object \n",
      " 7   edad                   32498 non-null  int64  \n",
      " 8   fecha_consulta         32498 non-null  object \n",
      " 9   fecha_hospitalizacion  32498 non-null  object \n",
      " 10  fecha_inicio_sintomas  32498 non-null  object \n",
      " 11  fecha_nacimiento       32498 non-null  object \n",
      " 12  fecha_notificacion     32498 non-null  object \n",
      " 13  hospitalizado          32498 non-null  int64  \n",
      " 14  localidad              31045 non-null  object \n",
      " 15  muerte                 32498 non-null  int64  \n",
      " 16  municipio              32498 non-null  object \n",
      " 17  nombre_evento          32498 non-null  object \n",
      " 18  pertencia_etnica       32498 non-null  int64  \n",
      " 19  regimen_salud          32498 non-null  object \n",
      " 20  semana                 32498 non-null  int64  \n",
      " 21  sexo                   32498 non-null  object \n",
      " 22  tipo_de_caso           32498 non-null  int64  \n",
      " 23  uni_med_               32498 non-null  int64  \n",
      " 24  evento                 32498 non-null  object \n",
      "dtypes: float64(2), int64(9), object(14)\n",
      "memory usage: 6.2+ MB\n"
     ]
    }
   ],
   "source": [
    "df_final = df_final.drop(columns=delete, errors=\"ignore\")\n",
    "df_final.info()"
   ]
  },
  {
   "cell_type": "code",
   "execution_count": 80,
   "id": "74dcb75e",
   "metadata": {},
   "outputs": [
    {
     "data": {
      "text/plain": [
       "Index(['area', 'año', 'barrio', 'cod_dpto_o', 'cod_mun_o', 'departamento',\n",
       "       'direccion', 'edad', 'fecha_consulta', 'fecha_hospitalizacion',\n",
       "       'fecha_inicio_sintomas', 'fecha_nacimiento', 'fecha_notificacion',\n",
       "       'hospitalizado', 'localidad', 'muerte', 'municipio', 'nombre_evento',\n",
       "       'pertencia_etnica', 'regimen_salud', 'semana', 'sexo', 'tipo_de_caso',\n",
       "       'uni_med_', 'evento'],\n",
       "      dtype='object')"
      ]
     },
     "execution_count": 80,
     "metadata": {},
     "output_type": "execute_result"
    }
   ],
   "source": [
    "df_final.columns"
   ]
  },
  {
   "cell_type": "code",
   "execution_count": 81,
   "id": "d18d3807",
   "metadata": {},
   "outputs": [
    {
     "data": {
      "text/plain": [
       "departamento\n",
       "ATLANTICO            31800\n",
       "MAGDALENA              255\n",
       "GUAJIRA                129\n",
       "BOLIVAR                 82\n",
       "47                      62\n",
       "CESAR                   25\n",
       "DEPTO DESCONOCIDO       23\n",
       "SUCRE                   19\n",
       "44                      17\n",
       "CORDOBA                 11\n",
       "13                      10\n",
       "CUNDINAMARCA             8\n",
       "ANTIOQUIA                7\n",
       "20                       6\n",
       "VALLE                    5\n",
       "SANTANDER                5\n",
       "SAN ANDRES               5\n",
       "AMAZONAS                 3\n",
       "70                       3\n",
       "5                        3\n",
       "NORTE SANTANDER          3\n",
       "BOYACA                   2\n",
       "TOLIMA                   2\n",
       "CALDAS                   2\n",
       "GUAVIARE                 2\n",
       "CASANARE                 1\n",
       "NARIÑO                   1\n",
       "CAQUETA                  1\n",
       "CHOCO                    1\n",
       "54                       1\n",
       "CQ                       1\n",
       "23                       1\n",
       "52                       1\n",
       "68                       1\n",
       "Name: count, dtype: int64"
      ]
     },
     "execution_count": 81,
     "metadata": {},
     "output_type": "execute_result"
    }
   ],
   "source": [
    "df_final['departamento'].value_counts()"
   ]
  },
  {
   "cell_type": "code",
   "execution_count": 82,
   "id": "f937254e",
   "metadata": {},
   "outputs": [
    {
     "name": "stdout",
     "output_type": "stream",
     "text": [
      "(31800, 25)\n"
     ]
    }
   ],
   "source": [
    "# Filtrar solo los registros donde el departamento es ATLANTICO\n",
    "df_final = df_final[df_final['departamento'] == \"ATLANTICO\"]\n",
    "\n",
    "print(df_final.shape)  # para ver cuántos registros quedaron\n"
   ]
  },
  {
   "cell_type": "code",
   "execution_count": 83,
   "id": "386d6b10",
   "metadata": {},
   "outputs": [],
   "source": [
    "delete =['barrio', 'cod_dpto_o', 'cod_mun_o', 'direccion', 'localidad', 'departamento']\n",
    "df_final = df_final.drop(columns=delete, errors=\"ignore\")"
   ]
  },
  {
   "cell_type": "code",
   "execution_count": 84,
   "id": "460089c6",
   "metadata": {},
   "outputs": [
    {
     "name": "stdout",
     "output_type": "stream",
     "text": [
      "<class 'pandas.core.frame.DataFrame'>\n",
      "Index: 31800 entries, 0 to 32497\n",
      "Data columns (total 19 columns):\n",
      " #   Column                 Non-Null Count  Dtype \n",
      "---  ------                 --------------  ----- \n",
      " 0   area                   31800 non-null  int64 \n",
      " 1   año                    31800 non-null  int64 \n",
      " 2   edad                   31800 non-null  int64 \n",
      " 3   fecha_consulta         31800 non-null  object\n",
      " 4   fecha_hospitalizacion  31800 non-null  object\n",
      " 5   fecha_inicio_sintomas  31800 non-null  object\n",
      " 6   fecha_nacimiento       31800 non-null  object\n",
      " 7   fecha_notificacion     31800 non-null  object\n",
      " 8   hospitalizado          31800 non-null  int64 \n",
      " 9   muerte                 31800 non-null  int64 \n",
      " 10  municipio              31800 non-null  object\n",
      " 11  nombre_evento          31800 non-null  object\n",
      " 12  pertencia_etnica       31800 non-null  int64 \n",
      " 13  regimen_salud          31800 non-null  object\n",
      " 14  semana                 31800 non-null  int64 \n",
      " 15  sexo                   31800 non-null  object\n",
      " 16  tipo_de_caso           31800 non-null  int64 \n",
      " 17  uni_med_               31800 non-null  int64 \n",
      " 18  evento                 31800 non-null  object\n",
      "dtypes: int64(9), object(10)\n",
      "memory usage: 4.9+ MB\n"
     ]
    }
   ],
   "source": [
    "df_final.info()"
   ]
  },
  {
   "cell_type": "code",
   "execution_count": 85,
   "id": "11180cf0",
   "metadata": {},
   "outputs": [],
   "source": [
    "df = df_final"
   ]
  },
  {
   "cell_type": "code",
   "execution_count": 86,
   "id": "914ac1bb",
   "metadata": {},
   "outputs": [
    {
     "name": "stdout",
     "output_type": "stream",
     "text": [
      "['BARRANQUILLA' 'SOLEDAD' 'REPELON' 'JUAN DE ACOSTA' 'GALAPA' 'USIACURI'\n",
      " 'BARANOA' 'POLO NUEVO' 'SABANALARGA' 'SABANAGRANDE' 'MALAMBO' 'LURUACO'\n",
      " 'CAMPO DE LA CRUZ' 'SANTO TOMAS' 'desconocido' 'TUBARA' 'PONEDERA'\n",
      " 'PUERTO COLOMBIA' 'MANATI' 'CANDELARIA' 'PALMAR DE VARELA' 'SUAN' 'PIOJO'\n",
      " 'SANTA LUCIA']\n"
     ]
    }
   ],
   "source": [
    "# Reemplazar el valor específico\n",
    "df[\"municipio\"] = df[\"municipio\"].replace(\n",
    "    \"* ATLANTICO. MUNICIPIO DESCONO\", \"desconocido\"\n",
    ")\n",
    "\n",
    "# Verificar\n",
    "print(df[\"municipio\"].unique())"
   ]
  },
  {
   "cell_type": "code",
   "execution_count": 59,
   "id": "235cfbbe",
   "metadata": {},
   "outputs": [
    {
     "name": "stdout",
     "output_type": "stream",
     "text": [
      "<class 'pandas.core.frame.DataFrame'>\n",
      "Index: 32594 entries, 0 to 33185\n",
      "Data columns (total 19 columns):\n",
      " #   Column                 Non-Null Count  Dtype \n",
      "---  ------                 --------------  ----- \n",
      " 0   area                   32594 non-null  int64 \n",
      " 1   año                    32594 non-null  int64 \n",
      " 2   edad                   32594 non-null  int64 \n",
      " 3   fecha_consulta         32594 non-null  object\n",
      " 4   fecha_hospitalizacion  32594 non-null  object\n",
      " 5   fecha_inicio_sintomas  32594 non-null  object\n",
      " 6   fecha_nacimiento       32594 non-null  object\n",
      " 7   fecha_notificacion     32594 non-null  object\n",
      " 8   hospitalizado          32594 non-null  int64 \n",
      " 9   muerte                 32594 non-null  int64 \n",
      " 10  municipio              32594 non-null  object\n",
      " 11  nombre_evento          32594 non-null  object\n",
      " 12  pertencia_etnica       32594 non-null  int64 \n",
      " 13  regimen_salud          32594 non-null  object\n",
      " 14  semana                 32594 non-null  int64 \n",
      " 15  sexo                   32594 non-null  object\n",
      " 16  tipo_de_caso           32594 non-null  int64 \n",
      " 17  uni_med_               32594 non-null  int64 \n",
      " 18  evento                 32594 non-null  object\n",
      "dtypes: int64(9), object(10)\n",
      "memory usage: 5.0+ MB\n"
     ]
    }
   ],
   "source": [
    "df = df.drop(columns=[\"departamento\", 'cod_dpto_o'], errors=\"ignore\")\n",
    "df.info()"
   ]
  },
  {
   "cell_type": "code",
   "execution_count": 87,
   "id": "ba528d9b",
   "metadata": {},
   "outputs": [
    {
     "name": "stdout",
     "output_type": "stream",
     "text": [
      "✔️ Guardado en: C:\\Users\\Hp\\DENGUE\\Data\\data_atlantico.csv\n"
     ]
    }
   ],
   "source": [
    "import os\n",
    "\n",
    "ruta_salida = r\"C:\\Users\\Hp\\DENGUE\\Data\"\n",
    "archivo = \"data_atlantico.csv\"\n",
    "\n",
    "# Crear ruta completa\n",
    "path_out = os.path.join(ruta_salida, archivo)\n",
    "\n",
    "# Guardar\n",
    "df_final.to_csv(path_out, index=False, encoding=\"latin1\")\n",
    "print(f\"✔️ Guardado en: {path_out}\")"
   ]
  }
 ],
 "metadata": {
  "kernelspec": {
   "display_name": "dengue",
   "language": "python",
   "name": "python3"
  },
  "language_info": {
   "codemirror_mode": {
    "name": "ipython",
    "version": 3
   },
   "file_extension": ".py",
   "mimetype": "text/x-python",
   "name": "python",
   "nbconvert_exporter": "python",
   "pygments_lexer": "ipython3",
   "version": "3.12.11"
  }
 },
 "nbformat": 4,
 "nbformat_minor": 5
}
